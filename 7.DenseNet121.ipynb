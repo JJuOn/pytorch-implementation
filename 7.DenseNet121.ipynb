{
  "nbformat": 4,
  "nbformat_minor": 0,
  "metadata": {
    "colab": {
      "name": "7.DenseNet121",
      "provenance": [],
      "collapsed_sections": []
    },
    "kernelspec": {
      "name": "python3",
      "display_name": "Python 3"
    },
    "language_info": {
      "name": "python"
    },
    "accelerator": "GPU",
    "widgets": {
      "application/vnd.jupyter.widget-state+json": {
        "062b80264a2948cf8b8a778d18a88402": {
          "model_module": "@jupyter-widgets/controls",
          "model_name": "HBoxModel",
          "model_module_version": "1.5.0",
          "state": {
            "_dom_classes": [],
            "_model_module": "@jupyter-widgets/controls",
            "_model_module_version": "1.5.0",
            "_model_name": "HBoxModel",
            "_view_count": null,
            "_view_module": "@jupyter-widgets/controls",
            "_view_module_version": "1.5.0",
            "_view_name": "HBoxView",
            "box_style": "",
            "children": [
              "IPY_MODEL_0414f3bc1ce04d87bda1ea2708304444",
              "IPY_MODEL_96668a799931415b8af3300d41a84f5c",
              "IPY_MODEL_85edcd55448d40a99a71d1b8af2b3eb0"
            ],
            "layout": "IPY_MODEL_e70fb0720def4a4eb6f6f43737523a70"
          }
        },
        "0414f3bc1ce04d87bda1ea2708304444": {
          "model_module": "@jupyter-widgets/controls",
          "model_name": "HTMLModel",
          "model_module_version": "1.5.0",
          "state": {
            "_dom_classes": [],
            "_model_module": "@jupyter-widgets/controls",
            "_model_module_version": "1.5.0",
            "_model_name": "HTMLModel",
            "_view_count": null,
            "_view_module": "@jupyter-widgets/controls",
            "_view_module_version": "1.5.0",
            "_view_name": "HTMLView",
            "description": "",
            "description_tooltip": null,
            "layout": "IPY_MODEL_490e0b4883754c0bbc15dcc03e04391e",
            "placeholder": "​",
            "style": "IPY_MODEL_116146cd0482438ab073df6169dd41f6",
            "value": ""
          }
        },
        "96668a799931415b8af3300d41a84f5c": {
          "model_module": "@jupyter-widgets/controls",
          "model_name": "FloatProgressModel",
          "model_module_version": "1.5.0",
          "state": {
            "_dom_classes": [],
            "_model_module": "@jupyter-widgets/controls",
            "_model_module_version": "1.5.0",
            "_model_name": "FloatProgressModel",
            "_view_count": null,
            "_view_module": "@jupyter-widgets/controls",
            "_view_module_version": "1.5.0",
            "_view_name": "ProgressView",
            "bar_style": "success",
            "description": "",
            "description_tooltip": null,
            "layout": "IPY_MODEL_8e304f80720b4a29833c56de434349fe",
            "max": 169001437,
            "min": 0,
            "orientation": "horizontal",
            "style": "IPY_MODEL_e1fb2eb512494b22b35f06f64a925ee1",
            "value": 169001437
          }
        },
        "85edcd55448d40a99a71d1b8af2b3eb0": {
          "model_module": "@jupyter-widgets/controls",
          "model_name": "HTMLModel",
          "model_module_version": "1.5.0",
          "state": {
            "_dom_classes": [],
            "_model_module": "@jupyter-widgets/controls",
            "_model_module_version": "1.5.0",
            "_model_name": "HTMLModel",
            "_view_count": null,
            "_view_module": "@jupyter-widgets/controls",
            "_view_module_version": "1.5.0",
            "_view_name": "HTMLView",
            "description": "",
            "description_tooltip": null,
            "layout": "IPY_MODEL_f9f8872dd3574de4a1fa0ab27d27b999",
            "placeholder": "​",
            "style": "IPY_MODEL_79534775dfa844e2a3d0533d9475d830",
            "value": " 169001984/? [00:11&lt;00:00, 16934195.25it/s]"
          }
        },
        "e70fb0720def4a4eb6f6f43737523a70": {
          "model_module": "@jupyter-widgets/base",
          "model_name": "LayoutModel",
          "model_module_version": "1.2.0",
          "state": {
            "_model_module": "@jupyter-widgets/base",
            "_model_module_version": "1.2.0",
            "_model_name": "LayoutModel",
            "_view_count": null,
            "_view_module": "@jupyter-widgets/base",
            "_view_module_version": "1.2.0",
            "_view_name": "LayoutView",
            "align_content": null,
            "align_items": null,
            "align_self": null,
            "border": null,
            "bottom": null,
            "display": null,
            "flex": null,
            "flex_flow": null,
            "grid_area": null,
            "grid_auto_columns": null,
            "grid_auto_flow": null,
            "grid_auto_rows": null,
            "grid_column": null,
            "grid_gap": null,
            "grid_row": null,
            "grid_template_areas": null,
            "grid_template_columns": null,
            "grid_template_rows": null,
            "height": null,
            "justify_content": null,
            "justify_items": null,
            "left": null,
            "margin": null,
            "max_height": null,
            "max_width": null,
            "min_height": null,
            "min_width": null,
            "object_fit": null,
            "object_position": null,
            "order": null,
            "overflow": null,
            "overflow_x": null,
            "overflow_y": null,
            "padding": null,
            "right": null,
            "top": null,
            "visibility": null,
            "width": null
          }
        },
        "490e0b4883754c0bbc15dcc03e04391e": {
          "model_module": "@jupyter-widgets/base",
          "model_name": "LayoutModel",
          "model_module_version": "1.2.0",
          "state": {
            "_model_module": "@jupyter-widgets/base",
            "_model_module_version": "1.2.0",
            "_model_name": "LayoutModel",
            "_view_count": null,
            "_view_module": "@jupyter-widgets/base",
            "_view_module_version": "1.2.0",
            "_view_name": "LayoutView",
            "align_content": null,
            "align_items": null,
            "align_self": null,
            "border": null,
            "bottom": null,
            "display": null,
            "flex": null,
            "flex_flow": null,
            "grid_area": null,
            "grid_auto_columns": null,
            "grid_auto_flow": null,
            "grid_auto_rows": null,
            "grid_column": null,
            "grid_gap": null,
            "grid_row": null,
            "grid_template_areas": null,
            "grid_template_columns": null,
            "grid_template_rows": null,
            "height": null,
            "justify_content": null,
            "justify_items": null,
            "left": null,
            "margin": null,
            "max_height": null,
            "max_width": null,
            "min_height": null,
            "min_width": null,
            "object_fit": null,
            "object_position": null,
            "order": null,
            "overflow": null,
            "overflow_x": null,
            "overflow_y": null,
            "padding": null,
            "right": null,
            "top": null,
            "visibility": null,
            "width": null
          }
        },
        "116146cd0482438ab073df6169dd41f6": {
          "model_module": "@jupyter-widgets/controls",
          "model_name": "DescriptionStyleModel",
          "model_module_version": "1.5.0",
          "state": {
            "_model_module": "@jupyter-widgets/controls",
            "_model_module_version": "1.5.0",
            "_model_name": "DescriptionStyleModel",
            "_view_count": null,
            "_view_module": "@jupyter-widgets/base",
            "_view_module_version": "1.2.0",
            "_view_name": "StyleView",
            "description_width": ""
          }
        },
        "8e304f80720b4a29833c56de434349fe": {
          "model_module": "@jupyter-widgets/base",
          "model_name": "LayoutModel",
          "model_module_version": "1.2.0",
          "state": {
            "_model_module": "@jupyter-widgets/base",
            "_model_module_version": "1.2.0",
            "_model_name": "LayoutModel",
            "_view_count": null,
            "_view_module": "@jupyter-widgets/base",
            "_view_module_version": "1.2.0",
            "_view_name": "LayoutView",
            "align_content": null,
            "align_items": null,
            "align_self": null,
            "border": null,
            "bottom": null,
            "display": null,
            "flex": null,
            "flex_flow": null,
            "grid_area": null,
            "grid_auto_columns": null,
            "grid_auto_flow": null,
            "grid_auto_rows": null,
            "grid_column": null,
            "grid_gap": null,
            "grid_row": null,
            "grid_template_areas": null,
            "grid_template_columns": null,
            "grid_template_rows": null,
            "height": null,
            "justify_content": null,
            "justify_items": null,
            "left": null,
            "margin": null,
            "max_height": null,
            "max_width": null,
            "min_height": null,
            "min_width": null,
            "object_fit": null,
            "object_position": null,
            "order": null,
            "overflow": null,
            "overflow_x": null,
            "overflow_y": null,
            "padding": null,
            "right": null,
            "top": null,
            "visibility": null,
            "width": null
          }
        },
        "e1fb2eb512494b22b35f06f64a925ee1": {
          "model_module": "@jupyter-widgets/controls",
          "model_name": "ProgressStyleModel",
          "model_module_version": "1.5.0",
          "state": {
            "_model_module": "@jupyter-widgets/controls",
            "_model_module_version": "1.5.0",
            "_model_name": "ProgressStyleModel",
            "_view_count": null,
            "_view_module": "@jupyter-widgets/base",
            "_view_module_version": "1.2.0",
            "_view_name": "StyleView",
            "bar_color": null,
            "description_width": ""
          }
        },
        "f9f8872dd3574de4a1fa0ab27d27b999": {
          "model_module": "@jupyter-widgets/base",
          "model_name": "LayoutModel",
          "model_module_version": "1.2.0",
          "state": {
            "_model_module": "@jupyter-widgets/base",
            "_model_module_version": "1.2.0",
            "_model_name": "LayoutModel",
            "_view_count": null,
            "_view_module": "@jupyter-widgets/base",
            "_view_module_version": "1.2.0",
            "_view_name": "LayoutView",
            "align_content": null,
            "align_items": null,
            "align_self": null,
            "border": null,
            "bottom": null,
            "display": null,
            "flex": null,
            "flex_flow": null,
            "grid_area": null,
            "grid_auto_columns": null,
            "grid_auto_flow": null,
            "grid_auto_rows": null,
            "grid_column": null,
            "grid_gap": null,
            "grid_row": null,
            "grid_template_areas": null,
            "grid_template_columns": null,
            "grid_template_rows": null,
            "height": null,
            "justify_content": null,
            "justify_items": null,
            "left": null,
            "margin": null,
            "max_height": null,
            "max_width": null,
            "min_height": null,
            "min_width": null,
            "object_fit": null,
            "object_position": null,
            "order": null,
            "overflow": null,
            "overflow_x": null,
            "overflow_y": null,
            "padding": null,
            "right": null,
            "top": null,
            "visibility": null,
            "width": null
          }
        },
        "79534775dfa844e2a3d0533d9475d830": {
          "model_module": "@jupyter-widgets/controls",
          "model_name": "DescriptionStyleModel",
          "model_module_version": "1.5.0",
          "state": {
            "_model_module": "@jupyter-widgets/controls",
            "_model_module_version": "1.5.0",
            "_model_name": "DescriptionStyleModel",
            "_view_count": null,
            "_view_module": "@jupyter-widgets/base",
            "_view_module_version": "1.2.0",
            "_view_name": "StyleView",
            "description_width": ""
          }
        }
      }
    }
  },
  "cells": [
    {
      "cell_type": "code",
      "source": [
        "!nvidia-smi"
      ],
      "metadata": {
        "colab": {
          "base_uri": "https://localhost:8080/"
        },
        "id": "FzL2Ietw4xHe",
        "outputId": "4a3ac301-02fe-4d8a-dd1a-8418159e5c1b"
      },
      "execution_count": null,
      "outputs": [
        {
          "output_type": "stream",
          "name": "stdout",
          "text": [
            "Wed May 11 05:24:57 2022       \n",
            "+-----------------------------------------------------------------------------+\n",
            "| NVIDIA-SMI 460.32.03    Driver Version: 460.32.03    CUDA Version: 11.2     |\n",
            "|-------------------------------+----------------------+----------------------+\n",
            "| GPU  Name        Persistence-M| Bus-Id        Disp.A | Volatile Uncorr. ECC |\n",
            "| Fan  Temp  Perf  Pwr:Usage/Cap|         Memory-Usage | GPU-Util  Compute M. |\n",
            "|                               |                      |               MIG M. |\n",
            "|===============================+======================+======================|\n",
            "|   0  Tesla P100-PCIE...  Off  | 00000000:00:04.0 Off |                    0 |\n",
            "| N/A   35C    P0    28W / 250W |      0MiB / 16280MiB |      0%      Default |\n",
            "|                               |                      |                  N/A |\n",
            "+-------------------------------+----------------------+----------------------+\n",
            "                                                                               \n",
            "+-----------------------------------------------------------------------------+\n",
            "| Processes:                                                                  |\n",
            "|  GPU   GI   CI        PID   Type   Process name                  GPU Memory |\n",
            "|        ID   ID                                                   Usage      |\n",
            "|=============================================================================|\n",
            "|  No running processes found                                                 |\n",
            "+-----------------------------------------------------------------------------+\n"
          ]
        }
      ]
    },
    {
      "cell_type": "markdown",
      "source": [
        "# Import modules"
      ],
      "metadata": {
        "id": "j4u57X0Y-p6Z"
      }
    },
    {
      "cell_type": "code",
      "execution_count": null,
      "metadata": {
        "id": "gDmtlj9u-Hop"
      },
      "outputs": [],
      "source": [
        "import torch\n",
        "\n",
        "import torch.nn.functional as F\n",
        "import numpy as np\n",
        "import pandas as pd\n",
        "import matplotlib.pyplot as plt\n",
        "\n",
        "from torch import nn, optim\n",
        "from torch.utils.data import Dataset, DataLoader, random_split\n",
        "from torchvision.datasets import CIFAR100\n",
        "from torch.cuda import is_available\n",
        "from torchvision import transforms\n",
        "from datetime import datetime\n",
        "\n",
        "%matplotlib inline"
      ]
    },
    {
      "cell_type": "code",
      "source": [
        "device='cuda' if is_available() else 'cpu'\n",
        "device"
      ],
      "metadata": {
        "id": "3rcB9-7x-kcX",
        "colab": {
          "base_uri": "https://localhost:8080/",
          "height": 35
        },
        "outputId": "3ab8c418-7828-4e74-bd85-0e52845a3c06"
      },
      "execution_count": null,
      "outputs": [
        {
          "output_type": "execute_result",
          "data": {
            "text/plain": [
              "'cuda'"
            ],
            "application/vnd.google.colaboratory.intrinsic+json": {
              "type": "string"
            }
          },
          "metadata": {},
          "execution_count": 4
        }
      ]
    },
    {
      "cell_type": "markdown",
      "source": [
        "# Download dataset and calculate means and stds"
      ],
      "metadata": {
        "id": "E-Jy-mt4-uTd"
      }
    },
    {
      "cell_type": "code",
      "source": [
        "all_data=CIFAR100(root='.',train=True,transform=transforms.ToTensor(),download=True)\n",
        "\n",
        "meanRGB=[np.mean(x.numpy(),axis=(1,2)) for x,_ in all_data]\n",
        "stdRGB=[np.std(x.numpy(),axis=(1,2)) for x,_ in all_data]\n",
        "\n",
        "meanR = np.mean([m[0] for m in meanRGB])\n",
        "meanG = np.mean([m[1] for m in meanRGB])\n",
        "meanB = np.mean([m[2] for m in meanRGB])\n",
        "\n",
        "stdR = np.mean([s[0] for s in stdRGB])\n",
        "stdG = np.mean([s[1] for s in stdRGB])\n",
        "stdB = np.mean([s[2] for s in stdRGB])\n",
        "\n",
        "print('Mean:',meanR, meanG, meanB)\n",
        "print('Std:',stdR, stdG, stdB)"
      ],
      "metadata": {
        "id": "LkzwSlZw-lis",
        "colab": {
          "base_uri": "https://localhost:8080/",
          "height": 122,
          "referenced_widgets": [
            "062b80264a2948cf8b8a778d18a88402",
            "0414f3bc1ce04d87bda1ea2708304444",
            "96668a799931415b8af3300d41a84f5c",
            "85edcd55448d40a99a71d1b8af2b3eb0",
            "e70fb0720def4a4eb6f6f43737523a70",
            "490e0b4883754c0bbc15dcc03e04391e",
            "116146cd0482438ab073df6169dd41f6",
            "8e304f80720b4a29833c56de434349fe",
            "e1fb2eb512494b22b35f06f64a925ee1",
            "f9f8872dd3574de4a1fa0ab27d27b999",
            "79534775dfa844e2a3d0533d9475d830"
          ]
        },
        "outputId": "45c2e429-c064-4d93-ec33-5319da048bb4"
      },
      "execution_count": null,
      "outputs": [
        {
          "output_type": "stream",
          "name": "stdout",
          "text": [
            "Downloading https://www.cs.toronto.edu/~kriz/cifar-100-python.tar.gz to ./cifar-100-python.tar.gz\n"
          ]
        },
        {
          "output_type": "display_data",
          "data": {
            "text/plain": [
              "  0%|          | 0/169001437 [00:00<?, ?it/s]"
            ],
            "application/vnd.jupyter.widget-view+json": {
              "version_major": 2,
              "version_minor": 0,
              "model_id": "062b80264a2948cf8b8a778d18a88402"
            }
          },
          "metadata": {}
        },
        {
          "output_type": "stream",
          "name": "stdout",
          "text": [
            "Extracting ./cifar-100-python.tar.gz to .\n",
            "Mean: 0.50707513 0.48654887 0.44091785\n",
            "Std: 0.20079845 0.19834627 0.20219834\n"
          ]
        }
      ]
    },
    {
      "cell_type": "markdown",
      "source": [
        "# Implement CustomSubset\n",
        "\n",
        "To use different augmentations to train subset and validation subset."
      ],
      "metadata": {
        "id": "PVDL6RR6-yTo"
      }
    },
    {
      "cell_type": "code",
      "source": [
        "class CustomSubset(Dataset):\n",
        "    def __init__(self,Subset,transform=None):\n",
        "        super(CustomSubset,self).__init__()\n",
        "        self.Subset=Subset\n",
        "        self.indices=Subset.indices\n",
        "        self.transform=transform\n",
        "\n",
        "    def __len__(self):\n",
        "        return len(self.Subset)\n",
        "\n",
        "    def __getitem__(self,idx):\n",
        "        img,label=self.Subset[idx]\n",
        "        if self.transform is not None:\n",
        "            img=self.transform(img)\n",
        "        return img,label"
      ],
      "metadata": {
        "id": "MPIy9GPn-mx3"
      },
      "execution_count": null,
      "outputs": []
    },
    {
      "cell_type": "code",
      "source": [
        "transform={\n",
        "    'train':transforms.Compose([\n",
        "                                transforms.RandomCrop((32, 32), padding=4),\n",
        "                                transforms.RandomHorizontalFlip(),\n",
        "                                transforms.RandomRotation(15),\n",
        "                                transforms.ToTensor(),\n",
        "                                transforms.Normalize([meanR,meanG,meanB],[stdR,stdG,stdB])\n",
        "            ]),\n",
        "    'test':transforms.Compose([\n",
        "                               transforms.ToTensor(),\n",
        "                               transforms.Normalize([meanR,meanG,meanB],[stdR,stdG,stdB])\n",
        "            ])\n",
        "}\n",
        "\n",
        "train_ratio=0.8\n",
        "train_data_len=int(len(all_data)*0.8)\n",
        "valid_data_len=len(all_data)-train_data_len\n",
        "\n",
        "train_data,valid_data=random_split(all_data,[train_data_len,valid_data_len])\n",
        "\n",
        "all_data.transform=None\n",
        "train_data=CustomSubset(train_data,transform['train'])\n",
        "valid_data=CustomSubset(valid_data,transform['test'])\n",
        "test_data=CIFAR100(root='.',train=False,transform=transform['test'],download=True)"
      ],
      "metadata": {
        "id": "_kvU4As_-1lu",
        "colab": {
          "base_uri": "https://localhost:8080/"
        },
        "outputId": "db766c11-0990-4b17-f9c5-10c84e57daef"
      },
      "execution_count": null,
      "outputs": [
        {
          "output_type": "stream",
          "name": "stdout",
          "text": [
            "Files already downloaded and verified\n"
          ]
        }
      ]
    },
    {
      "cell_type": "markdown",
      "source": [
        "# Define blocks"
      ],
      "metadata": {
        "id": "Qfu351Dn-5Nj"
      }
    },
    {
      "cell_type": "code",
      "source": [
        "class BottleNeck(nn.Module):\n",
        "    def __init__(self, in_channels, growth_rate):\n",
        "        super(BottleNeck, self).__init__()\n",
        "        inner_channels = 4 * growth_rate\n",
        "        self.bottle_neck = nn.Sequential(nn.BatchNorm2d(in_channels),\n",
        "                                         nn.ReLU(inplace=True),\n",
        "                                         nn.Conv2d(in_channels, inner_channels, kernel_size=1, bias=False),\n",
        "                                         nn.BatchNorm2d(inner_channels),\n",
        "                                         nn.ReLU(inplace=True),\n",
        "                                         nn.Conv2d(inner_channels, growth_rate, kernel_size=3, padding=1, bias=False))\n",
        "            \n",
        "    def forward(self, x):\n",
        "        return torch.cat([x, self.bottle_neck(x)], dim=1)\n",
        "\n",
        "class Transition(nn.Module):\n",
        "    def __init__(self, in_channels, out_channels):\n",
        "        super(Transition, self).__init__()\n",
        "        self.down_sample = nn.Sequential(nn.BatchNorm2d(in_channels),\n",
        "                                         nn.Conv2d(in_channels, out_channels, kernel_size=1, bias=False),\n",
        "                                         nn.AvgPool2d(kernel_size=2, stride=2))\n",
        "        \n",
        "    def forward(self, x):\n",
        "        return self.down_sample(x)"
      ],
      "metadata": {
        "id": "kdwNMynN-3uO"
      },
      "execution_count": null,
      "outputs": []
    },
    {
      "cell_type": "markdown",
      "source": [
        "# Define DenseNet121"
      ],
      "metadata": {
        "id": "eXtEmTUYH2B6"
      }
    },
    {
      "cell_type": "code",
      "source": [
        "class DenseNet121(nn.Module):\n",
        "    def __init__(self, num_blocks=[6, 12, 24, 16], num_classes=100, growth_rate=32, reduction=0.5):\n",
        "        super(DenseNet121, self).__init__()\n",
        "        self.growth_rate = growth_rate\n",
        "\n",
        "        inner_channels = 2 * growth_rate\n",
        "        \n",
        "        self.conv1 = nn.Conv2d(3, inner_channels, kernel_size=3, padding=1, bias=False)\n",
        "\n",
        "        self.features = nn.Sequential()\n",
        "\n",
        "        for idx in range(len(num_blocks)):\n",
        "            dense_layers = []\n",
        "            for j in range(num_blocks[idx]):\n",
        "                dense_layers.append(BottleNeck(inner_channels, self.growth_rate))\n",
        "                inner_channels += self.growth_rate\n",
        "            self.features.add_module(f'dense_block_layer_{idx}', nn.Sequential(*dense_layers))\n",
        "            if idx != (len(num_blocks) - 1):\n",
        "                out_channels = int(reduction * inner_channels)\n",
        "                self.features.add_module(f'transition_layer_{idx}', Transition(inner_channels, out_channels))\n",
        "                inner_channels = out_channels\n",
        "\n",
        "        self.features.add_module('bn', nn.BatchNorm2d(inner_channels))\n",
        "        self.features.add_module('relu', nn.ReLU(inplace=True))\n",
        "        \n",
        "        self.avgpool = nn.AdaptiveAvgPool2d((1, 1))\n",
        "        self.linear = nn.Linear(inner_channels, num_classes)\n",
        "\n",
        "    def forward(self, x):\n",
        "        x = self.conv1(x)\n",
        "        x = self.features(x)\n",
        "        x = self.avgpool(x)\n",
        "        x = x.view(x.shape[0], -1)\n",
        "        x = self.linear(x)\n",
        "        return x\n",
        "        "
      ],
      "metadata": {
        "id": "EwV3rcAzDz3V"
      },
      "execution_count": null,
      "outputs": []
    },
    {
      "cell_type": "markdown",
      "source": [
        "# Prepare training step"
      ],
      "metadata": {
        "id": "EFtmfn_nH7W0"
      }
    },
    {
      "cell_type": "code",
      "source": [
        "batch_size = 128\n",
        "\n",
        "train_loader = DataLoader(train_data, batch_size=batch_size, shuffle=True)\n",
        "valid_loader = DataLoader(valid_data, batch_size=batch_size, shuffle=False)\n",
        "test_loader = DataLoader(test_data, batch_size=batch_size, shuffle=False)"
      ],
      "metadata": {
        "id": "sk6Ma591H6Es"
      },
      "execution_count": null,
      "outputs": []
    },
    {
      "cell_type": "code",
      "source": [
        "model = DenseNet121(num_classes=100)\n",
        "criterion = nn.CrossEntropyLoss()\n",
        "optimizer = optim.Adam(model.parameters(), lr=0.01, weight_decay=0.0005)\n",
        "\n",
        "model = model.to(device)\n",
        "criterion = criterion.to(device)"
      ],
      "metadata": {
        "id": "pEXzbNF2H-mE"
      },
      "execution_count": null,
      "outputs": []
    },
    {
      "cell_type": "markdown",
      "source": [
        "# Train and validation"
      ],
      "metadata": {
        "id": "bWbJwC6UIA9M"
      }
    },
    {
      "cell_type": "code",
      "source": [
        "def train(model, criterion, optimizer, train_loader, valid_loader, num_epochs=10, print_every=1, early_stop=None, model_path='densenet121.pth'):\n",
        "    train_logs = {'Loss':[], 'Accuracy':[]}\n",
        "    valid_logs = {'Loss':[], 'Accuracy':[]}\n",
        "    try:\n",
        "        patience = 0\n",
        "        best_acc = -np.inf\n",
        "        start_time = datetime.now()\n",
        "        for epoch in range(num_epochs):\n",
        "            train_loss = 0\n",
        "            valid_loss = 0\n",
        "            train_acc = 0\n",
        "            valid_acc = 0\n",
        "            # training step\n",
        "            model.train()\n",
        "            for data, target in train_loader:\n",
        "                optimizer.zero_grad()\n",
        "                data, target = data.to(device), target.to(device)\n",
        "                pred = model(data)\n",
        "                loss = criterion(pred,target)\n",
        "                loss.backward()\n",
        "                optimizer.step()\n",
        "                train_loss += loss.item() * data.size(0)\n",
        "                train_acc += torch.sum(pred.argmax(1) == target).item()\n",
        "            train_loss /= len(train_data)\n",
        "            train_acc /= len(train_data)\n",
        "            train_logs['Loss'].append(train_loss)\n",
        "            train_logs['Accuracy'].append(train_acc)\n",
        "            if (epoch + 1) % print_every == 0:\n",
        "                print('Training   Epoch {} - Loss : {:.8f} Accuracy : {:.4f}% Time elapsed: {}'.format(epoch, train_loss, train_acc * 100, datetime.now() - start_time))\n",
        "            # validation step\n",
        "            with torch.no_grad():\n",
        "                model.eval()\n",
        "                for data, target in valid_loader:\n",
        "                    data, target = data.to(device), target.to(device)\n",
        "                    pred = model(data)\n",
        "                    loss = criterion(pred,target)\n",
        "                    valid_loss += loss.item() * data.size(0)\n",
        "                    valid_acc += torch.sum(pred.argmax(1) == target).item()\n",
        "                valid_loss /= len(valid_data)\n",
        "                valid_acc /= len(valid_data)\n",
        "                valid_logs['Loss'].append(valid_loss)\n",
        "                valid_logs['Accuracy'].append(valid_acc)\n",
        "                if (epoch+1) % print_every == 0:\n",
        "                    print('Validation Epoch {} - Loss : {:.8f} Accuracy : {:.4f}% Time elapsed: {}'.format(epoch, valid_loss, valid_acc * 100, datetime.now() - start_time))\n",
        "                if valid_acc > best_acc:\n",
        "                    best_acc = valid_acc\n",
        "                    torch.save(model.state_dict(), model_path)\n",
        "                    if early_stop is not None:\n",
        "                        patience = 0\n",
        "                elif early_stop is not None:\n",
        "                    patience += 1\n",
        "                    if patience >= early_stop:\n",
        "                        print('Training finished by early stopping')\n",
        "                        return train_logs, valid_logs\n",
        "        return train_logs, valid_logs\n",
        "    except KeyboardInterrupt:\n",
        "        return train_logs, valid_logs"
      ],
      "metadata": {
        "id": "kgExxjagIAVP"
      },
      "execution_count": null,
      "outputs": []
    },
    {
      "cell_type": "code",
      "source": [
        "train_logs, valid_logs = train(model=model,\n",
        "                               criterion=criterion,\n",
        "                               optimizer=optimizer,\n",
        "                               train_loader=train_loader,\n",
        "                               valid_loader=valid_loader,\n",
        "                               num_epochs=50,\n",
        "                               print_every=1,\n",
        "                               early_stop=None,\n",
        "                               model_path='densenet121.pth')"
      ],
      "metadata": {
        "id": "WKTA9jaiIFk1",
        "colab": {
          "base_uri": "https://localhost:8080/"
        },
        "outputId": "9f91fdf1-5ba4-4ad0-996b-3d7a7a0a124f"
      },
      "execution_count": null,
      "outputs": [
        {
          "output_type": "stream",
          "name": "stdout",
          "text": [
            "Training   Epoch 0 - Loss : 4.16967633 Accuracy : 6.0800% Time elapsed: 0:01:49.299993\n",
            "Validation Epoch 0 - Loss : 11.28758694 Accuracy : 1.7200% Time elapsed: 0:01:58.392492\n",
            "Training   Epoch 1 - Loss : 3.75929782 Accuracy : 11.3825% Time elapsed: 0:03:47.500052\n",
            "Validation Epoch 1 - Loss : 3.87460337 Accuracy : 10.5900% Time elapsed: 0:03:56.560028\n",
            "Training   Epoch 2 - Loss : 3.58359371 Accuracy : 14.4300% Time elapsed: 0:05:45.606955\n",
            "Validation Epoch 2 - Loss : 3.69462843 Accuracy : 13.4200% Time elapsed: 0:05:54.638145\n",
            "Training   Epoch 3 - Loss : 3.47948880 Accuracy : 16.6825% Time elapsed: 0:07:43.793777\n",
            "Validation Epoch 3 - Loss : 3.57701419 Accuracy : 15.8600% Time elapsed: 0:07:52.855109\n",
            "Training   Epoch 4 - Loss : 3.39812981 Accuracy : 17.8600% Time elapsed: 0:09:41.867607\n",
            "Validation Epoch 4 - Loss : 4.44294021 Accuracy : 13.5200% Time elapsed: 0:09:50.907305\n",
            "Training   Epoch 5 - Loss : 3.32397045 Accuracy : 19.5075% Time elapsed: 0:11:39.863152\n",
            "Validation Epoch 5 - Loss : 3.32199351 Accuracy : 19.8800% Time elapsed: 0:11:48.935397\n",
            "Training   Epoch 6 - Loss : 3.26276886 Accuracy : 20.4775% Time elapsed: 0:13:38.097848\n",
            "Validation Epoch 6 - Loss : 3.40050370 Accuracy : 18.7800% Time elapsed: 0:13:47.171954\n",
            "Training   Epoch 7 - Loss : 3.21169119 Accuracy : 21.4700% Time elapsed: 0:15:36.036867\n",
            "Validation Epoch 7 - Loss : 3.28092428 Accuracy : 20.4100% Time elapsed: 0:15:45.077003\n",
            "Training   Epoch 8 - Loss : 3.17197496 Accuracy : 22.0500% Time elapsed: 0:17:34.291684\n",
            "Validation Epoch 8 - Loss : 3.32405701 Accuracy : 20.0900% Time elapsed: 0:17:43.387607\n",
            "Training   Epoch 9 - Loss : 3.14102995 Accuracy : 22.8475% Time elapsed: 0:19:32.405401\n",
            "Validation Epoch 9 - Loss : 3.22338396 Accuracy : 22.5400% Time elapsed: 0:19:41.472916\n",
            "Training   Epoch 10 - Loss : 3.12111187 Accuracy : 22.9525% Time elapsed: 0:21:30.589399\n",
            "Validation Epoch 10 - Loss : 3.15358748 Accuracy : 22.8900% Time elapsed: 0:21:39.715851\n",
            "Training   Epoch 11 - Loss : 3.09159887 Accuracy : 23.9400% Time elapsed: 0:23:29.115425\n",
            "Validation Epoch 11 - Loss : 3.26065306 Accuracy : 20.9000% Time elapsed: 0:23:38.199129\n",
            "Training   Epoch 12 - Loss : 3.07583472 Accuracy : 23.8825% Time elapsed: 0:25:27.533099\n",
            "Validation Epoch 12 - Loss : 3.22177992 Accuracy : 22.5100% Time elapsed: 0:25:36.649641\n",
            "Training   Epoch 13 - Loss : 3.05818813 Accuracy : 24.3350% Time elapsed: 0:27:26.082996\n",
            "Validation Epoch 13 - Loss : 3.15102903 Accuracy : 22.8600% Time elapsed: 0:27:35.217111\n",
            "Training   Epoch 14 - Loss : 3.04466142 Accuracy : 24.5325% Time elapsed: 0:29:24.480902\n",
            "Validation Epoch 14 - Loss : 3.08189848 Accuracy : 24.5200% Time elapsed: 0:29:33.570538\n",
            "Training   Epoch 15 - Loss : 3.03090068 Accuracy : 24.8500% Time elapsed: 0:31:23.225499\n",
            "Validation Epoch 15 - Loss : 3.30189754 Accuracy : 21.3900% Time elapsed: 0:31:32.328055\n",
            "Training   Epoch 16 - Loss : 3.02602354 Accuracy : 24.6950% Time elapsed: 0:33:22.019282\n",
            "Validation Epoch 16 - Loss : 3.30565864 Accuracy : 21.5300% Time elapsed: 0:33:31.141609\n",
            "Training   Epoch 17 - Loss : 3.00548053 Accuracy : 25.3300% Time elapsed: 0:35:20.680724\n",
            "Validation Epoch 17 - Loss : 3.16100496 Accuracy : 23.1600% Time elapsed: 0:35:29.823052\n",
            "Training   Epoch 18 - Loss : 2.99012606 Accuracy : 25.6950% Time elapsed: 0:37:19.616671\n",
            "Validation Epoch 18 - Loss : 3.36602310 Accuracy : 20.5300% Time elapsed: 0:37:28.778776\n",
            "Training   Epoch 19 - Loss : 2.99292977 Accuracy : 25.5950% Time elapsed: 0:39:18.483512\n",
            "Validation Epoch 19 - Loss : 3.12676731 Accuracy : 24.3700% Time elapsed: 0:39:27.615700\n",
            "Training   Epoch 20 - Loss : 2.97925419 Accuracy : 25.6425% Time elapsed: 0:41:17.173940\n",
            "Validation Epoch 20 - Loss : 3.13238910 Accuracy : 23.2900% Time elapsed: 0:41:26.297416\n",
            "Training   Epoch 21 - Loss : 2.96689448 Accuracy : 25.7950% Time elapsed: 0:43:15.971553\n",
            "Validation Epoch 21 - Loss : 3.00879996 Accuracy : 25.7400% Time elapsed: 0:43:25.122603\n",
            "Training   Epoch 22 - Loss : 2.94882589 Accuracy : 26.1425% Time elapsed: 0:45:14.776915\n",
            "Validation Epoch 22 - Loss : 2.99528989 Accuracy : 25.4800% Time elapsed: 0:45:23.921917\n",
            "Training   Epoch 23 - Loss : 2.93597286 Accuracy : 26.1150% Time elapsed: 0:47:13.686141\n",
            "Validation Epoch 23 - Loss : 2.97951862 Accuracy : 26.1400% Time elapsed: 0:47:22.849795\n",
            "Training   Epoch 24 - Loss : 2.92420621 Accuracy : 26.7175% Time elapsed: 0:49:12.848422\n",
            "Validation Epoch 24 - Loss : 3.76188433 Accuracy : 16.7000% Time elapsed: 0:49:22.041204\n",
            "Training   Epoch 25 - Loss : 2.91865366 Accuracy : 26.8700% Time elapsed: 0:51:12.085290\n",
            "Validation Epoch 25 - Loss : 3.48676669 Accuracy : 20.4600% Time elapsed: 0:51:21.244915\n",
            "Training   Epoch 26 - Loss : 2.89604565 Accuracy : 27.1975% Time elapsed: 0:53:11.127717\n",
            "Validation Epoch 26 - Loss : 3.04908756 Accuracy : 25.4200% Time elapsed: 0:53:20.291462\n",
            "Training   Epoch 27 - Loss : 2.88752125 Accuracy : 27.3325% Time elapsed: 0:55:10.168347\n",
            "Validation Epoch 27 - Loss : 3.10098367 Accuracy : 24.7600% Time elapsed: 0:55:19.358297\n",
            "Training   Epoch 28 - Loss : 2.87517133 Accuracy : 27.3875% Time elapsed: 0:57:10.170324\n",
            "Validation Epoch 28 - Loss : 3.26996320 Accuracy : 22.4300% Time elapsed: 0:57:19.532054\n",
            "Training   Epoch 29 - Loss : 2.85901018 Accuracy : 28.0100% Time elapsed: 0:59:10.683525\n",
            "Validation Epoch 29 - Loss : 2.89991029 Accuracy : 27.1300% Time elapsed: 0:59:19.960887\n",
            "Training   Epoch 30 - Loss : 2.85077030 Accuracy : 28.0925% Time elapsed: 1:01:12.156668\n",
            "Validation Epoch 30 - Loss : 3.11263430 Accuracy : 23.8200% Time elapsed: 1:01:21.760198\n",
            "Training   Epoch 31 - Loss : 2.83883856 Accuracy : 28.2575% Time elapsed: 1:03:14.162909\n",
            "Validation Epoch 31 - Loss : 3.18764416 Accuracy : 24.9100% Time elapsed: 1:03:23.463201\n",
            "Training   Epoch 32 - Loss : 2.83734111 Accuracy : 28.4525% Time elapsed: 1:05:15.314587\n",
            "Validation Epoch 32 - Loss : 3.62029708 Accuracy : 21.0900% Time elapsed: 1:05:24.826670\n",
            "Training   Epoch 33 - Loss : 2.82761872 Accuracy : 28.4425% Time elapsed: 1:07:16.932863\n",
            "Validation Epoch 33 - Loss : 2.92909534 Accuracy : 27.1000% Time elapsed: 1:07:26.127833\n",
            "Training   Epoch 34 - Loss : 2.81632771 Accuracy : 28.8700% Time elapsed: 1:09:16.979674\n",
            "Validation Epoch 34 - Loss : 2.91596871 Accuracy : 27.4600% Time elapsed: 1:09:26.270866\n",
            "Training   Epoch 35 - Loss : 2.80952579 Accuracy : 28.8200% Time elapsed: 1:11:17.668734\n",
            "Validation Epoch 35 - Loss : 3.04899911 Accuracy : 26.1100% Time elapsed: 1:11:27.054871\n",
            "Training   Epoch 36 - Loss : 2.80742613 Accuracy : 28.8175% Time elapsed: 1:13:19.184966\n",
            "Validation Epoch 36 - Loss : 3.11851974 Accuracy : 23.8700% Time elapsed: 1:13:28.597627\n",
            "Training   Epoch 37 - Loss : 2.79950903 Accuracy : 28.8225% Time elapsed: 1:15:20.872333\n",
            "Validation Epoch 37 - Loss : 3.30163677 Accuracy : 22.5400% Time elapsed: 1:15:30.447842\n",
            "Training   Epoch 38 - Loss : 2.79374180 Accuracy : 28.9025% Time elapsed: 1:17:23.056131\n",
            "Validation Epoch 38 - Loss : 2.87472243 Accuracy : 28.0700% Time elapsed: 1:17:32.615538\n",
            "Training   Epoch 39 - Loss : 2.78915014 Accuracy : 29.2675% Time elapsed: 1:19:25.901990\n",
            "Validation Epoch 39 - Loss : 3.24238107 Accuracy : 23.4600% Time elapsed: 1:19:35.339370\n",
            "Training   Epoch 40 - Loss : 2.79430637 Accuracy : 29.3425% Time elapsed: 1:21:28.502107\n",
            "Validation Epoch 40 - Loss : 2.94385030 Accuracy : 26.4100% Time elapsed: 1:21:37.959970\n",
            "Training   Epoch 41 - Loss : 2.78593278 Accuracy : 29.4025% Time elapsed: 1:23:30.973527\n",
            "Validation Epoch 41 - Loss : 3.65068094 Accuracy : 20.4600% Time elapsed: 1:23:40.676878\n",
            "Training   Epoch 42 - Loss : 2.78218551 Accuracy : 29.1175% Time elapsed: 1:25:34.106959\n",
            "Validation Epoch 42 - Loss : 3.26337817 Accuracy : 21.2100% Time elapsed: 1:25:43.616658\n",
            "Training   Epoch 43 - Loss : 2.77822182 Accuracy : 29.3075% Time elapsed: 1:27:36.785457\n",
            "Validation Epoch 43 - Loss : 2.97507341 Accuracy : 26.3500% Time elapsed: 1:27:46.199298\n",
            "Training   Epoch 44 - Loss : 2.77450965 Accuracy : 29.3600% Time elapsed: 1:29:39.855407\n",
            "Validation Epoch 44 - Loss : 2.98822631 Accuracy : 26.6800% Time elapsed: 1:29:49.379263\n",
            "Training   Epoch 45 - Loss : 2.76888296 Accuracy : 29.8300% Time elapsed: 1:31:42.440532\n",
            "Validation Epoch 45 - Loss : 3.19013537 Accuracy : 24.3100% Time elapsed: 1:31:51.970036\n",
            "Training   Epoch 46 - Loss : 2.77006302 Accuracy : 29.4650% Time elapsed: 1:33:44.905125\n",
            "Validation Epoch 46 - Loss : 3.05380845 Accuracy : 24.3800% Time elapsed: 1:33:54.427370\n",
            "Training   Epoch 47 - Loss : 2.77247504 Accuracy : 29.6450% Time elapsed: 1:35:48.029620\n",
            "Validation Epoch 47 - Loss : 2.88583034 Accuracy : 27.2300% Time elapsed: 1:35:57.584565\n",
            "Training   Epoch 48 - Loss : 2.76294770 Accuracy : 29.8800% Time elapsed: 1:37:51.326716\n",
            "Validation Epoch 48 - Loss : 3.06336610 Accuracy : 24.5300% Time elapsed: 1:38:00.882775\n",
            "Training   Epoch 49 - Loss : 2.75510997 Accuracy : 29.8450% Time elapsed: 1:39:53.311356\n",
            "Validation Epoch 49 - Loss : 3.65926583 Accuracy : 17.4300% Time elapsed: 1:40:02.758465\n"
          ]
        }
      ]
    },
    {
      "cell_type": "code",
      "source": [
        "plt.xlabel('Epoch')\n",
        "plt.ylabel('Loss')\n",
        "plt.plot([i for i in range(len(train_logs['Loss']))], train_logs['Loss'], label='train_loss')\n",
        "plt.plot([i for i in range(len(valid_logs['Loss']))], valid_logs['Loss'], label='valid_loss')\n",
        "plt.legend()\n",
        "plt.show()"
      ],
      "metadata": {
        "id": "9pLcY3OQIGn4",
        "colab": {
          "base_uri": "https://localhost:8080/"
        },
        "outputId": "6ed70192-2594-4202-b519-6687ada97d93"
      },
      "execution_count": null,
      "outputs": [
        {
          "output_type": "display_data",
          "data": {
            "text/plain": [
              "<Figure size 432x288 with 1 Axes>"
            ],
            "image/png": "[encoded data removed]"
          },
          "metadata": {
            "needs_background": "light"
          }
        }
      ]
    },
    {
      "cell_type": "code",
      "source": [
        "plt.xlabel('Epoch')\n",
        "plt.ylabel('Accuracy')\n",
        "plt.plot([i for i in range(len(train_logs['Accuracy']))], train_logs['Accuracy'], label='train_acc')\n",
        "plt.plot([i for i in range(len(valid_logs['Accuracy']))], valid_logs['Accuracy'], label='valid_acc')\n",
        "plt.legend()\n",
        "plt.show()"
      ],
      "metadata": {
        "id": "1-ofcKwoIHyB",
        "colab": {
          "base_uri": "https://localhost:8080/"
        },
        "outputId": "ffb09eb2-ca73-4e93-8b91-2833d1b40452"
      },
      "execution_count": null,
      "outputs": [
        {
          "output_type": "display_data",
          "data": {
            "text/plain": [
              "<Figure size 432x288 with 1 Axes>"
            ],
            "image/png": "[encoded data removed]"
          },
          "metadata": {
            "needs_background": "light"
          }
        }
      ]
    },
    {
      "cell_type": "markdown",
      "source": [
        "# Test"
      ],
      "metadata": {
        "id": "_2Sfbcf0IKPp"
      }
    },
    {
      "cell_type": "code",
      "source": [
        "model.load_state_dict(torch.load('densenet121.pth'))\n",
        "model = model.to(device)"
      ],
      "metadata": {
        "id": "uTM7oNm-IJoD"
      },
      "execution_count": null,
      "outputs": []
    },
    {
      "cell_type": "code",
      "source": [
        "def test(model,criterion,test_loader):\n",
        "    test_loss = 0\n",
        "    test_acc = 0\n",
        "    result_table = pd.DataFrame(columns=['Prediction', 'Target'])\n",
        "    with torch.no_grad():\n",
        "        model.eval()\n",
        "        for data, target in test_loader:\n",
        "            data, target = data.to(device) ,target.to(device)\n",
        "            pred = model(data)\n",
        "            loss = criterion(pred, target)\n",
        "            test_loss += loss.item() * data.size(0)\n",
        "            test_acc += torch.sum(pred.argmax(1) == target).item()\n",
        "            for p, t in zip(pred.argmax(1), target):\n",
        "                result_table = result_table.append({'Prediction':p.item(), 'Target':t.item()}, ignore_index=True)\n",
        "        test_loss /= len(test_data)\n",
        "        test_acc /= len(test_data)\n",
        "    return test_loss, test_acc, result_table"
      ],
      "metadata": {
        "id": "DxnjNEyZINSw"
      },
      "execution_count": null,
      "outputs": []
    },
    {
      "cell_type": "code",
      "source": [
        "test_loss, test_acc, result_table = test(model=model,\n",
        "                                         criterion=criterion,\n",
        "                                         test_loader=test_loader)"
      ],
      "metadata": {
        "id": "SDcUjiY-IOLY"
      },
      "execution_count": null,
      "outputs": []
    },
    {
      "cell_type": "code",
      "source": [
        "print('Test Loss : {:.8f} Test Accuracy : {:.4f}%'.format(test_loss, test_acc * 100))"
      ],
      "metadata": {
        "id": "Cns95EknIO2m",
        "colab": {
          "base_uri": "https://localhost:8080/"
        },
        "outputId": "87ab2ed8-c106-42b4-b55a-47c030e63760"
      },
      "execution_count": null,
      "outputs": [
        {
          "output_type": "stream",
          "name": "stdout",
          "text": [
            "Test Loss : 2.84657677 Test Accuracy : 28.2900%\n"
          ]
        }
      ]
    },
    {
      "cell_type": "code",
      "source": [
        "result_table"
      ],
      "metadata": {
        "id": "-ct3SRrHIPgp",
        "colab": {
          "base_uri": "https://localhost:8080/"
        },
        "outputId": "9098e23d-c099-450b-aeab-0472dfcea912"
      },
      "execution_count": null,
      "outputs": [
        {
          "output_type": "execute_result",
          "data": {
            "text/plain": [
              "     Prediction Target\n",
              "0            49     49\n",
              "1            63     33\n",
              "2            89     72\n",
              "3            58     51\n",
              "4            71     71\n",
              "...         ...    ...\n",
              "9995         92     83\n",
              "9996         74     14\n",
              "9997         33     51\n",
              "9998         42     42\n",
              "9999         92     70\n",
              "\n",
              "[10000 rows x 2 columns]"
            ],
            "text/html": [
              "\n",
              "  <div id=\"df-cd5d175a-d7ec-46a6-9ad8-0a36d77b3514\">\n",
              "    <div class=\"colab-df-container\">\n",
              "      <div>\n",
              "<style scoped>\n",
              "    .dataframe tbody tr th:only-of-type {\n",
              "        vertical-align: middle;\n",
              "    }\n",
              "\n",
              "    .dataframe tbody tr th {\n",
              "        vertical-align: top;\n",
              "    }\n",
              "\n",
              "    .dataframe thead th {\n",
              "        text-align: right;\n",
              "    }\n",
              "</style>\n",
              "<table border=\"1\" class=\"dataframe\">\n",
              "  <thead>\n",
              "    <tr style=\"text-align: right;\">\n",
              "      <th></th>\n",
              "      <th>Prediction</th>\n",
              "      <th>Target</th>\n",
              "    </tr>\n",
              "  </thead>\n",
              "  <tbody>\n",
              "    <tr>\n",
              "      <th>0</th>\n",
              "      <td>49</td>\n",
              "      <td>49</td>\n",
              "    </tr>\n",
              "    <tr>\n",
              "      <th>1</th>\n",
              "      <td>63</td>\n",
              "      <td>33</td>\n",
              "    </tr>\n",
              "    <tr>\n",
              "      <th>2</th>\n",
              "      <td>89</td>\n",
              "      <td>72</td>\n",
              "    </tr>\n",
              "    <tr>\n",
              "      <th>3</th>\n",
              "      <td>58</td>\n",
              "      <td>51</td>\n",
              "    </tr>\n",
              "    <tr>\n",
              "      <th>4</th>\n",
              "      <td>71</td>\n",
              "      <td>71</td>\n",
              "    </tr>\n",
              "    <tr>\n",
              "      <th>...</th>\n",
              "      <td>...</td>\n",
              "      <td>...</td>\n",
              "    </tr>\n",
              "    <tr>\n",
              "      <th>9995</th>\n",
              "      <td>92</td>\n",
              "      <td>83</td>\n",
              "    </tr>\n",
              "    <tr>\n",
              "      <th>9996</th>\n",
              "      <td>74</td>\n",
              "      <td>14</td>\n",
              "    </tr>\n",
              "    <tr>\n",
              "      <th>9997</th>\n",
              "      <td>33</td>\n",
              "      <td>51</td>\n",
              "    </tr>\n",
              "    <tr>\n",
              "      <th>9998</th>\n",
              "      <td>42</td>\n",
              "      <td>42</td>\n",
              "    </tr>\n",
              "    <tr>\n",
              "      <th>9999</th>\n",
              "      <td>92</td>\n",
              "      <td>70</td>\n",
              "    </tr>\n",
              "  </tbody>\n",
              "</table>\n",
              "<p>10000 rows × 2 columns</p>\n",
              "</div>\n",
              "      <button class=\"colab-df-convert\" onclick=\"convertToInteractive('df-cd5d175a-d7ec-46a6-9ad8-0a36d77b3514')\"\n",
              "              title=\"Convert this dataframe to an interactive table.\"\n",
              "              style=\"display:none;\">\n",
              "        \n",
              "  <svg xmlns=\"http://www.w3.org/2000/svg\" height=\"24px\"viewBox=\"0 0 24 24\"\n",
              "       width=\"24px\">\n",
              "    <path d=\"M0 0h24v24H0V0z\" fill=\"none\"/>\n",
              "    <path d=\"M18.56 5.44l.94 2.06.94-2.06 2.06-.94-2.06-.94-.94-2.06-.94 2.06-2.06.94zm-11 1L8.5 8.5l.94-2.06 2.06-.94-2.06-.94L8.5 2.5l-.94 2.06-2.06.94zm10 10l.94 2.06.94-2.06 2.06-.94-2.06-.94-.94-2.06-.94 2.06-2.06.94z\"/><path d=\"M17.41 7.96l-1.37-1.37c-.4-.4-.92-.59-1.43-.59-.52 0-1.04.2-1.43.59L10.3 9.45l-7.72 7.72c-.78.78-.78 2.05 0 2.83L4 21.41c.39.39.9.59 1.41.59.51 0 1.02-.2 1.41-.59l7.78-7.78 2.81-2.81c.8-.78.8-2.07 0-2.86zM5.41 20L4 18.59l7.72-7.72 1.47 1.35L5.41 20z\"/>\n",
              "  </svg>\n",
              "      </button>\n",
              "      \n",
              "  <style>\n",
              "    .colab-df-container {\n",
              "      display:flex;\n",
              "      flex-wrap:wrap;\n",
              "      gap: 12px;\n",
              "    }\n",
              "\n",
              "    .colab-df-convert {\n",
              "      background-color: #E8F0FE;\n",
              "      border: none;\n",
              "      border-radius: 50%;\n",
              "      cursor: pointer;\n",
              "      display: none;\n",
              "      fill: #1967D2;\n",
              "      height: 32px;\n",
              "      padding: 0 0 0 0;\n",
              "      width: 32px;\n",
              "    }\n",
              "\n",
              "    .colab-df-convert:hover {\n",
              "      background-color: #E2EBFA;\n",
              "      box-shadow: 0px 1px 2px rgba(60, 64, 67, 0.3), 0px 1px 3px 1px rgba(60, 64, 67, 0.15);\n",
              "      fill: #174EA6;\n",
              "    }\n",
              "\n",
              "    [theme=dark] .colab-df-convert {\n",
              "      background-color: #3B4455;\n",
              "      fill: #D2E3FC;\n",
              "    }\n",
              "\n",
              "    [theme=dark] .colab-df-convert:hover {\n",
              "      background-color: #434B5C;\n",
              "      box-shadow: 0px 1px 3px 1px rgba(0, 0, 0, 0.15);\n",
              "      filter: drop-shadow(0px 1px 2px rgba(0, 0, 0, 0.3));\n",
              "      fill: #FFFFFF;\n",
              "    }\n",
              "  </style>\n",
              "\n",
              "      <script>\n",
              "        const buttonEl =\n",
              "          document.querySelector('#df-cd5d175a-d7ec-46a6-9ad8-0a36d77b3514 button.colab-df-convert');\n",
              "        buttonEl.style.display =\n",
              "          google.colab.kernel.accessAllowed ? 'block' : 'none';\n",
              "\n",
              "        async function convertToInteractive(key) {\n",
              "          const element = document.querySelector('#df-cd5d175a-d7ec-46a6-9ad8-0a36d77b3514');\n",
              "          const dataTable =\n",
              "            await google.colab.kernel.invokeFunction('convertToInteractive',\n",
              "                                                     [key], {});\n",
              "          if (!dataTable) return;\n",
              "\n",
              "          const docLinkHtml = 'Like what you see? Visit the ' +\n",
              "            '<a target=\"_blank\" href=https://colab.research.google.com/notebooks/data_table.ipynb>data table notebook</a>'\n",
              "            + ' to learn more about interactive tables.';\n",
              "          element.innerHTML = '';\n",
              "          dataTable['output_type'] = 'display_data';\n",
              "          await google.colab.output.renderOutput(dataTable, element);\n",
              "          const docLink = document.createElement('div');\n",
              "          docLink.innerHTML = docLinkHtml;\n",
              "          element.appendChild(docLink);\n",
              "        }\n",
              "      </script>\n",
              "    </div>\n",
              "  </div>\n",
              "  "
            ]
          },
          "metadata": {},
          "execution_count": 63
        }
      ]
    }
  ]
}