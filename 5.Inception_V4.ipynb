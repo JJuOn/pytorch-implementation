{
  "cells": [
    {
      "cell_type": "code",
      "execution_count": null,
      "metadata": {
        "colab": {
          "base_uri": "https://localhost:8080/"
        },
        "id": "FzL2Ietw4xHe",
        "outputId": "a6311a72-c7a4-4abf-c202-2ea8728df063"
      },
      "outputs": [
        {
          "output_type": "stream",
          "name": "stdout",
          "text": [
            "Wed May 11 05:23:24 2022       \n",
            "+-----------------------------------------------------------------------------+\n",
            "| NVIDIA-SMI 460.32.03    Driver Version: 460.32.03    CUDA Version: 11.2     |\n",
            "|-------------------------------+----------------------+----------------------+\n",
            "| GPU  Name        Persistence-M| Bus-Id        Disp.A | Volatile Uncorr. ECC |\n",
            "| Fan  Temp  Perf  Pwr:Usage/Cap|         Memory-Usage | GPU-Util  Compute M. |\n",
            "|                               |                      |               MIG M. |\n",
            "|===============================+======================+======================|\n",
            "|   0  Tesla P100-PCIE...  Off  | 00000000:00:04.0 Off |                    0 |\n",
            "| N/A   42C    P0    27W / 250W |      0MiB / 16280MiB |      0%      Default |\n",
            "|                               |                      |                  N/A |\n",
            "+-------------------------------+----------------------+----------------------+\n",
            "                                                                               \n",
            "+-----------------------------------------------------------------------------+\n",
            "| Processes:                                                                  |\n",
            "|  GPU   GI   CI        PID   Type   Process name                  GPU Memory |\n",
            "|        ID   ID                                                   Usage      |\n",
            "|=============================================================================|\n",
            "|  No running processes found                                                 |\n",
            "+-----------------------------------------------------------------------------+\n"
          ]
        }
      ],
      "source": [
        "!nvidia-smi"
      ]
    },
    {
      "cell_type": "markdown",
      "metadata": {
        "id": "j4u57X0Y-p6Z"
      },
      "source": [
        "# Import modules"
      ]
    },
    {
      "cell_type": "code",
      "execution_count": null,
      "metadata": {
        "id": "gDmtlj9u-Hop"
      },
      "outputs": [],
      "source": [
        "import torch\n",
        "\n",
        "import torch.nn.functional as F\n",
        "import numpy as np\n",
        "import pandas as pd\n",
        "import matplotlib.pyplot as plt\n",
        "\n",
        "from torch import nn, optim\n",
        "from torch.utils.data import Dataset, DataLoader, random_split\n",
        "from torchvision.datasets import CIFAR100\n",
        "from torch.cuda import is_available\n",
        "from torchvision import transforms\n",
        "from datetime import datetime\n",
        "\n",
        "%matplotlib inline"
      ]
    },
    {
      "cell_type": "code",
      "execution_count": null,
      "metadata": {
        "colab": {
          "base_uri": "https://localhost:8080/",
          "height": 35
        },
        "id": "3rcB9-7x-kcX",
        "outputId": "6f689584-b7f5-4de1-d879-040e43c0f09c"
      },
      "outputs": [
        {
          "output_type": "execute_result",
          "data": {
            "text/plain": [
              "'cuda'"
            ],
            "application/vnd.google.colaboratory.intrinsic+json": {
              "type": "string"
            }
          },
          "metadata": {},
          "execution_count": 3
        }
      ],
      "source": [
        "device='cuda' if is_available() else 'cpu'\n",
        "device"
      ]
    },
    {
      "cell_type": "markdown",
      "metadata": {
        "id": "E-Jy-mt4-uTd"
      },
      "source": [
        "# Download dataset and calculate means and stds"
      ]
    },
    {
      "cell_type": "code",
      "execution_count": null,
      "metadata": {
        "colab": {
          "base_uri": "https://localhost:8080/",
          "height": 122,
          "referenced_widgets": [
            "e105919bb14e48b88fe83778b92c9fec",
            "4064c57cc5074f27b47749f1bd3fd41b",
            "d08cd572a8dd489e95da26a7e573a9b1",
            "8a7c6687aa3246f69db88579a1488e5b",
            "f9eff75870c84eedbade4daca70db0b0",
            "7e0b8c3371114a7f82f6e3d3b41cdc84",
            "45d96562c96546de9bac81f57e9d19d2",
            "f6155fcda9a24b3fbdd5884d1db4614b",
            "8899f82d70aa45e782632dc495fcc254",
            "541ba9ed553340b59bb6e7c869d9d78f",
            "a3a6a2a88d734bb2b4da995a600d6f32"
          ]
        },
        "id": "LkzwSlZw-lis",
        "outputId": "747addb2-9a93-4116-83f6-fda701fe3c46"
      },
      "outputs": [
        {
          "output_type": "stream",
          "name": "stdout",
          "text": [
            "Downloading https://www.cs.toronto.edu/~kriz/cifar-100-python.tar.gz to ./cifar-100-python.tar.gz\n"
          ]
        },
        {
          "output_type": "display_data",
          "data": {
            "text/plain": [
              "  0%|          | 0/169001437 [00:00<?, ?it/s]"
            ],
            "application/vnd.jupyter.widget-view+json": {
              "version_major": 2,
              "version_minor": 0,
              "model_id": "e105919bb14e48b88fe83778b92c9fec"
            }
          },
          "metadata": {}
        },
        {
          "output_type": "stream",
          "name": "stdout",
          "text": [
            "Extracting ./cifar-100-python.tar.gz to .\n",
            "Mean: 0.50707513 0.48654887 0.44091785\n",
            "Std: 0.20079845 0.19834627 0.20219834\n"
          ]
        }
      ],
      "source": [
        "all_data=CIFAR100(root='.',train=True,transform=transforms.ToTensor(),download=True)\n",
        "\n",
        "meanRGB=[np.mean(x.numpy(),axis=(1,2)) for x,_ in all_data]\n",
        "stdRGB=[np.std(x.numpy(),axis=(1,2)) for x,_ in all_data]\n",
        "\n",
        "meanR = np.mean([m[0] for m in meanRGB])\n",
        "meanG = np.mean([m[1] for m in meanRGB])\n",
        "meanB = np.mean([m[2] for m in meanRGB])\n",
        "\n",
        "stdR = np.mean([s[0] for s in stdRGB])\n",
        "stdG = np.mean([s[1] for s in stdRGB])\n",
        "stdB = np.mean([s[2] for s in stdRGB])\n",
        "\n",
        "print('Mean:',meanR, meanG, meanB)\n",
        "print('Std:',stdR, stdG, stdB)"
      ]
    },
    {
      "cell_type": "markdown",
      "metadata": {
        "id": "PVDL6RR6-yTo"
      },
      "source": [
        "# Implement CustomSubset\n",
        "\n",
        "To use different augmentations to train subset and validation subset."
      ]
    },
    {
      "cell_type": "code",
      "execution_count": null,
      "metadata": {
        "id": "MPIy9GPn-mx3"
      },
      "outputs": [],
      "source": [
        "class CustomSubset(Dataset):\n",
        "    def __init__(self,Subset,transform=None):\n",
        "        super(CustomSubset,self).__init__()\n",
        "        self.Subset=Subset\n",
        "        self.indices=Subset.indices\n",
        "        self.transform=transform\n",
        "\n",
        "    def __len__(self):\n",
        "        return len(self.Subset)\n",
        "\n",
        "    def __getitem__(self,idx):\n",
        "        img,label=self.Subset[idx]\n",
        "        if self.transform is not None:\n",
        "            img=self.transform(img)\n",
        "        return img,label"
      ]
    },
    {
      "cell_type": "code",
      "execution_count": null,
      "metadata": {
        "colab": {
          "base_uri": "https://localhost:8080/"
        },
        "id": "_kvU4As_-1lu",
        "outputId": "410b7ac3-cc6c-481b-e13e-c19bb076c89f"
      },
      "outputs": [
        {
          "output_type": "stream",
          "name": "stdout",
          "text": [
            "Files already downloaded and verified\n"
          ]
        }
      ],
      "source": [
        "transform={\n",
        "    'train':transforms.Compose([\n",
        "                                transforms.RandomCrop((32, 32), padding=4),\n",
        "                                transforms.RandomHorizontalFlip(),\n",
        "                                transforms.RandomRotation(15),\n",
        "                                transforms.ToTensor(),\n",
        "                                transforms.Normalize([meanR,meanG,meanB],[stdR,stdG,stdB])\n",
        "            ]),\n",
        "    'test':transforms.Compose([\n",
        "                               transforms.ToTensor(),\n",
        "                               transforms.Normalize([meanR,meanG,meanB],[stdR,stdG,stdB])\n",
        "            ])\n",
        "}\n",
        "\n",
        "train_ratio=0.8\n",
        "train_data_len=int(len(all_data)*0.8)\n",
        "valid_data_len=len(all_data)-train_data_len\n",
        "\n",
        "train_data,valid_data=random_split(all_data,[train_data_len,valid_data_len])\n",
        "\n",
        "all_data.transform=None\n",
        "train_data=CustomSubset(train_data,transform['train'])\n",
        "valid_data=CustomSubset(valid_data,transform['test'])\n",
        "test_data=CIFAR100(root='.',train=False,transform=transform['test'],download=True)"
      ]
    },
    {
      "cell_type": "markdown",
      "metadata": {
        "id": "Qfu351Dn-5Nj"
      },
      "source": [
        "# Define blocks"
      ]
    },
    {
      "cell_type": "code",
      "execution_count": null,
      "metadata": {
        "id": "kdwNMynN-3uO"
      },
      "outputs": [],
      "source": [
        "class BasicConv2d(nn.Module):\n",
        "    def __init__(self, in_channels, out_channels, **kwargs):\n",
        "        super(BasicConv2d, self).__init__()\n",
        "\n",
        "        self.conv = nn.Conv2d(in_channels, out_channels, bias=False, **kwargs)\n",
        "\n",
        "        self.bn = nn.BatchNorm2d(out_channels, eps=0.001)\n",
        "\n",
        "        self.relu = nn.ReLU(inplace=True)\n",
        "    \n",
        "    def forward(self, x):\n",
        "        x = self.conv(x)\n",
        "        x = self.bn(x)\n",
        "        x = self.relu(x)\n",
        "        return x\n",
        "\n",
        "\n",
        "class InceptionStem(nn.Module):\n",
        "    def __init__(self, input_channels):\n",
        "        super(InceptionStem, self).__init__()\n",
        "        self.conv1 = nn.Sequential(\n",
        "            BasicConv2d(input_channels, 32, kernel_size=3),\n",
        "            BasicConv2d(32, 32, kernel_size=3, padding=1),\n",
        "            BasicConv2d(32, 64, kernel_size=3, padding=1)\n",
        "        )\n",
        "\n",
        "        self.branch3x3_conv = BasicConv2d(64, 96, kernel_size=3, padding=1)\n",
        "        self.branch3x3_pool = nn.MaxPool2d(3, stride=1, padding=1)\n",
        "\n",
        "        self.branch7x7a = nn.Sequential(\n",
        "            BasicConv2d(160, 64, kernel_size=1),\n",
        "            BasicConv2d(64, 64, kernel_size=(7, 1), padding=(3, 0)),\n",
        "            BasicConv2d(64, 64, kernel_size=(1, 7), padding=(0, 3)),\n",
        "            BasicConv2d(64, 96, kernel_size=3, padding=1)\n",
        "        )\n",
        "\n",
        "        self.branch7x7b = nn.Sequential(\n",
        "            BasicConv2d(160, 64, kernel_size=1),\n",
        "            BasicConv2d(64, 96, kernel_size=3, padding=1)\n",
        "        )\n",
        "\n",
        "        self.branchpoola = nn.MaxPool2d(kernel_size=3, stride=1, padding=1)\n",
        "        self.branchpoolb = BasicConv2d(192, 192, kernel_size=3, stride=1, padding=1)\n",
        "\n",
        "    def forward(self, x):\n",
        "\n",
        "        x = self.conv1(x)\n",
        "\n",
        "        x = [\n",
        "            self.branch3x3_conv(x),\n",
        "            self.branch3x3_pool(x)\n",
        "        ]\n",
        "        x = torch.cat(x, 1)\n",
        "\n",
        "        x = [\n",
        "            self.branch7x7a(x),\n",
        "            self.branch7x7b(x)\n",
        "        ]\n",
        "        x = torch.cat(x, 1)\n",
        "\n",
        "        x = [\n",
        "            self.branchpoola(x),\n",
        "            self.branchpoolb(x)\n",
        "        ]\n",
        "\n",
        "        x = torch.cat(x, 1)\n",
        "\n",
        "        return x\n",
        "\n",
        "\n",
        "class InceptionA(nn.Module):\n",
        "    def __init__(self, in_channels=384, pool_features=96):\n",
        "        super(InceptionA, self).__init__()\n",
        "\n",
        "        self.branch3x3stack = nn.Sequential(BasicConv2d(in_channels, 64, kernel_size=1),\n",
        "                                            BasicConv2d(64, 96, kernel_size=3, padding=1),\n",
        "                                            BasicConv2d(96, 96, kernel_size=3, padding=1))\n",
        "\n",
        "        self.branch3x3 = nn.Sequential(BasicConv2d(in_channels, 64, kernel_size=1),\n",
        "                                       BasicConv2d(64, 96, kernel_size=3, padding=1))\n",
        "\n",
        "        self.branch1x1 = BasicConv2d(in_channels, 96, kernel_size=1)\n",
        "\n",
        "        self.branchpool = nn.Sequential(\n",
        "            nn.AvgPool2d(kernel_size=3, stride=1, padding=1),\n",
        "            BasicConv2d(in_channels, 96, kernel_size=1))\n",
        "\n",
        "    def forward(self, x):\n",
        "        x = [\n",
        "            self.branch3x3stack(x),\n",
        "            self.branch3x3(x),\n",
        "            self.branch1x1(x),\n",
        "            self.branchpool(x)\n",
        "        ]\n",
        "\n",
        "        return torch.cat(x, dim=1)\n",
        "\n",
        "# k=192, l=224, m=256, n=384\n",
        "class ReductionA(nn.Module):\n",
        "    def __init__(self, in_channels=384):\n",
        "\n",
        "        super().__init__()\n",
        "        self.branch3x3stack = nn.Sequential(\n",
        "            BasicConv2d(in_channels, 192, kernel_size=1),\n",
        "            BasicConv2d(192, 224, kernel_size=3, padding=1),\n",
        "            BasicConv2d(224, 256, kernel_size=3, stride=2)\n",
        "        )\n",
        "\n",
        "        self.branch3x3 = BasicConv2d(in_channels, 384, kernel_size=3, stride=2)\n",
        "        self.branchpool = nn.MaxPool2d(kernel_size=3, stride=2)\n",
        "\n",
        "    def forward(self, x):\n",
        "\n",
        "        x = [\n",
        "            self.branch3x3stack(x),\n",
        "            self.branch3x3(x),\n",
        "            self.branchpool(x)\n",
        "        ]\n",
        "\n",
        "        return torch.cat(x, 1)\n",
        "\n",
        "\n",
        "class InceptionB(nn.Module):\n",
        "    def __init__(self, in_channels=1024):\n",
        "        super().__init__()\n",
        "\n",
        "        self.branch7x7stack = nn.Sequential(\n",
        "            BasicConv2d(in_channels, 192, kernel_size=1),\n",
        "            BasicConv2d(192, 192, kernel_size=(1, 7), padding=(0, 3)),\n",
        "            BasicConv2d(192, 224, kernel_size=(7, 1), padding=(3, 0)),\n",
        "            BasicConv2d(224, 224, kernel_size=(1, 7), padding=(0, 3)),\n",
        "            BasicConv2d(224, 256, kernel_size=(7, 1), padding=(3, 0))\n",
        "        )\n",
        "\n",
        "        self.branch7x7 = nn.Sequential(\n",
        "            BasicConv2d(in_channels, 192, kernel_size=1),\n",
        "            BasicConv2d(192, 224, kernel_size=(1, 7), padding=(0, 3)),\n",
        "            BasicConv2d(224, 256, kernel_size=(7, 1), padding=(3, 0))\n",
        "        )\n",
        "\n",
        "        self.branch1x1 = BasicConv2d(in_channels, 384, kernel_size=1)\n",
        "\n",
        "        self.branchpool = nn.Sequential(\n",
        "            nn.AvgPool2d(3, stride=1, padding=1),\n",
        "            BasicConv2d(in_channels, 128, kernel_size=1)\n",
        "        )\n",
        "\n",
        "    def forward(self, x):\n",
        "        x = [\n",
        "            self.branch1x1(x),\n",
        "            self.branch7x7(x),\n",
        "            self.branch7x7stack(x),\n",
        "            self.branchpool(x)\n",
        "        ]\n",
        "\n",
        "        return torch.cat(x, 1)\n",
        "\n",
        "\n",
        "class ReductionB(nn.Module):\n",
        "    def __init__(self, in_channels=1024):\n",
        "\n",
        "        super().__init__()\n",
        "        self.branch7x7 = nn.Sequential(\n",
        "            BasicConv2d(in_channels, 256, kernel_size=1),\n",
        "            BasicConv2d(256, 256, kernel_size=(1, 7), padding=(0, 3)),\n",
        "            BasicConv2d(256, 320, kernel_size=(7, 1), padding=(3, 0)),\n",
        "            BasicConv2d(320, 320, kernel_size=3, stride=2, padding=1)\n",
        "        )\n",
        "\n",
        "        self.branch3x3 = nn.Sequential(\n",
        "            BasicConv2d(in_channels, 192, kernel_size=1),\n",
        "            BasicConv2d(192, 192, kernel_size=3, stride=2, padding=1)\n",
        "        )\n",
        "\n",
        "        self.branchpool = nn.MaxPool2d(kernel_size=3, stride=2, padding=1)\n",
        "\n",
        "    def forward(self, x):\n",
        "\n",
        "        x = [\n",
        "            self.branch3x3(x),\n",
        "            self.branch7x7(x),\n",
        "            self.branchpool(x)\n",
        "        ]\n",
        "\n",
        "        return torch.cat(x, 1)\n",
        "\n",
        "class InceptionC(nn.Module):\n",
        "    def __init__(self, in_channels=1536):\n",
        "        super().__init__()\n",
        "\n",
        "        self.branch3x3stack = nn.Sequential(\n",
        "            BasicConv2d(in_channels, 384, kernel_size=1),\n",
        "            BasicConv2d(384, 448, kernel_size=(1, 3), padding=(0, 1)),\n",
        "            BasicConv2d(448, 512, kernel_size=(3, 1), padding=(1, 0)),\n",
        "        )\n",
        "        self.branch3x3stacka = BasicConv2d(512, 256, kernel_size=(1, 3), padding=(0, 1))\n",
        "        self.branch3x3stackb = BasicConv2d(512, 256, kernel_size=(3, 1), padding=(1, 0))\n",
        "\n",
        "        self.branch3x3 = BasicConv2d(in_channels, 384, kernel_size=1)\n",
        "        self.branch3x3a = BasicConv2d(384, 256, kernel_size=(3, 1), padding=(1, 0))\n",
        "        self.branch3x3b = BasicConv2d(384, 256, kernel_size=(1, 3), padding=(0, 1))\n",
        "\n",
        "        self.branch1x1 = BasicConv2d(in_channels, 256, kernel_size=1)\n",
        "\n",
        "        self.branchpool = nn.Sequential(\n",
        "            nn.AvgPool2d(kernel_size=3, stride=1, padding=1),\n",
        "            BasicConv2d(in_channels, 256, kernel_size=1)\n",
        "        )\n",
        "\n",
        "    def forward(self, x):\n",
        "        branch3x3stack_output = self.branch3x3stack(x)\n",
        "        branch3x3stack_output = [\n",
        "            self.branch3x3stacka(branch3x3stack_output),\n",
        "            self.branch3x3stackb(branch3x3stack_output)\n",
        "        ]\n",
        "        branch3x3stack_output = torch.cat(branch3x3stack_output, 1)\n",
        "\n",
        "        branch3x3_output = self.branch3x3(x)\n",
        "        branch3x3_output = [\n",
        "            self.branch3x3a(branch3x3_output),\n",
        "            self.branch3x3b(branch3x3_output)\n",
        "        ]\n",
        "        branch3x3_output = torch.cat(branch3x3_output, 1)\n",
        "\n",
        "        branch1x1_output = self.branch1x1(x)\n",
        "\n",
        "        branchpool = self.branchpool(x)\n",
        "\n",
        "        output = [\n",
        "            branch1x1_output,\n",
        "            branch3x3_output,\n",
        "            branch3x3stack_output,\n",
        "            branchpool\n",
        "        ]\n",
        "\n",
        "        return torch.cat(output, 1)"
      ]
    },
    {
      "cell_type": "markdown",
      "metadata": {
        "id": "eXtEmTUYH2B6"
      },
      "source": [
        "# Define Inception V4"
      ]
    },
    {
      "cell_type": "code",
      "execution_count": null,
      "metadata": {
        "id": "EwV3rcAzDz3V"
      },
      "outputs": [],
      "source": [
        "class InceptionV4(nn.Module):\n",
        "    def __init__(self, num_classes=100):\n",
        "        super().__init__()\n",
        "        self.stem = InceptionStem(3)\n",
        "        self.inception_a = nn.Sequential(InceptionA(384),\n",
        "                                         InceptionA(384),\n",
        "                                         InceptionA(384),\n",
        "                                         InceptionA(384))\n",
        "        self.reduction_a = ReductionA(384)\n",
        "        self.inception_b = nn.Sequential(InceptionB(1024),\n",
        "                                         InceptionB(1024),\n",
        "                                         InceptionB(1024),\n",
        "                                         InceptionB(1024),\n",
        "                                         InceptionB(1024),\n",
        "                                         InceptionB(1024),\n",
        "                                         InceptionB(1024))\n",
        "        self.reduction_b = ReductionB(1024)\n",
        "        self.inception_c = nn.Sequential(InceptionC(1536),\n",
        "                                         InceptionC(1536),\n",
        "                                         InceptionC(1536))\n",
        "        self.avgpool = nn.AvgPool2d(7)\n",
        "\n",
        "        self.dropout = nn.Dropout2d(1 - 0.8)\n",
        "        self.linear = nn.Linear(1536, num_classes)\n",
        "\n",
        "    def forward(self, x):\n",
        "        x = self.stem(x)\n",
        "        x = self.inception_a(x)\n",
        "        x = self.reduction_a(x)\n",
        "        x = self.inception_b(x)\n",
        "        x = self.reduction_b(x)\n",
        "        x = self.inception_c(x)\n",
        "        x = self.avgpool(x)\n",
        "        x = self.dropout(x)\n",
        "        x = x.view(-1, 1536)\n",
        "        x = self.linear(x)\n",
        "\n",
        "        return x"
      ]
    },
    {
      "cell_type": "markdown",
      "metadata": {
        "id": "EFtmfn_nH7W0"
      },
      "source": [
        "# Prepare training step"
      ]
    },
    {
      "cell_type": "code",
      "execution_count": null,
      "metadata": {
        "id": "sk6Ma591H6Es"
      },
      "outputs": [],
      "source": [
        "batch_size = 128\n",
        "\n",
        "train_loader = DataLoader(train_data, batch_size=batch_size, shuffle=True)\n",
        "valid_loader = DataLoader(valid_data, batch_size=batch_size, shuffle=False)\n",
        "test_loader = DataLoader(test_data, batch_size=batch_size, shuffle=False)"
      ]
    },
    {
      "cell_type": "code",
      "execution_count": null,
      "metadata": {
        "id": "pEXzbNF2H-mE"
      },
      "outputs": [],
      "source": [
        "model = InceptionV4(num_classes=100)\n",
        "criterion = nn.CrossEntropyLoss()\n",
        "optimizer = optim.Adam(model.parameters(), lr=0.01, weight_decay=0.0005)\n",
        "\n",
        "model = model.to(device)\n",
        "criterion = criterion.to(device)"
      ]
    },
    {
      "cell_type": "markdown",
      "metadata": {
        "id": "bWbJwC6UIA9M"
      },
      "source": [
        "# Train and validation"
      ]
    },
    {
      "cell_type": "code",
      "execution_count": null,
      "metadata": {
        "id": "kgExxjagIAVP"
      },
      "outputs": [],
      "source": [
        "def train(model, criterion, optimizer, train_loader, valid_loader, num_epochs=10, print_every=1, early_stop=None, model_path='inception_v4.pth'):\n",
        "    train_logs = {'Loss':[], 'Accuracy':[]}\n",
        "    valid_logs = {'Loss':[], 'Accuracy':[]}\n",
        "    try:\n",
        "        patience = 0\n",
        "        best_acc = -np.inf\n",
        "        start_time = datetime.now()\n",
        "        for epoch in range(num_epochs):\n",
        "            train_loss = 0\n",
        "            valid_loss = 0\n",
        "            train_acc = 0\n",
        "            valid_acc = 0\n",
        "            # training step\n",
        "            model.train()\n",
        "            for data, target in train_loader:\n",
        "                optimizer.zero_grad()\n",
        "                data, target = data.to(device), target.to(device)\n",
        "                pred = model(data)\n",
        "                loss = criterion(pred,target)\n",
        "                loss.backward()\n",
        "                optimizer.step()\n",
        "                train_loss += loss.item() * data.size(0)\n",
        "                train_acc += torch.sum(pred.argmax(1) == target).item()\n",
        "            train_loss /= len(train_data)\n",
        "            train_acc /= len(train_data)\n",
        "            train_logs['Loss'].append(train_loss)\n",
        "            train_logs['Accuracy'].append(train_acc)\n",
        "            if (epoch + 1) % print_every == 0:\n",
        "                print('Training   Epoch {} - Loss : {:.8f} Accuracy : {:.4f}% Time elapsed: {}'.format(epoch, train_loss, train_acc * 100, datetime.now() - start_time))\n",
        "            # validation step\n",
        "            with torch.no_grad():\n",
        "                model.eval()\n",
        "                for data, target in valid_loader:\n",
        "                    data, target = data.to(device), target.to(device)\n",
        "                    pred = model(data)\n",
        "                    loss = criterion(pred,target)\n",
        "                    valid_loss += loss.item() * data.size(0)\n",
        "                    valid_acc += torch.sum(pred.argmax(1) == target).item()\n",
        "                valid_loss /= len(valid_data)\n",
        "                valid_acc /= len(valid_data)\n",
        "                valid_logs['Loss'].append(valid_loss)\n",
        "                valid_logs['Accuracy'].append(valid_acc)\n",
        "                if (epoch+1) % print_every == 0:\n",
        "                    print('Validation Epoch {} - Loss : {:.8f} Accuracy : {:.4f}% Time elapsed: {}'.format(epoch, valid_loss, valid_acc * 100, datetime.now() - start_time))\n",
        "                if valid_acc > best_acc:\n",
        "                    best_acc = valid_acc\n",
        "                    torch.save(model.state_dict(), model_path)\n",
        "                    if early_stop is not None:\n",
        "                        patience = 0\n",
        "                elif early_stop is not None:\n",
        "                    patience += 1\n",
        "                    if patience >= early_stop:\n",
        "                        print('Training finished by early stopping')\n",
        "                        return train_logs, valid_logs\n",
        "        return train_logs, valid_logs\n",
        "    except KeyboardInterrupt:\n",
        "        return train_logs, valid_logs"
      ]
    },
    {
      "cell_type": "code",
      "execution_count": null,
      "metadata": {
        "colab": {
          "base_uri": "https://localhost:8080/"
        },
        "id": "WKTA9jaiIFk1",
        "outputId": "e40fde6e-4987-4cd6-e691-b9c796c682cd"
      },
      "outputs": [
        {
          "output_type": "stream",
          "name": "stdout",
          "text": [
            "Training   Epoch 0 - Loss : 4.47618117 Accuracy : 2.2000% Time elapsed: 0:07:37.432984\n",
            "Validation Epoch 0 - Loss : 4.31613079 Accuracy : 3.0500% Time elapsed: 0:08:11.877256\n",
            "Training   Epoch 1 - Loss : 4.13824677 Accuracy : 4.5075% Time elapsed: 0:15:48.658219\n",
            "Validation Epoch 1 - Loss : 4.21224413 Accuracy : 4.2900% Time elapsed: 0:16:23.140027\n",
            "Training   Epoch 2 - Loss : 3.98971228 Accuracy : 6.7500% Time elapsed: 0:23:59.655097\n",
            "Validation Epoch 2 - Loss : 4.14600615 Accuracy : 5.6600% Time elapsed: 0:24:34.084333\n",
            "Training   Epoch 3 - Loss : 3.90576447 Accuracy : 8.0525% Time elapsed: 0:32:10.425121\n",
            "Validation Epoch 3 - Loss : 4.38987147 Accuracy : 6.4200% Time elapsed: 0:32:44.849571\n",
            "Training   Epoch 4 - Loss : 3.84929982 Accuracy : 8.8525% Time elapsed: 0:40:21.496533\n",
            "Validation Epoch 4 - Loss : 4.25799954 Accuracy : 6.5300% Time elapsed: 0:40:55.931056\n",
            "Training   Epoch 5 - Loss : 3.82709619 Accuracy : 9.3275% Time elapsed: 0:48:34.273280\n",
            "Validation Epoch 5 - Loss : 4.34098010 Accuracy : 4.4400% Time elapsed: 0:49:08.783020\n",
            "Training   Epoch 6 - Loss : 3.78952595 Accuracy : 10.0550% Time elapsed: 0:56:49.245732\n",
            "Validation Epoch 6 - Loss : 3.95698821 Accuracy : 8.6400% Time elapsed: 0:57:23.733514\n",
            "Training   Epoch 7 - Loss : 3.71718680 Accuracy : 11.1950% Time elapsed: 1:05:05.781709\n",
            "Validation Epoch 7 - Loss : 3.92663295 Accuracy : 9.4400% Time elapsed: 1:05:40.247218\n",
            "Training   Epoch 8 - Loss : 3.66491689 Accuracy : 12.0925% Time elapsed: 1:13:22.646048\n",
            "Validation Epoch 8 - Loss : 4.59219439 Accuracy : 4.1600% Time elapsed: 1:13:57.161779\n",
            "Training   Epoch 9 - Loss : 3.63502335 Accuracy : 12.5175% Time elapsed: 1:21:39.889752\n",
            "Validation Epoch 9 - Loss : 3.94855671 Accuracy : 9.8200% Time elapsed: 1:22:14.435359\n",
            "Training   Epoch 10 - Loss : 3.60672079 Accuracy : 12.9375% Time elapsed: 1:29:57.714690\n",
            "Validation Epoch 10 - Loss : 3.47721842 Accuracy : 15.6600% Time elapsed: 1:30:32.190492\n",
            "Training   Epoch 11 - Loss : 3.58017337 Accuracy : 13.2075% Time elapsed: 1:38:16.219680\n",
            "Validation Epoch 11 - Loss : 3.46172301 Accuracy : 16.1200% Time elapsed: 1:38:50.825595\n",
            "Training   Epoch 12 - Loss : 3.55239321 Accuracy : 14.1625% Time elapsed: 1:46:34.797326\n",
            "Validation Epoch 12 - Loss : 3.65498071 Accuracy : 13.4000% Time elapsed: 1:47:09.392425\n",
            "Training   Epoch 13 - Loss : 3.53211861 Accuracy : 14.4700% Time elapsed: 1:54:52.886137\n",
            "Validation Epoch 13 - Loss : 4.17858924 Accuracy : 8.0100% Time elapsed: 1:55:27.395646\n",
            "Training   Epoch 14 - Loss : 3.51005938 Accuracy : 14.8000% Time elapsed: 2:03:11.592296\n",
            "Validation Epoch 14 - Loss : 4.49494138 Accuracy : 6.0100% Time elapsed: 2:03:46.101120\n",
            "Training   Epoch 15 - Loss : 3.49717020 Accuracy : 14.9675% Time elapsed: 2:11:30.980771\n",
            "Validation Epoch 15 - Loss : 3.61868872 Accuracy : 13.3300% Time elapsed: 2:12:05.549681\n",
            "Training   Epoch 16 - Loss : 3.49150947 Accuracy : 15.1725% Time elapsed: 2:19:51.402666\n",
            "Validation Epoch 16 - Loss : 4.23751934 Accuracy : 8.7100% Time elapsed: 2:20:26.017476\n",
            "Training   Epoch 17 - Loss : 3.48142669 Accuracy : 15.4600% Time elapsed: 2:28:11.543105\n",
            "Validation Epoch 17 - Loss : 3.76484815 Accuracy : 12.5000% Time elapsed: 2:28:46.004258\n",
            "Training   Epoch 18 - Loss : 3.47362861 Accuracy : 15.6125% Time elapsed: 2:36:30.774997\n",
            "Validation Epoch 18 - Loss : 3.83898706 Accuracy : 11.4100% Time elapsed: 2:37:05.270693\n",
            "Training   Epoch 19 - Loss : 3.45601471 Accuracy : 15.8600% Time elapsed: 2:44:49.560963\n",
            "Validation Epoch 19 - Loss : 3.38145797 Accuracy : 17.2400% Time elapsed: 2:45:24.126228\n",
            "Training   Epoch 20 - Loss : 3.44809654 Accuracy : 15.7100% Time elapsed: 2:53:08.980478\n",
            "Validation Epoch 20 - Loss : 3.59114228 Accuracy : 13.5600% Time elapsed: 2:53:43.467967\n",
            "Training   Epoch 21 - Loss : 3.44951010 Accuracy : 16.0900% Time elapsed: 3:01:27.723194\n",
            "Validation Epoch 21 - Loss : 3.64535135 Accuracy : 12.6500% Time elapsed: 3:02:02.360604\n",
            "Training   Epoch 22 - Loss : 3.43758546 Accuracy : 16.2025% Time elapsed: 3:09:46.450660\n",
            "Validation Epoch 22 - Loss : 3.69104998 Accuracy : 12.8800% Time elapsed: 3:10:21.023458\n",
            "Training   Epoch 23 - Loss : 3.43492256 Accuracy : 16.1575% Time elapsed: 3:18:04.536019\n",
            "Validation Epoch 23 - Loss : 9.66912261 Accuracy : 1.2000% Time elapsed: 3:18:39.160899\n",
            "Training   Epoch 24 - Loss : 3.42862262 Accuracy : 16.4625% Time elapsed: 3:26:21.884237\n",
            "Validation Epoch 24 - Loss : 4.99074764 Accuracy : 5.9100% Time elapsed: 3:26:56.396142\n",
            "Training   Epoch 25 - Loss : 3.41131729 Accuracy : 16.6175% Time elapsed: 3:34:38.562820\n",
            "Validation Epoch 25 - Loss : 3.91081967 Accuracy : 12.3600% Time elapsed: 3:35:13.079369\n",
            "Training   Epoch 26 - Loss : 3.41068451 Accuracy : 16.4425% Time elapsed: 3:42:54.348788\n",
            "Validation Epoch 26 - Loss : 6.47149004 Accuracy : 3.7100% Time elapsed: 3:43:28.916254\n",
            "Training   Epoch 27 - Loss : 3.39896640 Accuracy : 16.8675% Time elapsed: 3:51:10.679810\n",
            "Validation Epoch 27 - Loss : 3.57706544 Accuracy : 14.1300% Time elapsed: 3:51:45.214788\n",
            "Training   Epoch 28 - Loss : 3.40507006 Accuracy : 16.7425% Time elapsed: 3:59:26.839621\n",
            "Validation Epoch 28 - Loss : 4.02451818 Accuracy : 11.8000% Time elapsed: 4:00:01.439224\n",
            "Training   Epoch 29 - Loss : 3.39155450 Accuracy : 17.0125% Time elapsed: 4:07:43.580673\n",
            "Validation Epoch 29 - Loss : 4.84649098 Accuracy : 6.0900% Time elapsed: 4:08:18.144538\n",
            "Training   Epoch 30 - Loss : 3.38940018 Accuracy : 16.9925% Time elapsed: 4:16:00.838268\n",
            "Validation Epoch 30 - Loss : 5.31721730 Accuracy : 6.2200% Time elapsed: 4:16:35.447584\n",
            "Training   Epoch 31 - Loss : 3.38779839 Accuracy : 17.0650% Time elapsed: 4:24:18.270434\n",
            "Validation Epoch 31 - Loss : 4.27632955 Accuracy : 10.5100% Time elapsed: 4:24:52.871364\n",
            "Training   Epoch 32 - Loss : 3.37470864 Accuracy : 17.1925% Time elapsed: 4:32:34.893410\n",
            "Validation Epoch 32 - Loss : 4.27386547 Accuracy : 7.5300% Time elapsed: 4:33:09.482373\n",
            "Training   Epoch 33 - Loss : 3.37925302 Accuracy : 17.4625% Time elapsed: 4:40:49.805282\n",
            "Validation Epoch 33 - Loss : 3.60030016 Accuracy : 13.4800% Time elapsed: 4:41:24.329847\n",
            "Training   Epoch 34 - Loss : 3.38140594 Accuracy : 17.2075% Time elapsed: 4:49:04.656544\n",
            "Validation Epoch 34 - Loss : 3.48738424 Accuracy : 14.4700% Time elapsed: 4:49:39.232918\n",
            "Training   Epoch 35 - Loss : 3.35980466 Accuracy : 17.3650% Time elapsed: 4:57:20.068648\n",
            "Validation Epoch 35 - Loss : 3.96673621 Accuracy : 11.8900% Time elapsed: 4:57:54.641972\n",
            "Training   Epoch 36 - Loss : 3.36389670 Accuracy : 17.5100% Time elapsed: 5:05:35.465731\n",
            "Validation Epoch 36 - Loss : 5.49947560 Accuracy : 6.5500% Time elapsed: 5:06:10.072619\n",
            "Training   Epoch 37 - Loss : 3.36395575 Accuracy : 17.2950% Time elapsed: 5:13:51.041734\n",
            "Validation Epoch 37 - Loss : 3.80775051 Accuracy : 12.3900% Time elapsed: 5:14:25.617715\n",
            "Training   Epoch 38 - Loss : 3.34239198 Accuracy : 17.5025% Time elapsed: 5:22:06.577890\n",
            "Validation Epoch 38 - Loss : 4.44117962 Accuracy : 8.9600% Time elapsed: 5:22:41.164669\n",
            "Training   Epoch 39 - Loss : 3.34467764 Accuracy : 17.8375% Time elapsed: 5:30:22.115163\n",
            "Validation Epoch 39 - Loss : 4.12830219 Accuracy : 11.8200% Time elapsed: 5:30:56.746674\n",
            "Training   Epoch 40 - Loss : 3.33697514 Accuracy : 17.6525% Time elapsed: 5:38:37.815794\n",
            "Validation Epoch 40 - Loss : 3.66802711 Accuracy : 13.9000% Time elapsed: 5:39:12.463045\n",
            "Training   Epoch 41 - Loss : 3.33588609 Accuracy : 17.8250% Time elapsed: 5:46:53.616081\n",
            "Validation Epoch 41 - Loss : 3.61111322 Accuracy : 14.0900% Time elapsed: 5:47:28.207214\n",
            "Training   Epoch 42 - Loss : 3.33450290 Accuracy : 17.9875% Time elapsed: 5:55:09.490152\n",
            "Validation Epoch 42 - Loss : 4.81802492 Accuracy : 7.2600% Time elapsed: 5:55:44.107338\n",
            "Training   Epoch 43 - Loss : 3.32408437 Accuracy : 17.8400% Time elapsed: 6:03:25.121992\n",
            "Validation Epoch 43 - Loss : 6.93031955 Accuracy : 2.8700% Time elapsed: 6:03:59.736255\n",
            "Training   Epoch 44 - Loss : 3.32394322 Accuracy : 17.9325% Time elapsed: 6:11:39.952698\n",
            "Validation Epoch 44 - Loss : 5.62312507 Accuracy : 6.2500% Time elapsed: 6:12:14.498850\n",
            "Training   Epoch 45 - Loss : 3.32541381 Accuracy : 17.8650% Time elapsed: 6:19:53.565000\n",
            "Validation Epoch 45 - Loss : 3.22311975 Accuracy : 20.3800% Time elapsed: 6:20:28.070342\n",
            "Training   Epoch 46 - Loss : 3.31335974 Accuracy : 17.9200% Time elapsed: 6:28:07.096857\n",
            "Validation Epoch 46 - Loss : 3.44424594 Accuracy : 16.2000% Time elapsed: 6:28:41.608028\n",
            "Training   Epoch 47 - Loss : 3.30542657 Accuracy : 18.3625% Time elapsed: 6:36:20.161767\n",
            "Validation Epoch 47 - Loss : 4.98504231 Accuracy : 6.9300% Time elapsed: 6:36:54.667351\n",
            "Training   Epoch 48 - Loss : 3.30274660 Accuracy : 18.3200% Time elapsed: 6:44:33.239318\n",
            "Validation Epoch 48 - Loss : 3.33833008 Accuracy : 17.1600% Time elapsed: 6:45:07.682314\n",
            "Training   Epoch 49 - Loss : 3.30170181 Accuracy : 18.2225% Time elapsed: 6:52:46.505268\n",
            "Validation Epoch 49 - Loss : 5.35571444 Accuracy : 5.6400% Time elapsed: 6:53:20.943863\n"
          ]
        }
      ],
      "source": [
        "train_logs, valid_logs = train(model=model,\n",
        "                               criterion=criterion,\n",
        "                               optimizer=optimizer,\n",
        "                               train_loader=train_loader,\n",
        "                               valid_loader=valid_loader,\n",
        "                               num_epochs=50,\n",
        "                               print_every=1,\n",
        "                               early_stop=None,\n",
        "                               model_path='inception_v4.pth')"
      ]
    },
    {
      "cell_type": "code",
      "execution_count": null,
      "metadata": {
        "id": "9pLcY3OQIGn4",
        "colab": {
          "base_uri": "https://localhost:8080/",
          "height": 279
        },
        "outputId": "77492e77-cf30-4470-d3f9-4e37ea8844d8"
      },
      "outputs": [
        {
          "output_type": "display_data",
          "data": {
            "text/plain": [
              "<Figure size 432x288 with 1 Axes>"
            ],
            "image/png": "[encoded data removed]"
          },
          "metadata": {
            "needs_background": "light"
          }
        }
      ],
      "source": [
        "plt.xlabel('Epoch')\n",
        "plt.ylabel('Loss')\n",
        "plt.plot([i for i in range(len(train_logs['Loss']))], train_logs['Loss'], label='train_loss')\n",
        "plt.plot([i for i in range(len(valid_logs['Loss']))], valid_logs['Loss'], label='valid_loss')\n",
        "plt.legend()\n",
        "plt.show()"
      ]
    },
    {
      "cell_type": "code",
      "execution_count": null,
      "metadata": {
        "id": "1-ofcKwoIHyB",
        "colab": {
          "base_uri": "https://localhost:8080/"
        },
        "outputId": "e32290c7-8ebe-4d94-beee-59c3583732d9"
      },
      "outputs": [
        {
          "output_type": "display_data",
          "data": {
            "text/plain": [
              "<Figure size 432x288 with 1 Axes>"
            ],
            "image/png": "[encoded data removed]"
          },
          "metadata": {
            "needs_background": "light"
          }
        }
      ],
      "source": [
        "plt.xlabel('Epoch')\n",
        "plt.ylabel('Accuracy')\n",
        "plt.plot([i for i in range(len(train_logs['Accuracy']))], train_logs['Accuracy'], label='train_acc')\n",
        "plt.plot([i for i in range(len(valid_logs['Accuracy']))], valid_logs['Accuracy'], label='valid_acc')\n",
        "plt.legend()\n",
        "plt.show()"
      ]
    },
    {
      "cell_type": "markdown",
      "metadata": {
        "id": "_2Sfbcf0IKPp"
      },
      "source": [
        "# Test"
      ]
    },
    {
      "cell_type": "code",
      "execution_count": null,
      "metadata": {
        "id": "uTM7oNm-IJoD"
      },
      "outputs": [],
      "source": [
        "model.load_state_dict(torch.load('inception_v4.pth'))\n",
        "model = model.to(device)"
      ]
    },
    {
      "cell_type": "code",
      "execution_count": null,
      "metadata": {
        "id": "DxnjNEyZINSw"
      },
      "outputs": [],
      "source": [
        "def test(model,criterion,test_loader):\n",
        "    test_loss = 0\n",
        "    test_acc = 0\n",
        "    result_table = pd.DataFrame(columns=['Prediction', 'Target'])\n",
        "    with torch.no_grad():\n",
        "        model.eval()\n",
        "        for data, target in test_loader:\n",
        "            data, target = data.to(device) ,target.to(device)\n",
        "            pred = model(data)\n",
        "            loss = criterion(pred, target)\n",
        "            test_loss += loss.item() * data.size(0)\n",
        "            test_acc += torch.sum(pred.argmax(1) == target).item()\n",
        "            for p, t in zip(pred.argmax(1), target):\n",
        "                result_table = result_table.append({'Prediction':p.item(), 'Target':t.item()}, ignore_index=True)\n",
        "        test_loss /= len(test_data)\n",
        "        test_acc /= len(test_data)\n",
        "    return test_loss, test_acc, result_table"
      ]
    },
    {
      "cell_type": "code",
      "execution_count": null,
      "metadata": {
        "id": "SDcUjiY-IOLY"
      },
      "outputs": [],
      "source": [
        "test_loss, test_acc, result_table = test(model=model,\n",
        "                                         criterion=criterion,\n",
        "                                         test_loader=test_loader)"
      ]
    },
    {
      "cell_type": "code",
      "execution_count": null,
      "metadata": {
        "id": "Cns95EknIO2m",
        "colab": {
          "base_uri": "https://localhost:8080/"
        },
        "outputId": "315604f6-7f98-436f-f9bc-3b2889024978"
      },
      "outputs": [
        {
          "output_type": "stream",
          "name": "stdout",
          "text": [
            "Test Loss : 3.21920660 Test Accuracy : 20.0000%\n"
          ]
        }
      ],
      "source": [
        "print('Test Loss : {:.8f} Test Accuracy : {:.4f}%'.format(test_loss, test_acc * 100))"
      ]
    },
    {
      "cell_type": "code",
      "execution_count": null,
      "metadata": {
        "id": "-ct3SRrHIPgp",
        "colab": {
          "base_uri": "https://localhost:8080/",
          "height": 488
        },
        "outputId": "c2dd4fbd-786c-4e4d-f081-1993408aa146"
      },
      "outputs": [
        {
          "output_type": "execute_result",
          "data": {
            "text/plain": [
              "     Prediction Target\n",
              "0             8     49\n",
              "1            80     33\n",
              "2            30     72\n",
              "3            66     51\n",
              "4            71     71\n",
              "...         ...    ...\n",
              "9995          1     83\n",
              "9996         63     14\n",
              "9997         33     51\n",
              "9998         42     42\n",
              "9999         54     70\n",
              "\n",
              "[10000 rows x 2 columns]"
            ],
            "text/html": [
              "\n",
              "  <div id=\"df-96c73989-f8c0-4d7b-a820-f3251df60e1c\">\n",
              "    <div class=\"colab-df-container\">\n",
              "      <div>\n",
              "<style scoped>\n",
              "    .dataframe tbody tr th:only-of-type {\n",
              "        vertical-align: middle;\n",
              "    }\n",
              "\n",
              "    .dataframe tbody tr th {\n",
              "        vertical-align: top;\n",
              "    }\n",
              "\n",
              "    .dataframe thead th {\n",
              "        text-align: right;\n",
              "    }\n",
              "</style>\n",
              "<table border=\"1\" class=\"dataframe\">\n",
              "  <thead>\n",
              "    <tr style=\"text-align: right;\">\n",
              "      <th></th>\n",
              "      <th>Prediction</th>\n",
              "      <th>Target</th>\n",
              "    </tr>\n",
              "  </thead>\n",
              "  <tbody>\n",
              "    <tr>\n",
              "      <th>0</th>\n",
              "      <td>8</td>\n",
              "      <td>49</td>\n",
              "    </tr>\n",
              "    <tr>\n",
              "      <th>1</th>\n",
              "      <td>80</td>\n",
              "      <td>33</td>\n",
              "    </tr>\n",
              "    <tr>\n",
              "      <th>2</th>\n",
              "      <td>30</td>\n",
              "      <td>72</td>\n",
              "    </tr>\n",
              "    <tr>\n",
              "      <th>3</th>\n",
              "      <td>66</td>\n",
              "      <td>51</td>\n",
              "    </tr>\n",
              "    <tr>\n",
              "      <th>4</th>\n",
              "      <td>71</td>\n",
              "      <td>71</td>\n",
              "    </tr>\n",
              "    <tr>\n",
              "      <th>...</th>\n",
              "      <td>...</td>\n",
              "      <td>...</td>\n",
              "    </tr>\n",
              "    <tr>\n",
              "      <th>9995</th>\n",
              "      <td>1</td>\n",
              "      <td>83</td>\n",
              "    </tr>\n",
              "    <tr>\n",
              "      <th>9996</th>\n",
              "      <td>63</td>\n",
              "      <td>14</td>\n",
              "    </tr>\n",
              "    <tr>\n",
              "      <th>9997</th>\n",
              "      <td>33</td>\n",
              "      <td>51</td>\n",
              "    </tr>\n",
              "    <tr>\n",
              "      <th>9998</th>\n",
              "      <td>42</td>\n",
              "      <td>42</td>\n",
              "    </tr>\n",
              "    <tr>\n",
              "      <th>9999</th>\n",
              "      <td>54</td>\n",
              "      <td>70</td>\n",
              "    </tr>\n",
              "  </tbody>\n",
              "</table>\n",
              "<p>10000 rows × 2 columns</p>\n",
              "</div>\n",
              "      <button class=\"colab-df-convert\" onclick=\"convertToInteractive('df-96c73989-f8c0-4d7b-a820-f3251df60e1c')\"\n",
              "              title=\"Convert this dataframe to an interactive table.\"\n",
              "              style=\"display:none;\">\n",
              "        \n",
              "  <svg xmlns=\"http://www.w3.org/2000/svg\" height=\"24px\"viewBox=\"0 0 24 24\"\n",
              "       width=\"24px\">\n",
              "    <path d=\"M0 0h24v24H0V0z\" fill=\"none\"/>\n",
              "    <path d=\"M18.56 5.44l.94 2.06.94-2.06 2.06-.94-2.06-.94-.94-2.06-.94 2.06-2.06.94zm-11 1L8.5 8.5l.94-2.06 2.06-.94-2.06-.94L8.5 2.5l-.94 2.06-2.06.94zm10 10l.94 2.06.94-2.06 2.06-.94-2.06-.94-.94-2.06-.94 2.06-2.06.94z\"/><path d=\"M17.41 7.96l-1.37-1.37c-.4-.4-.92-.59-1.43-.59-.52 0-1.04.2-1.43.59L10.3 9.45l-7.72 7.72c-.78.78-.78 2.05 0 2.83L4 21.41c.39.39.9.59 1.41.59.51 0 1.02-.2 1.41-.59l7.78-7.78 2.81-2.81c.8-.78.8-2.07 0-2.86zM5.41 20L4 18.59l7.72-7.72 1.47 1.35L5.41 20z\"/>\n",
              "  </svg>\n",
              "      </button>\n",
              "      \n",
              "  <style>\n",
              "    .colab-df-container {\n",
              "      display:flex;\n",
              "      flex-wrap:wrap;\n",
              "      gap: 12px;\n",
              "    }\n",
              "\n",
              "    .colab-df-convert {\n",
              "      background-color: #E8F0FE;\n",
              "      border: none;\n",
              "      border-radius: 50%;\n",
              "      cursor: pointer;\n",
              "      display: none;\n",
              "      fill: #1967D2;\n",
              "      height: 32px;\n",
              "      padding: 0 0 0 0;\n",
              "      width: 32px;\n",
              "    }\n",
              "\n",
              "    .colab-df-convert:hover {\n",
              "      background-color: #E2EBFA;\n",
              "      box-shadow: 0px 1px 2px rgba(60, 64, 67, 0.3), 0px 1px 3px 1px rgba(60, 64, 67, 0.15);\n",
              "      fill: #174EA6;\n",
              "    }\n",
              "\n",
              "    [theme=dark] .colab-df-convert {\n",
              "      background-color: #3B4455;\n",
              "      fill: #D2E3FC;\n",
              "    }\n",
              "\n",
              "    [theme=dark] .colab-df-convert:hover {\n",
              "      background-color: #434B5C;\n",
              "      box-shadow: 0px 1px 3px 1px rgba(0, 0, 0, 0.15);\n",
              "      filter: drop-shadow(0px 1px 2px rgba(0, 0, 0, 0.3));\n",
              "      fill: #FFFFFF;\n",
              "    }\n",
              "  </style>\n",
              "\n",
              "      <script>\n",
              "        const buttonEl =\n",
              "          document.querySelector('#df-96c73989-f8c0-4d7b-a820-f3251df60e1c button.colab-df-convert');\n",
              "        buttonEl.style.display =\n",
              "          google.colab.kernel.accessAllowed ? 'block' : 'none';\n",
              "\n",
              "        async function convertToInteractive(key) {\n",
              "          const element = document.querySelector('#df-96c73989-f8c0-4d7b-a820-f3251df60e1c');\n",
              "          const dataTable =\n",
              "            await google.colab.kernel.invokeFunction('convertToInteractive',\n",
              "                                                     [key], {});\n",
              "          if (!dataTable) return;\n",
              "\n",
              "          const docLinkHtml = 'Like what you see? Visit the ' +\n",
              "            '<a target=\"_blank\" href=https://colab.research.google.com/notebooks/data_table.ipynb>data table notebook</a>'\n",
              "            + ' to learn more about interactive tables.';\n",
              "          element.innerHTML = '';\n",
              "          dataTable['output_type'] = 'display_data';\n",
              "          await google.colab.output.renderOutput(dataTable, element);\n",
              "          const docLink = document.createElement('div');\n",
              "          docLink.innerHTML = docLinkHtml;\n",
              "          element.appendChild(docLink);\n",
              "        }\n",
              "      </script>\n",
              "    </div>\n",
              "  </div>\n",
              "  "
            ]
          },
          "metadata": {},
          "execution_count": 19
        }
      ],
      "source": [
        "result_table"
      ]
    }
  ],
  "metadata": {
    "accelerator": "GPU",
    "colab": {
      "collapsed_sections": [],
      "name": "5.Inception V4",
      "provenance": []
    },
    "kernelspec": {
      "display_name": "Python 3",
      "name": "python3"
    },
    "language_info": {
      "name": "python"
    },
    "widgets": {
      "application/vnd.jupyter.widget-state+json": {
        "e105919bb14e48b88fe83778b92c9fec": {
          "model_module": "@jupyter-widgets/controls",
          "model_name": "HBoxModel",
          "model_module_version": "1.5.0",
          "state": {
            "_dom_classes": [],
            "_model_module": "@jupyter-widgets/controls",
            "_model_module_version": "1.5.0",
            "_model_name": "HBoxModel",
            "_view_count": null,
            "_view_module": "@jupyter-widgets/controls",
            "_view_module_version": "1.5.0",
            "_view_name": "HBoxView",
            "box_style": "",
            "children": [
              "IPY_MODEL_4064c57cc5074f27b47749f1bd3fd41b",
              "IPY_MODEL_d08cd572a8dd489e95da26a7e573a9b1",
              "IPY_MODEL_8a7c6687aa3246f69db88579a1488e5b"
            ],
            "layout": "IPY_MODEL_f9eff75870c84eedbade4daca70db0b0"
          }
        },
        "4064c57cc5074f27b47749f1bd3fd41b": {
          "model_module": "@jupyter-widgets/controls",
          "model_name": "HTMLModel",
          "model_module_version": "1.5.0",
          "state": {
            "_dom_classes": [],
            "_model_module": "@jupyter-widgets/controls",
            "_model_module_version": "1.5.0",
            "_model_name": "HTMLModel",
            "_view_count": null,
            "_view_module": "@jupyter-widgets/controls",
            "_view_module_version": "1.5.0",
            "_view_name": "HTMLView",
            "description": "",
            "description_tooltip": null,
            "layout": "IPY_MODEL_7e0b8c3371114a7f82f6e3d3b41cdc84",
            "placeholder": "​",
            "style": "IPY_MODEL_45d96562c96546de9bac81f57e9d19d2",
            "value": ""
          }
        },
        "d08cd572a8dd489e95da26a7e573a9b1": {
          "model_module": "@jupyter-widgets/controls",
          "model_name": "FloatProgressModel",
          "model_module_version": "1.5.0",
          "state": {
            "_dom_classes": [],
            "_model_module": "@jupyter-widgets/controls",
            "_model_module_version": "1.5.0",
            "_model_name": "FloatProgressModel",
            "_view_count": null,
            "_view_module": "@jupyter-widgets/controls",
            "_view_module_version": "1.5.0",
            "_view_name": "ProgressView",
            "bar_style": "success",
            "description": "",
            "description_tooltip": null,
            "layout": "IPY_MODEL_f6155fcda9a24b3fbdd5884d1db4614b",
            "max": 169001437,
            "min": 0,
            "orientation": "horizontal",
            "style": "IPY_MODEL_8899f82d70aa45e782632dc495fcc254",
            "value": 169001437
          }
        },
        "8a7c6687aa3246f69db88579a1488e5b": {
          "model_module": "@jupyter-widgets/controls",
          "model_name": "HTMLModel",
          "model_module_version": "1.5.0",
          "state": {
            "_dom_classes": [],
            "_model_module": "@jupyter-widgets/controls",
            "_model_module_version": "1.5.0",
            "_model_name": "HTMLModel",
            "_view_count": null,
            "_view_module": "@jupyter-widgets/controls",
            "_view_module_version": "1.5.0",
            "_view_name": "HTMLView",
            "description": "",
            "description_tooltip": null,
            "layout": "IPY_MODEL_541ba9ed553340b59bb6e7c869d9d78f",
            "placeholder": "​",
            "style": "IPY_MODEL_a3a6a2a88d734bb2b4da995a600d6f32",
            "value": " 169001984/? [00:06&lt;00:00, 26794250.34it/s]"
          }
        },
        "f9eff75870c84eedbade4daca70db0b0": {
          "model_module": "@jupyter-widgets/base",
          "model_name": "LayoutModel",
          "model_module_version": "1.2.0",
          "state": {
            "_model_module": "@jupyter-widgets/base",
            "_model_module_version": "1.2.0",
            "_model_name": "LayoutModel",
            "_view_count": null,
            "_view_module": "@jupyter-widgets/base",
            "_view_module_version": "1.2.0",
            "_view_name": "LayoutView",
            "align_content": null,
            "align_items": null,
            "align_self": null,
            "border": null,
            "bottom": null,
            "display": null,
            "flex": null,
            "flex_flow": null,
            "grid_area": null,
            "grid_auto_columns": null,
            "grid_auto_flow": null,
            "grid_auto_rows": null,
            "grid_column": null,
            "grid_gap": null,
            "grid_row": null,
            "grid_template_areas": null,
            "grid_template_columns": null,
            "grid_template_rows": null,
            "height": null,
            "justify_content": null,
            "justify_items": null,
            "left": null,
            "margin": null,
            "max_height": null,
            "max_width": null,
            "min_height": null,
            "min_width": null,
            "object_fit": null,
            "object_position": null,
            "order": null,
            "overflow": null,
            "overflow_x": null,
            "overflow_y": null,
            "padding": null,
            "right": null,
            "top": null,
            "visibility": null,
            "width": null
          }
        },
        "7e0b8c3371114a7f82f6e3d3b41cdc84": {
          "model_module": "@jupyter-widgets/base",
          "model_name": "LayoutModel",
          "model_module_version": "1.2.0",
          "state": {
            "_model_module": "@jupyter-widgets/base",
            "_model_module_version": "1.2.0",
            "_model_name": "LayoutModel",
            "_view_count": null,
            "_view_module": "@jupyter-widgets/base",
            "_view_module_version": "1.2.0",
            "_view_name": "LayoutView",
            "align_content": null,
            "align_items": null,
            "align_self": null,
            "border": null,
            "bottom": null,
            "display": null,
            "flex": null,
            "flex_flow": null,
            "grid_area": null,
            "grid_auto_columns": null,
            "grid_auto_flow": null,
            "grid_auto_rows": null,
            "grid_column": null,
            "grid_gap": null,
            "grid_row": null,
            "grid_template_areas": null,
            "grid_template_columns": null,
            "grid_template_rows": null,
            "height": null,
            "justify_content": null,
            "justify_items": null,
            "left": null,
            "margin": null,
            "max_height": null,
            "max_width": null,
            "min_height": null,
            "min_width": null,
            "object_fit": null,
            "object_position": null,
            "order": null,
            "overflow": null,
            "overflow_x": null,
            "overflow_y": null,
            "padding": null,
            "right": null,
            "top": null,
            "visibility": null,
            "width": null
          }
        },
        "45d96562c96546de9bac81f57e9d19d2": {
          "model_module": "@jupyter-widgets/controls",
          "model_name": "DescriptionStyleModel",
          "model_module_version": "1.5.0",
          "state": {
            "_model_module": "@jupyter-widgets/controls",
            "_model_module_version": "1.5.0",
            "_model_name": "DescriptionStyleModel",
            "_view_count": null,
            "_view_module": "@jupyter-widgets/base",
            "_view_module_version": "1.2.0",
            "_view_name": "StyleView",
            "description_width": ""
          }
        },
        "f6155fcda9a24b3fbdd5884d1db4614b": {
          "model_module": "@jupyter-widgets/base",
          "model_name": "LayoutModel",
          "model_module_version": "1.2.0",
          "state": {
            "_model_module": "@jupyter-widgets/base",
            "_model_module_version": "1.2.0",
            "_model_name": "LayoutModel",
            "_view_count": null,
            "_view_module": "@jupyter-widgets/base",
            "_view_module_version": "1.2.0",
            "_view_name": "LayoutView",
            "align_content": null,
            "align_items": null,
            "align_self": null,
            "border": null,
            "bottom": null,
            "display": null,
            "flex": null,
            "flex_flow": null,
            "grid_area": null,
            "grid_auto_columns": null,
            "grid_auto_flow": null,
            "grid_auto_rows": null,
            "grid_column": null,
            "grid_gap": null,
            "grid_row": null,
            "grid_template_areas": null,
            "grid_template_columns": null,
            "grid_template_rows": null,
            "height": null,
            "justify_content": null,
            "justify_items": null,
            "left": null,
            "margin": null,
            "max_height": null,
            "max_width": null,
            "min_height": null,
            "min_width": null,
            "object_fit": null,
            "object_position": null,
            "order": null,
            "overflow": null,
            "overflow_x": null,
            "overflow_y": null,
            "padding": null,
            "right": null,
            "top": null,
            "visibility": null,
            "width": null
          }
        },
        "8899f82d70aa45e782632dc495fcc254": {
          "model_module": "@jupyter-widgets/controls",
          "model_name": "ProgressStyleModel",
          "model_module_version": "1.5.0",
          "state": {
            "_model_module": "@jupyter-widgets/controls",
            "_model_module_version": "1.5.0",
            "_model_name": "ProgressStyleModel",
            "_view_count": null,
            "_view_module": "@jupyter-widgets/base",
            "_view_module_version": "1.2.0",
            "_view_name": "StyleView",
            "bar_color": null,
            "description_width": ""
          }
        },
        "541ba9ed553340b59bb6e7c869d9d78f": {
          "model_module": "@jupyter-widgets/base",
          "model_name": "LayoutModel",
          "model_module_version": "1.2.0",
          "state": {
            "_model_module": "@jupyter-widgets/base",
            "_model_module_version": "1.2.0",
            "_model_name": "LayoutModel",
            "_view_count": null,
            "_view_module": "@jupyter-widgets/base",
            "_view_module_version": "1.2.0",
            "_view_name": "LayoutView",
            "align_content": null,
            "align_items": null,
            "align_self": null,
            "border": null,
            "bottom": null,
            "display": null,
            "flex": null,
            "flex_flow": null,
            "grid_area": null,
            "grid_auto_columns": null,
            "grid_auto_flow": null,
            "grid_auto_rows": null,
            "grid_column": null,
            "grid_gap": null,
            "grid_row": null,
            "grid_template_areas": null,
            "grid_template_columns": null,
            "grid_template_rows": null,
            "height": null,
            "justify_content": null,
            "justify_items": null,
            "left": null,
            "margin": null,
            "max_height": null,
            "max_width": null,
            "min_height": null,
            "min_width": null,
            "object_fit": null,
            "object_position": null,
            "order": null,
            "overflow": null,
            "overflow_x": null,
            "overflow_y": null,
            "padding": null,
            "right": null,
            "top": null,
            "visibility": null,
            "width": null
          }
        },
        "a3a6a2a88d734bb2b4da995a600d6f32": {
          "model_module": "@jupyter-widgets/controls",
          "model_name": "DescriptionStyleModel",
          "model_module_version": "1.5.0",
          "state": {
            "_model_module": "@jupyter-widgets/controls",
            "_model_module_version": "1.5.0",
            "_model_name": "DescriptionStyleModel",
            "_view_count": null,
            "_view_module": "@jupyter-widgets/base",
            "_view_module_version": "1.2.0",
            "_view_name": "StyleView",
            "description_width": ""
          }
        }
      }
    }
  },
  "nbformat": 4,
  "nbformat_minor": 0
}