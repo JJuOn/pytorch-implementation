{
  "nbformat": 4,
  "nbformat_minor": 0,
  "metadata": {
    "colab": {
      "name": "1.LeNet5.ipynb",
      "provenance": [],
      "collapsed_sections": []
    },
    "kernelspec": {
      "name": "python3",
      "display_name": "Python 3"
    },
    "language_info": {
      "name": "python"
    },
    "accelerator": "GPU"
  },
  "cells": [
    {
      "cell_type": "code",
      "metadata": {
        "colab": {
          "base_uri": "https://localhost:8080/"
        },
        "id": "D4F3iXgHCHfp",
        "outputId": "30094633-18d2-471a-b0bd-e82982531a93"
      },
      "source": [
        "!nvidia-smi"
      ],
      "execution_count": 36,
      "outputs": [
        {
          "output_type": "stream",
          "name": "stdout",
          "text": [
            "Wed Oct 27 14:13:04 2021       \n",
            "+-----------------------------------------------------------------------------+\n",
            "| NVIDIA-SMI 470.74       Driver Version: 460.32.03    CUDA Version: 11.2     |\n",
            "|-------------------------------+----------------------+----------------------+\n",
            "| GPU  Name        Persistence-M| Bus-Id        Disp.A | Volatile Uncorr. ECC |\n",
            "| Fan  Temp  Perf  Pwr:Usage/Cap|         Memory-Usage | GPU-Util  Compute M. |\n",
            "|                               |                      |               MIG M. |\n",
            "|===============================+======================+======================|\n",
            "|   0  Tesla K80           Off  | 00000000:00:04.0 Off |                    0 |\n",
            "| N/A   54C    P0    59W / 149W |    593MiB / 11441MiB |      0%      Default |\n",
            "|                               |                      |                  N/A |\n",
            "+-------------------------------+----------------------+----------------------+\n",
            "                                                                               \n",
            "+-----------------------------------------------------------------------------+\n",
            "| Processes:                                                                  |\n",
            "|  GPU   GI   CI        PID   Type   Process name                  GPU Memory |\n",
            "|        ID   ID                                                   Usage      |\n",
            "|=============================================================================|\n",
            "|  No running processes found                                                 |\n",
            "+-----------------------------------------------------------------------------+\n"
          ]
        }
      ]
    },
    {
      "cell_type": "markdown",
      "metadata": {
        "id": "d7UDHqdJFYNm"
      },
      "source": [
        "# Import Modules"
      ]
    },
    {
      "cell_type": "code",
      "metadata": {
        "id": "mA8EUwb2RD_y"
      },
      "source": [
        "import torch\n",
        "\n",
        "import torch.nn as nn\n",
        "import torch.optim as optim\n",
        "import torchvision.transforms as transforms\n",
        "import matplotlib.pyplot as plt\n",
        "import numpy as np\n",
        "\n",
        "from torch.cuda import is_available\n",
        "from torchvision.datasets import MNIST\n",
        "from torch.utils.data import DataLoader, random_split\n",
        "\n",
        "%matplotlib inline"
      ],
      "execution_count": 37,
      "outputs": []
    },
    {
      "cell_type": "code",
      "metadata": {
        "id": "ONchnNDiXm8i",
        "colab": {
          "base_uri": "https://localhost:8080/",
          "height": 35
        },
        "outputId": "c96b7f00-5191-41fc-beac-fe46efa10840"
      },
      "source": [
        "device='cuda' if is_available() else 'cpu'\n",
        "device"
      ],
      "execution_count": 38,
      "outputs": [
        {
          "output_type": "execute_result",
          "data": {
            "application/vnd.google.colaboratory.intrinsic+json": {
              "type": "string"
            },
            "text/plain": [
              "'cuda'"
            ]
          },
          "metadata": {},
          "execution_count": 38
        }
      ]
    },
    {
      "cell_type": "markdown",
      "metadata": {
        "id": "tqNE2DZYFbxQ"
      },
      "source": [
        "# Download data"
      ]
    },
    {
      "cell_type": "code",
      "metadata": {
        "id": "Uya9ykgYWiAd"
      },
      "source": [
        "transform=transforms.Compose([transforms.Resize((32,32)),\n",
        "                              transforms.ToTensor()])\n",
        "\n",
        "all_data=MNIST(root='.',train=True,transform=transform,download=True)\n",
        "\n",
        "train_ratio=0.8\n",
        "train_data_len=int(len(all_data)*0.8)\n",
        "valid_data_len=len(all_data)-train_data_len\n",
        "\n",
        "train_data,valid_data=random_split(all_data,[train_data_len,valid_data_len])\n",
        "test_data=MNIST(root='.',train=False,transform=transform,download=True)"
      ],
      "execution_count": 39,
      "outputs": []
    },
    {
      "cell_type": "code",
      "metadata": {
        "colab": {
          "base_uri": "https://localhost:8080/",
          "height": 299
        },
        "id": "rHUV3dStXxss",
        "outputId": "30e7b71d-05cf-46cb-83a7-472dfd9a35de"
      },
      "source": [
        "img=transforms.ToPILImage()(train_data[0][0])\n",
        "\n",
        "plt.title('Label: {}'.format(train_data[0][1]))\n",
        "plt.imshow(img,cmap='gray')"
      ],
      "execution_count": 40,
      "outputs": [
        {
          "output_type": "execute_result",
          "data": {
            "text/plain": [
              "<matplotlib.image.AxesImage at 0x7f39c47c9890>"
            ]
          },
          "metadata": {},
          "execution_count": 40
        },
        {
          "output_type": "display_data",
          "data": {
            "image/png": "[encoded data removed]",
            "text/plain": [
              "<Figure size 432x288 with 1 Axes>"
            ]
          },
          "metadata": {
            "needs_background": "light"
          }
        }
      ]
    },
    {
      "cell_type": "markdown",
      "metadata": {
        "id": "OHzLjYTAFhQE"
      },
      "source": [
        "# Define a Model"
      ]
    },
    {
      "cell_type": "code",
      "metadata": {
        "id": "3mCOlTUpRfWI"
      },
      "source": [
        "class LeNet5(nn.Module):\n",
        "    def __init__(self):\n",
        "        super(LeNet5,self).__init__()\n",
        "        self.c1=nn.Conv2d(in_channels=1,out_channels=6,kernel_size=5)\n",
        "        self.s2=nn.AvgPool2d(kernel_size=2)\n",
        "        self.c3=nn.Conv2d(in_channels=6,out_channels=16,kernel_size=5)\n",
        "        self.s4=nn.AvgPool2d(kernel_size=2)\n",
        "        self.c5=nn.Conv2d(in_channels=16,out_channels=120,kernel_size=5)\n",
        "        self.f6=nn.Linear(in_features=120,out_features=84)\n",
        "        self.f7=nn.Linear(in_features=84,out_features=10)\n",
        "\n",
        "    def forward(self,x):\n",
        "        x=self.c1(x)\n",
        "        x=self.s2(x)\n",
        "        x=self.c3(x)\n",
        "        x=self.s4(x)\n",
        "        x=self.c5(x).view(-1,120)\n",
        "        x=self.f6(x)\n",
        "        x=self.f7(x)\n",
        "        return x"
      ],
      "execution_count": 41,
      "outputs": []
    },
    {
      "cell_type": "markdown",
      "metadata": {
        "id": "CxncW78VFr_0"
      },
      "source": [
        "# Prepare training step"
      ]
    },
    {
      "cell_type": "code",
      "metadata": {
        "id": "mirGnnUTamRe"
      },
      "source": [
        "batch_size=128\n",
        "\n",
        "train_loader=DataLoader(train_data,batch_size=batch_size,shuffle=True)\n",
        "valid_loader=DataLoader(valid_data,batch_size=batch_size,shuffle=False)\n",
        "test_loader=DataLoader(test_data,batch_size=batch_size,shuffle=False)"
      ],
      "execution_count": 42,
      "outputs": []
    },
    {
      "cell_type": "code",
      "metadata": {
        "id": "zEvJ7NYZa5fu"
      },
      "source": [
        "model=LeNet5()\n",
        "criterion=nn.CrossEntropyLoss()\n",
        "optimizer=optim.Adam(model.parameters(),lr=0.001)\n",
        "\n",
        "model=model.to(device)\n",
        "criterion=criterion.to(device)"
      ],
      "execution_count": 43,
      "outputs": []
    },
    {
      "cell_type": "markdown",
      "metadata": {
        "id": "5JAdXrsdFwVp"
      },
      "source": [
        "# Train and validation"
      ]
    },
    {
      "cell_type": "code",
      "metadata": {
        "id": "8iGQiH62BzHg",
        "colab": {
          "base_uri": "https://localhost:8080/"
        },
        "outputId": "cd5a7b2c-2dd5-4eb0-e6c5-c3750b7c59ca"
      },
      "source": [
        "num_epochs=10\n",
        "patience=0\n",
        "early_stop=3\n",
        "max_acc=-np.inf\n",
        "\n",
        "for epoch in range(num_epochs):\n",
        "    train_loss=0\n",
        "    train_acc=0\n",
        "    model.train()\n",
        "    for data,label in train_loader:\n",
        "        optimizer.zero_grad()\n",
        "        data,label=data.to(device),label.to(device)\n",
        "        pred=model(data)\n",
        "        loss=criterion(pred,label)\n",
        "        loss.backward()\n",
        "        optimizer.step()\n",
        "        train_loss+=loss.item()*data.size(0)\n",
        "        train_acc+=pred.argmax(axis=1).eq(label).sum()\n",
        "    train_loss/=len(train_data)\n",
        "    train_acc=train_acc.cpu().item()/len(train_data)\n",
        "    print('Training Epoch {} - Loss : {:.8f} Accuracy : {:.2f}%'.format(epoch,train_loss,train_acc*100))\n",
        "    valid_loss=0\n",
        "    valid_acc=0\n",
        "    model.eval()\n",
        "    with torch.no_grad():\n",
        "        for data,label in valid_loader:\n",
        "            data,label=data.to(device),label.to(device)\n",
        "            pred=model(data)\n",
        "            loss=criterion(pred,label)\n",
        "            valid_loss=loss.item()*data.size(0)\n",
        "            valid_acc+=pred.argmax(axis=1).eq(label).sum()\n",
        "        valid_loss/=len(valid_data)\n",
        "        valid_acc=valid_acc.cpu().item()/len(valid_data)\n",
        "        print('Validation Epoch {} - Loss : {:.8f} Accuracy : {:.2f}%'.format(epoch,valid_loss,valid_acc*100))\n",
        "        if valid_acc>max_acc:\n",
        "            max_acc=valid_acc\n",
        "            patience=0\n",
        "        else:\n",
        "            patience+=1\n",
        "        if patience>=early_stop:\n",
        "            print('Train finished by early stopping')\n",
        "            break"
      ],
      "execution_count": 44,
      "outputs": [
        {
          "output_type": "stream",
          "name": "stdout",
          "text": [
            "Training Epoch 0 - Loss : 0.49882606 Accuracy : 85.40%\n",
            "Validation Epoch 0 - Loss : 0.00345895 Accuracy : 89.42%\n",
            "Training Epoch 1 - Loss : 0.35073825 Accuracy : 89.81%\n",
            "Validation Epoch 1 - Loss : 0.00306934 Accuracy : 90.40%\n",
            "Training Epoch 2 - Loss : 0.33255134 Accuracy : 90.37%\n",
            "Validation Epoch 2 - Loss : 0.00298590 Accuracy : 90.42%\n",
            "Training Epoch 3 - Loss : 0.32418257 Accuracy : 90.66%\n",
            "Validation Epoch 3 - Loss : 0.00302804 Accuracy : 90.66%\n",
            "Training Epoch 4 - Loss : 0.31937621 Accuracy : 91.02%\n",
            "Validation Epoch 4 - Loss : 0.00288067 Accuracy : 90.87%\n",
            "Training Epoch 5 - Loss : 0.31670417 Accuracy : 91.03%\n",
            "Validation Epoch 5 - Loss : 0.00316908 Accuracy : 90.58%\n",
            "Training Epoch 6 - Loss : 0.31443382 Accuracy : 91.00%\n",
            "Validation Epoch 6 - Loss : 0.00300575 Accuracy : 90.47%\n",
            "Training Epoch 7 - Loss : 0.31272442 Accuracy : 91.20%\n",
            "Validation Epoch 7 - Loss : 0.00275122 Accuracy : 91.38%\n",
            "Training Epoch 8 - Loss : 0.30933097 Accuracy : 91.29%\n",
            "Validation Epoch 8 - Loss : 0.00279970 Accuracy : 90.91%\n",
            "Training Epoch 9 - Loss : 0.30734950 Accuracy : 91.42%\n",
            "Validation Epoch 9 - Loss : 0.00283058 Accuracy : 91.04%\n"
          ]
        }
      ]
    },
    {
      "cell_type": "markdown",
      "metadata": {
        "id": "-2_pJADyF1eg"
      },
      "source": [
        "# Test"
      ]
    },
    {
      "cell_type": "code",
      "metadata": {
        "id": "GfLmIz3mEaDE",
        "colab": {
          "base_uri": "https://localhost:8080/"
        },
        "outputId": "48878c50-64b4-4b14-a077-fc698ed6784b"
      },
      "source": [
        "test_loss=0\n",
        "test_acc=0\n",
        "\n",
        "for data,label in test_loader:\n",
        "    data,label=data.to(device),label.to(device)\n",
        "    pred=model(data)\n",
        "    loss=criterion(pred,label)\n",
        "    test_loss+=loss.item()*data.size(0)\n",
        "    test_acc+=pred.argmax(axis=1).eq(label).sum()\n",
        "test_loss/=len(test_data)\n",
        "test_acc=test_acc.cpu().item()/len(test_data)\n",
        "print('Test Loss : {:.8f} Accuracy : {:.2f}%'.format(test_loss,test_acc))"
      ],
      "execution_count": 45,
      "outputs": [
        {
          "output_type": "stream",
          "name": "stdout",
          "text": [
            "Test Loss : 0.29161685 Accuracy : 0.92%\n"
          ]
        }
      ]
    },
    {
      "cell_type": "code",
      "metadata": {
        "colab": {
          "base_uri": "https://localhost:8080/",
          "height": 696
        },
        "id": "bmjzl9TBDjly",
        "outputId": "a560ff57-3330-4330-df52-905b6797c0b5"
      },
      "source": [
        "fig=plt.figure(figsize=(10,12))\n",
        "cols=4\n",
        "rows=4\n",
        "for i in range(1,cols*rows+1):\n",
        "    img=transforms.ToPILImage()(test_data[i][0])\n",
        "    pred=model(test_data[i][0].unsqueeze(0).to(device))\n",
        "    fig.add_subplot(rows,cols,i)\n",
        "    plt.title('pred:{} label:{}'.format(pred.argmax().cpu().item(),test_data[i][1]))\n",
        "    plt.imshow(img,cmap='gray')\n",
        "plt.show()"
      ],
      "execution_count": 46,
      "outputs": [
        {
          "output_type": "display_data",
          "data": {
            "image/png": "[encoded data removed]",
            "text/plain": [
              "<Figure size 720x864 with 16 Axes>"
            ]
          },
          "metadata": {
            "needs_background": "light"
          }
        }
      ]
    }
  ]
}