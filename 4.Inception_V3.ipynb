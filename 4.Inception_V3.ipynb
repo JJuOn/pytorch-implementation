{
  "cells": [
    {
      "cell_type": "markdown",
      "metadata": {
        "id": "xUoHzP_5kvCv"
      },
      "source": [
        "# Import Modules"
      ]
    },
    {
      "cell_type": "code",
      "execution_count": null,
      "metadata": {
        "id": "sXXoDCaXj8yA"
      },
      "outputs": [],
      "source": [
        "import torch\n",
        "\n",
        "import torch.nn.functional as F\n",
        "import numpy as np\n",
        "import pandas as pd\n",
        "import matplotlib.pyplot as plt\n",
        "\n",
        "from torch import nn, optim\n",
        "from torch.utils.data import Dataset, DataLoader, random_split\n",
        "from torchvision.datasets import CIFAR100\n",
        "from torch.cuda import is_available\n",
        "from torchvision import transforms\n",
        "from datetime import datetime\n",
        "%matplotlib inline"
      ]
    },
    {
      "cell_type": "code",
      "execution_count": null,
      "metadata": {
        "id": "uqAZ4zu9kniL"
      },
      "outputs": [],
      "source": [
        "device='cuda' if is_available() else 'cpu'"
      ]
    },
    {
      "cell_type": "markdown",
      "metadata": {
        "id": "sQcz0mgFkxjO"
      },
      "source": [
        "# Download dataset and calculate means and stds"
      ]
    },
    {
      "cell_type": "code",
      "execution_count": null,
      "metadata": {
        "colab": {
          "base_uri": "https://localhost:8080/",
          "height": 122,
          "referenced_widgets": [
            "1a6b37896eaa4a649b445a22d51cdf6c",
            "1aebd566bf68471a839acf3451f86ce5",
            "645149c6261b40528ba7b21b58c6e762",
            "04da2b01af3b4e24b077b9e27e0e40d6",
            "d318114a7ba3421f81edf87b47e7d70e",
            "2d945bfb225846d6882d32c7be533f41",
            "ca34bee5551f4192933af117e38ecea9",
            "c1c888ebdc6d43eabd93a3960f354ee5",
            "72aeacbae08c4bb499ebea1dbda18bb9",
            "bc3044d39a264adbb31f2e7986554bab",
            "e0aad6bd7ccf4ceb9f7b7af4a90e9882"
          ]
        },
        "id": "N26kupBHkpDM",
        "outputId": "4d22ff5c-5aff-4f19-fda9-c4e2a5ea57a3"
      },
      "outputs": [
        {
          "output_type": "stream",
          "name": "stdout",
          "text": [
            "Downloading https://www.cs.toronto.edu/~kriz/cifar-100-python.tar.gz to ./cifar-100-python.tar.gz\n"
          ]
        },
        {
          "output_type": "display_data",
          "data": {
            "text/plain": [
              "  0%|          | 0/169001437 [00:00<?, ?it/s]"
            ],
            "application/vnd.jupyter.widget-view+json": {
              "version_major": 2,
              "version_minor": 0,
              "model_id": "1a6b37896eaa4a649b445a22d51cdf6c"
            }
          },
          "metadata": {}
        },
        {
          "output_type": "stream",
          "name": "stdout",
          "text": [
            "Extracting ./cifar-100-python.tar.gz to .\n",
            "Mean: 0.50707513 0.48654887 0.44091785\n",
            "Std: 0.20079845 0.19834627 0.20219834\n"
          ]
        }
      ],
      "source": [
        "all_data=CIFAR100(root='.',train=True,transform=transforms.ToTensor(),download=True)\n",
        "\n",
        "meanRGB=[np.mean(x.numpy(),axis=(1,2)) for x,_ in all_data]\n",
        "stdRGB=[np.std(x.numpy(),axis=(1,2)) for x,_ in all_data]\n",
        "\n",
        "meanR = np.mean([m[0] for m in meanRGB])\n",
        "meanG = np.mean([m[1] for m in meanRGB])\n",
        "meanB = np.mean([m[2] for m in meanRGB])\n",
        "\n",
        "stdR = np.mean([s[0] for s in stdRGB])\n",
        "stdG = np.mean([s[1] for s in stdRGB])\n",
        "stdB = np.mean([s[2] for s in stdRGB])\n",
        "\n",
        "print('Mean:',meanR, meanG, meanB)\n",
        "print('Std:',stdR, stdG, stdB)"
      ]
    },
    {
      "cell_type": "markdown",
      "metadata": {
        "id": "NEEIpwHAk1ht"
      },
      "source": [
        "# Implement CustomSubset\n",
        "To use different augmentations to train subset and validation subset."
      ]
    },
    {
      "cell_type": "code",
      "execution_count": null,
      "metadata": {
        "id": "r_HJUPFsktFY"
      },
      "outputs": [],
      "source": [
        "class CustomSubset(Dataset):\n",
        "    def __init__(self,Subset,transform=None):\n",
        "        super(CustomSubset,self).__init__()\n",
        "        self.Subset=Subset\n",
        "        self.indices=Subset.indices\n",
        "        self.transform=transform\n",
        "\n",
        "    def __len__(self):\n",
        "        return len(self.Subset)\n",
        "\n",
        "    def __getitem__(self,idx):\n",
        "        img,label=self.Subset[idx]\n",
        "        if self.transform is not None:\n",
        "            img=self.transform(img)\n",
        "        return img,label"
      ]
    },
    {
      "cell_type": "code",
      "execution_count": null,
      "metadata": {
        "colab": {
          "base_uri": "https://localhost:8080/"
        },
        "id": "lKEz5SMflAub",
        "outputId": "6ed11bd4-1322-4a0c-d278-2e45ad5a3f96"
      },
      "outputs": [
        {
          "output_type": "stream",
          "name": "stdout",
          "text": [
            "Files already downloaded and verified\n"
          ]
        }
      ],
      "source": [
        "transform={\n",
        "    'train':transforms.Compose([\n",
        "                                transforms.RandomCrop((32, 32), padding=4),\n",
        "                                transforms.RandomHorizontalFlip(),\n",
        "                                transforms.ToTensor(),\n",
        "                                transforms.Normalize([meanR,meanG,meanB],[stdR,stdG,stdB])\n",
        "            ]),\n",
        "    'test':transforms.Compose([\n",
        "                               transforms.ToTensor(),\n",
        "                               transforms.Normalize([meanR,meanG,meanB],[stdR,stdG,stdB])\n",
        "            ])\n",
        "}\n",
        "\n",
        "train_ratio=0.8\n",
        "train_data_len=int(len(all_data)*0.8)\n",
        "valid_data_len=len(all_data)-train_data_len\n",
        "\n",
        "train_data,valid_data=random_split(all_data,[train_data_len,valid_data_len])\n",
        "\n",
        "all_data.transform=None\n",
        "train_data=CustomSubset(train_data,transform['train'])\n",
        "valid_data=CustomSubset(valid_data,transform['test'])\n",
        "test_data=CIFAR100(root='.',train=False,transform=transform['test'],download=True)"
      ]
    },
    {
      "cell_type": "markdown",
      "metadata": {
        "id": "Rc7hRKtOuxVa"
      },
      "source": [
        "# Define blocks"
      ]
    },
    {
      "cell_type": "code",
      "execution_count": null,
      "metadata": {
        "id": "jfCsHemGmIzk"
      },
      "outputs": [],
      "source": [
        "class BasicConv2d(nn.Module):\n",
        "    def __init__(self, in_channels, out_channels, **kwargs):\n",
        "        super(BasicConv2d, self).__init__()\n",
        "\n",
        "        self.conv = nn.Conv2d(in_channels, out_channels, bias=False, **kwargs)\n",
        "\n",
        "        self.bn = nn.BatchNorm2d(out_channels, eps=0.001)\n",
        "\n",
        "        self.relu = nn.ReLU(inplace=True)\n",
        "    \n",
        "    def forward(self, x):\n",
        "        x = self.conv(x)\n",
        "        x = self.bn(x)\n",
        "        x = self.relu(x)\n",
        "        return x\n",
        "\n",
        "\n",
        "class InceptionA(nn.Module):\n",
        "    def __init__(self, in_channels, pool_features):\n",
        "        super(InceptionA, self).__init__()\n",
        "\n",
        "        self.branch1x1 = BasicConv2d(in_channels, 64, kernel_size=1)\n",
        "\n",
        "        self.branch5x5 = nn.Sequential(BasicConv2d(in_channels, 48, kernel_size=1),\n",
        "                                        BasicConv2d(48, 64, kernel_size=5, padding=2))\n",
        "        \n",
        "        self.branch3x3dbl = nn.Sequential(BasicConv2d(in_channels, 64, kernel_size=1),\n",
        "                                          BasicConv2d(64, 96, kernel_size=3, padding=1),\n",
        "                                          BasicConv2d(96, 96, kernel_size=3, padding=1))\n",
        "\n",
        "        self.branch_pool = nn.Sequential(nn.AvgPool2d(kernel_size=3, stride=1, padding=1),\n",
        "                                         BasicConv2d(in_channels, pool_features, kernel_size=3, padding=1))\n",
        "\n",
        "    def forward(self, x):\n",
        "        branch1x1 = self.branch1x1(x)\n",
        "\n",
        "        branch5x5 = self.branch5x5(x)\n",
        "\n",
        "        branch3x3dbl = self.branch3x3dbl(x)\n",
        "\n",
        "        branch_pool = self.branch_pool(x)\n",
        "\n",
        "        outputs = torch.cat([branch1x1, branch5x5, branch3x3dbl, branch_pool], dim=1)\n",
        "\n",
        "        return outputs\n",
        "\n",
        "\n",
        "class InceptionB(nn.Module):\n",
        "    def __init__(self, in_channels):\n",
        "        super(InceptionB, self).__init__()\n",
        "\n",
        "        self.branch3x3 = BasicConv2d(in_channels, 384, kernel_size=3, stride=2)\n",
        "\n",
        "        self.branch3x3dbl = nn.Sequential(BasicConv2d(in_channels, 64, kernel_size=1),\n",
        "                                          BasicConv2d(64, 96, kernel_size=3, padding=1),\n",
        "                                          BasicConv2d(96, 96, kernel_size=3, stride=2))\n",
        "        \n",
        "        self.branch_pool = nn.MaxPool2d(kernel_size=3, stride=2)\n",
        "\n",
        "    def forward(self, x):\n",
        "        branch3x3 = self.branch3x3(x)\n",
        "\n",
        "        branch3x3dbl = self.branch3x3dbl(x)\n",
        "\n",
        "        branch_pool = self.branch_pool(x)\n",
        "\n",
        "        outputs = torch.cat([branch3x3, branch3x3dbl, branch_pool], dim=1)\n",
        "\n",
        "        return outputs\n",
        "\n",
        "\n",
        "class InceptionC(nn.Module):\n",
        "    def __init__(self, in_channels, channels_7x7):\n",
        "        super(InceptionC, self).__init__()\n",
        "\n",
        "        self.branch1x1 = BasicConv2d(in_channels, 192, kernel_size=1)\n",
        "\n",
        "        self.branch7x7 = nn.Sequential(BasicConv2d(in_channels, channels_7x7, kernel_size=1),\n",
        "                                       BasicConv2d(channels_7x7, channels_7x7, kernel_size=(1,7), padding=(0,3)),\n",
        "                                       BasicConv2d(channels_7x7, 192, kernel_size=(7,1), padding=(3,0)))\n",
        "        \n",
        "        self.branch7x7dbl = nn.Sequential(BasicConv2d(in_channels, channels_7x7, kernel_size=1),\n",
        "                                          BasicConv2d(channels_7x7, channels_7x7, kernel_size=(7,1), padding=(3,0)),\n",
        "                                          BasicConv2d(channels_7x7, channels_7x7, kernel_size=(1,7), padding=(0,3)),\n",
        "                                          BasicConv2d(channels_7x7, channels_7x7, kernel_size=(7,1), padding=(3,0)),\n",
        "                                          BasicConv2d(channels_7x7, 192, kernel_size=(1,7), padding=(0,3)))\n",
        "        \n",
        "        self.branch_pool = nn.Sequential(nn.AvgPool2d(kernel_size=3, stride=1, padding=1),\n",
        "                                         BasicConv2d(in_channels, 192, kernel_size=1))\n",
        "        \n",
        "    def forward(self, x):\n",
        "        branch1x1 = self.branch1x1(x)\n",
        "\n",
        "        branch7x7 = self.branch7x7(x)\n",
        "\n",
        "        branch7x7dbl = self.branch7x7dbl(x)\n",
        "\n",
        "        branch_pool = self.branch_pool(x)\n",
        "\n",
        "        outputs = torch.cat([branch1x1, branch7x7, branch7x7dbl, branch_pool], dim=1)\n",
        "\n",
        "        return outputs\n",
        "\n",
        "\n",
        "class InceptionD(nn.Module):\n",
        "    def __init__(self, in_channels):\n",
        "        super(InceptionD, self).__init__()\n",
        "\n",
        "        self.branch3x3 = nn.Sequential(BasicConv2d(in_channels, 192, kernel_size=1),\n",
        "                                       BasicConv2d(192, 320, kernel_size=3, stride=2))\n",
        "        \n",
        "        self.branch7x7x3 = nn.Sequential(BasicConv2d(in_channels, 192, kernel_size=1),\n",
        "                                         BasicConv2d(192, 192, kernel_size=(1,7), padding=(0,3)),\n",
        "                                         BasicConv2d(192, 192, kernel_size=(7,1), padding=(3,0)),\n",
        "                                         BasicConv2d(192, 192, kernel_size=3, stride=2))\n",
        "        \n",
        "        self.branch_pool = nn.MaxPool2d(kernel_size=3, stride=2)\n",
        "\n",
        "    def forward(self, x):\n",
        "        branch3x3 = self.branch3x3(x)\n",
        "\n",
        "        branch7x7x3 = self.branch7x7x3(x)\n",
        "\n",
        "        branch_pool = self.branch_pool(x)\n",
        "\n",
        "        outputs = torch.cat([branch3x3, branch7x7x3, branch_pool], dim=1)\n",
        "\n",
        "        return outputs\n",
        "\n",
        "\n",
        "class InceptionE(nn.Module):\n",
        "    def __init__(self, in_channels):\n",
        "        super(InceptionE, self).__init__()\n",
        "\n",
        "        self.branch1x1 = BasicConv2d(in_channels, 320, kernel_size=1)\n",
        "\n",
        "        self.branch3x3_1 = BasicConv2d(in_channels, 384, kernel_size=1)\n",
        "        self.branch3x3_2a = BasicConv2d(384, 384, kernel_size=(1,3), padding=(0,1))\n",
        "        self.branch3x3_2b = BasicConv2d(384, 384, kernel_size=(3,1), padding=(1,0))\n",
        "\n",
        "        self.branch3x3dbl_1 = BasicConv2d(in_channels, 448, kernel_size=1)\n",
        "        self.branch3x3dbl_2 = BasicConv2d(448, 384, kernel_size=3, padding=1)\n",
        "        self.branch3x3dbl_3a = BasicConv2d(384, 384, kernel_size=(1,3), padding=(0,1))\n",
        "        self.branch3x3dbl_3b = BasicConv2d(384, 384, kernel_size=(3,1), padding=(1,0))\n",
        "\n",
        "        self.branch_pool = nn.Sequential(nn.AvgPool2d(kernel_size=3, stride=1, padding=1),\n",
        "                                         BasicConv2d(in_channels, 192, kernel_size=1))\n",
        "        \n",
        "    def forward(self, x):\n",
        "        branch1x1 = self.branch1x1(x)\n",
        "\n",
        "        branch3x3 = self.branch3x3_1(x)\n",
        "        branch3x3_2a = self.branch3x3_2a(branch3x3)\n",
        "        branch3x3_2b = self.branch3x3_2b(branch3x3)\n",
        "        branch3x3 = torch.cat([branch3x3_2a, branch3x3_2b], dim=1)\n",
        "\n",
        "        branch3x3dbl = self.branch3x3dbl_1(x)\n",
        "        branch3x3dbl = self.branch3x3dbl_2(branch3x3dbl)\n",
        "        branch3x3dbl_3a = self.branch3x3dbl_3a(branch3x3dbl)\n",
        "        branch3x3dbl_3b = self.branch3x3dbl_3b(branch3x3dbl)\n",
        "        branch3x3dbl = torch.cat([branch3x3dbl_3a, branch3x3dbl_3b], dim=1)\n",
        "\n",
        "        branch_pool = self.branch_pool(x)\n",
        "\n",
        "        outputs = torch.cat([branch1x1, branch3x3, branch3x3dbl, branch_pool], dim=1)\n",
        "        return outputs\n",
        "\n",
        "\n",
        "class InceptionAux(nn.Module):\n",
        "    def __init__(self, in_channels, num_classes):\n",
        "        super(InceptionAux, self).__init__()\n",
        "\n",
        "        self.conv0 = BasicConv2d(in_channels, 128, kernel_size=1)\n",
        "        self.conv1 = BasicConv2d(128, 768, kernel_size=5)\n",
        "        self.conv1.stddev = 0.01\n",
        "\n",
        "        self.fc = nn.Linear(768, num_classes)\n",
        "        self.fc.stddev = 0.001\n",
        "        \n",
        "    def forward(self, x):\n",
        "        x = F.avg_pool2d(x, kernel_size=5, stride=3)\n",
        "        x = self.conv0(x)\n",
        "        x = self.conv1(x)\n",
        "        x = F.adaptive_avg_pool2d(x, (1,1))\n",
        "        x = torch.flatten(x, 1)\n",
        "        x = self.fc(x)\n",
        "        return x"
      ]
    },
    {
      "cell_type": "markdown",
      "metadata": {
        "id": "NaH57GMg8qqL"
      },
      "source": [
        "# Define Inception V3"
      ]
    },
    {
      "cell_type": "code",
      "execution_count": null,
      "metadata": {
        "id": "bQIES845lWYn"
      },
      "outputs": [],
      "source": [
        "class InceptionV3(nn.Module):\n",
        "    def __init__(self, num_classes=1000, aux_logits=True, transform_input=False, init_weights=None, dropout=0.5):\n",
        "        super(InceptionV3, self).__init__()\n",
        "\n",
        "        self.aux_logits = aux_logits\n",
        "        self.transform_input = transform_input\n",
        "\n",
        "        self.Conv2d_1 = BasicConv2d(3, 32, kernel_size=3, stride=2, padding=1)\n",
        "\n",
        "        self.Conv2d_2 = nn.Sequential(BasicConv2d(32, 32, kernel_size=3, padding=1),\n",
        "                                      BasicConv2d(32, 64, kernel_size=3, padding=1))\n",
        "        \n",
        "        self.maxpool1 = nn.MaxPool2d(kernel_size=3, stride=2)\n",
        "\n",
        "        self.Conv2d_3 = BasicConv2d(64, 80, kernel_size=1)\n",
        "        \n",
        "        self.Conv2d_4 = BasicConv2d(80, 192, kernel_size=3)\n",
        "        \n",
        "        self.maxpool2 = nn.MaxPool2d(kernel_size=3, stride=2)\n",
        "\n",
        "        self.Mixed_5 = nn.Sequential(InceptionA(192, pool_features=32),\n",
        "                                     InceptionA(256, pool_features=64),\n",
        "                                     InceptionA(288, pool_features=64))\n",
        "        \n",
        "        self.Mixed_6 = nn.Sequential(InceptionB(288),\n",
        "                                     InceptionC(768, channels_7x7=128),\n",
        "                                     InceptionC(768, channels_7x7=160),\n",
        "                                     InceptionC(768, channels_7x7=160),\n",
        "                                     InceptionC(768, channels_7x7=192))\n",
        "        \n",
        "        self.AuxLogits = None\n",
        "        if aux_logits:\n",
        "            self.AuxLogits = InceptionAux(768, num_classes)\n",
        "\n",
        "        self.Mixed_7 = nn.Sequential(InceptionD(768),\n",
        "                                     InceptionE(1280),\n",
        "                                     InceptionE(2048))\n",
        "        \n",
        "        self.avgpool = nn.AdaptiveAvgPool2d((1,1))\n",
        "        self.dropout = nn.Dropout(p=dropout)\n",
        "        self.fc = nn.Linear(2048, num_classes)\n",
        "\n",
        "        if init_weights:\n",
        "            for m in self.modules():\n",
        "                if isinstance(m, nn.Conv2d) or isinstance(m, nn.Linear):\n",
        "                    stddev = float(m.stddev) if hasattr(m, \"stddev\") else 0.1  # type: ignore\n",
        "                    torch.nn.init.trunc_normal_(m.weight, mean=0.0, std=stddev, a=-2, b=2)\n",
        "                elif isinstance(m, nn.BatchNorm2d):\n",
        "                    nn.init.constant_(m.weight, 1)\n",
        "                    nn.init.constant_(m.bias, 0)\n",
        "\n",
        "\n",
        "    def forward(self, x):\n",
        "        if self.transform_input:\n",
        "            x_ch0 = torch.unsqueeze(x[:, 0], 1) * (0.229 / 0.5) + (0.485 - 0.5) / 0.5\n",
        "            x_ch1 = torch.unsqueeze(x[:, 1], 1) * (0.224 / 0.5) + (0.456 - 0.5) / 0.5\n",
        "            x_ch2 = torch.unsqueeze(x[:, 2], 1) * (0.225 / 0.5) + (0.406 - 0.5) / 0.5\n",
        "            x = torch.cat([x_ch0, x_ch1, x_ch2], dim=1)\n",
        "            \n",
        "        x = self.Conv2d_1(x)\n",
        "        x = self.Conv2d_2(x)\n",
        "        # x = self.maxpool1(x) # no pooling for CIFAR100\n",
        "\n",
        "        x = self.Conv2d_3(x)\n",
        "        x = self.Conv2d_4(x)\n",
        "        # x = self.maxpool2(x) # no pooling for CIFAR100\n",
        "\n",
        "        x = self.Mixed_5(x)\n",
        "        x = self.Mixed_6(x)\n",
        "\n",
        "        aux = None\n",
        "        if self.AuxLogits is not None:\n",
        "            if self.training:\n",
        "                aux = self.AuxLogits(x)\n",
        "        \n",
        "        x = self.Mixed_7(x)\n",
        "        x = self.avgpool(x)\n",
        "        x = self.dropout(x)\n",
        "        x = torch.flatten(x, 1)\n",
        "        x = self.fc(x)\n",
        "        return x, aux\n"
      ]
    },
    {
      "cell_type": "markdown",
      "metadata": {
        "id": "YAi3BRgI9HGB"
      },
      "source": [
        "# Prepare training step"
      ]
    },
    {
      "cell_type": "code",
      "execution_count": null,
      "metadata": {
        "id": "nLI8SJ584a00"
      },
      "outputs": [],
      "source": [
        "batch_size=128\n",
        "\n",
        "train_loader=DataLoader(train_data,batch_size=batch_size,shuffle=True)\n",
        "valid_loader=DataLoader(valid_data,batch_size=batch_size,shuffle=False)\n",
        "test_loader=DataLoader(test_data,batch_size=batch_size,shuffle=False)"
      ]
    },
    {
      "cell_type": "code",
      "execution_count": null,
      "metadata": {
        "id": "NEwP6IRj4bQI"
      },
      "outputs": [],
      "source": [
        "model=InceptionV3(num_classes=100, aux_logits=False)\n",
        "criterion=nn.CrossEntropyLoss()\n",
        "optimizer=optim.SGD(model.parameters(), lr=0.01, weight_decay=0.0005)\n",
        "\n",
        "model=model.to(device)\n",
        "criterion=criterion.to(device)"
      ]
    },
    {
      "cell_type": "markdown",
      "metadata": {
        "id": "3TdPDFuH9MTy"
      },
      "source": [
        "# Train and validation"
      ]
    },
    {
      "cell_type": "code",
      "execution_count": null,
      "metadata": {
        "id": "biheGOIu4kCv"
      },
      "outputs": [],
      "source": [
        "def train(model,criterion,optimizer,train_loader,valid_loader,num_epochs=10,print_every=1,early_stop=None,model_path='vgg.pth'):\n",
        "    train_logs={'Loss':[],'Accuracy':[]}\n",
        "    valid_logs={'Loss':[],'Accuracy':[]}\n",
        "    try:\n",
        "        patience=0\n",
        "        best_acc=-np.inf\n",
        "        start_time = datetime.now()\n",
        "        for epoch in range(num_epochs):\n",
        "            train_loss=0\n",
        "            valid_loss=0\n",
        "            train_acc=0\n",
        "            valid_acc=0\n",
        "            # training step\n",
        "            model.train()\n",
        "            for data,target in train_loader:\n",
        "                optimizer.zero_grad()\n",
        "                data,target=data.to(device),target.to(device)\n",
        "                pred, _=model(data)\n",
        "                loss=criterion(pred,target)\n",
        "                loss.backward()\n",
        "                optimizer.step()\n",
        "                train_loss+=loss.item()*data.size(0)\n",
        "                train_acc+=torch.sum(pred.argmax(1)==target).item()\n",
        "            train_loss/=len(train_data)\n",
        "            train_acc/=len(train_data)\n",
        "            train_logs['Loss'].append(train_loss)\n",
        "            train_logs['Accuracy'].append(train_acc)\n",
        "            if (epoch+1)%print_every==0:\n",
        "                print('Training   Epoch {} - Loss : {:.8f} Accuracy : {:.4f}% Time elapsed: {}'.format(epoch,train_loss,train_acc*100,datetime.now()-start_time))\n",
        "            # validation step\n",
        "            with torch.no_grad():\n",
        "                model.eval()\n",
        "                for data,target in valid_loader:\n",
        "                    data,target=data.to(device),target.to(device)\n",
        "                    pred, _=model(data)\n",
        "                    loss=criterion(pred,target)\n",
        "                    valid_loss+=loss.item()*data.size(0)\n",
        "                    valid_acc+=torch.sum(pred.argmax(1)==target).item()\n",
        "                valid_loss/=len(valid_data)\n",
        "                valid_acc/=len(valid_data)\n",
        "                valid_logs['Loss'].append(valid_loss)\n",
        "                valid_logs['Accuracy'].append(valid_acc)\n",
        "                if (epoch+1)%print_every==0:\n",
        "                    print('Validation Epoch {} - Loss : {:.8f} Accuracy : {:.4f}% Time elapsed: {}'.format(epoch,valid_loss,valid_acc*100,datetime.now()-start_time))\n",
        "                if valid_acc>best_acc:\n",
        "                    best_acc=valid_acc\n",
        "                    torch.save(model.state_dict(),model_path)\n",
        "                    if early_stop is not None:\n",
        "                        patience=0\n",
        "                elif early_stop is not None:\n",
        "                    patience+=1\n",
        "                    if patience>=early_stop:\n",
        "                        print('Training finished by early stopping')\n",
        "                        return train_logs,valid_logs\n",
        "        return train_logs,valid_logs\n",
        "    except KeyboardInterrupt:\n",
        "        return train_logs, valid_logs"
      ]
    },
    {
      "cell_type": "code",
      "execution_count": null,
      "metadata": {
        "colab": {
          "base_uri": "https://localhost:8080/"
        },
        "id": "4Zg0JV-L4maF",
        "outputId": "88c0b5e2-c9d2-48c6-b9a4-47a095660056"
      },
      "outputs": [
        {
          "output_type": "stream",
          "name": "stdout",
          "text": [
            "Training   Epoch 0 - Loss : 4.39490073 Accuracy : 3.9500% Time elapsed: 0:00:58.760244\n",
            "Validation Epoch 0 - Loss : 4.15704762 Accuracy : 5.9600%\n",
            "Training   Epoch 1 - Loss : 4.04000319 Accuracy : 7.5075% Time elapsed: 0:02:01.317744\n",
            "Validation Epoch 1 - Loss : 3.90213085 Accuracy : 10.1900%\n",
            "Training   Epoch 2 - Loss : 3.81794973 Accuracy : 10.7875% Time elapsed: 0:03:03.855038\n",
            "Validation Epoch 2 - Loss : 3.71725070 Accuracy : 12.2300%\n",
            "Training   Epoch 3 - Loss : 3.65708578 Accuracy : 13.5550% Time elapsed: 0:04:06.339745\n",
            "Validation Epoch 3 - Loss : 3.52179576 Accuracy : 15.7100%\n",
            "Training   Epoch 4 - Loss : 3.49110581 Accuracy : 16.3650% Time elapsed: 0:05:08.923309\n",
            "Validation Epoch 4 - Loss : 3.43002825 Accuracy : 18.1200%\n",
            "Training   Epoch 5 - Loss : 3.34493741 Accuracy : 19.1725% Time elapsed: 0:06:11.441668\n",
            "Validation Epoch 5 - Loss : 3.31530778 Accuracy : 19.7700%\n",
            "Training   Epoch 6 - Loss : 3.20073863 Accuracy : 21.5750% Time elapsed: 0:07:13.920649\n",
            "Validation Epoch 6 - Loss : 3.15621834 Accuracy : 22.4900%\n",
            "Training   Epoch 7 - Loss : 3.07322086 Accuracy : 23.9650% Time elapsed: 0:08:16.376930\n",
            "Validation Epoch 7 - Loss : 3.11873029 Accuracy : 23.5400%\n",
            "Training   Epoch 8 - Loss : 2.95792663 Accuracy : 26.0425% Time elapsed: 0:09:18.819305\n",
            "Validation Epoch 8 - Loss : 2.92274173 Accuracy : 27.3800%\n",
            "Training   Epoch 9 - Loss : 2.83619138 Accuracy : 28.6225% Time elapsed: 0:10:21.271056\n",
            "Validation Epoch 9 - Loss : 2.84592208 Accuracy : 28.9400%\n",
            "Training   Epoch 10 - Loss : 2.72494003 Accuracy : 30.6125% Time elapsed: 0:11:23.810809\n",
            "Validation Epoch 10 - Loss : 2.75208131 Accuracy : 30.6700%\n",
            "Training   Epoch 11 - Loss : 2.61927216 Accuracy : 33.0700% Time elapsed: 0:12:26.491586\n",
            "Validation Epoch 11 - Loss : 2.64534329 Accuracy : 33.0700%\n",
            "Training   Epoch 12 - Loss : 2.51017005 Accuracy : 34.8850% Time elapsed: 0:13:28.789626\n",
            "Validation Epoch 12 - Loss : 2.57068220 Accuracy : 33.8200%\n",
            "Training   Epoch 13 - Loss : 2.40955858 Accuracy : 37.5050% Time elapsed: 0:14:31.224903\n",
            "Validation Epoch 13 - Loss : 2.63340472 Accuracy : 34.1100%\n",
            "Training   Epoch 14 - Loss : 2.31310117 Accuracy : 39.4125% Time elapsed: 0:15:33.528308\n",
            "Validation Epoch 14 - Loss : 2.44606571 Accuracy : 37.3900%\n",
            "Training   Epoch 15 - Loss : 2.23450581 Accuracy : 41.2175% Time elapsed: 0:16:35.950191\n",
            "Validation Epoch 15 - Loss : 2.40678080 Accuracy : 37.3400%\n",
            "Training   Epoch 16 - Loss : 2.14642646 Accuracy : 43.1075% Time elapsed: 0:17:38.094481\n",
            "Validation Epoch 16 - Loss : 2.45331180 Accuracy : 37.1600%\n",
            "Training   Epoch 17 - Loss : 2.05386059 Accuracy : 44.8325% Time elapsed: 0:18:40.080867\n",
            "Validation Epoch 17 - Loss : 2.27741198 Accuracy : 40.6800%\n",
            "Training   Epoch 18 - Loss : 1.98516161 Accuracy : 46.5125% Time elapsed: 0:19:42.546932\n",
            "Validation Epoch 18 - Loss : 2.25439598 Accuracy : 41.5500%\n",
            "Training   Epoch 19 - Loss : 1.91445332 Accuracy : 48.2925% Time elapsed: 0:20:45.066736\n",
            "Validation Epoch 19 - Loss : 2.37550541 Accuracy : 39.2300%\n",
            "Training   Epoch 20 - Loss : 1.83530455 Accuracy : 49.8900% Time elapsed: 0:21:47.336197\n",
            "Validation Epoch 20 - Loss : 2.30432072 Accuracy : 40.8800%\n",
            "Training   Epoch 21 - Loss : 1.76168975 Accuracy : 51.4375% Time elapsed: 0:22:49.521373\n",
            "Validation Epoch 21 - Loss : 2.21271066 Accuracy : 42.9900%\n",
            "Training   Epoch 22 - Loss : 1.69661500 Accuracy : 53.0900% Time elapsed: 0:23:52.075906\n",
            "Validation Epoch 22 - Loss : 2.14732499 Accuracy : 44.3500%\n",
            "Training   Epoch 23 - Loss : 1.63698626 Accuracy : 54.6350% Time elapsed: 0:24:54.548639\n",
            "Validation Epoch 23 - Loss : 2.11673658 Accuracy : 45.0700%\n",
            "Training   Epoch 24 - Loss : 1.57433149 Accuracy : 56.1725% Time elapsed: 0:25:57.034964\n",
            "Validation Epoch 24 - Loss : 2.12625884 Accuracy : 44.9200%\n",
            "Training   Epoch 25 - Loss : 1.50785873 Accuracy : 57.9850% Time elapsed: 0:26:59.457247\n",
            "Validation Epoch 25 - Loss : 2.05537117 Accuracy : 46.2500%\n",
            "Training   Epoch 26 - Loss : 1.44821417 Accuracy : 59.3325% Time elapsed: 0:28:02.245108\n",
            "Validation Epoch 26 - Loss : 1.97917097 Accuracy : 48.5500%\n",
            "Training   Epoch 27 - Loss : 1.38950812 Accuracy : 60.9600% Time elapsed: 0:29:05.412942\n",
            "Validation Epoch 27 - Loss : 2.01690926 Accuracy : 47.8500%\n",
            "Training   Epoch 28 - Loss : 1.34373974 Accuracy : 61.8800% Time elapsed: 0:30:08.446716\n",
            "Validation Epoch 28 - Loss : 2.06272311 Accuracy : 47.1200%\n",
            "Training   Epoch 29 - Loss : 1.27883531 Accuracy : 63.4800% Time elapsed: 0:31:11.164057\n",
            "Validation Epoch 29 - Loss : 2.14888799 Accuracy : 45.9500%\n",
            "Training   Epoch 30 - Loss : 1.24086120 Accuracy : 64.5075% Time elapsed: 0:32:13.862783\n",
            "Validation Epoch 30 - Loss : 2.06967901 Accuracy : 47.3300%\n",
            "Training   Epoch 31 - Loss : 1.17760278 Accuracy : 66.0900% Time elapsed: 0:33:16.521219\n",
            "Validation Epoch 31 - Loss : 1.98891882 Accuracy : 49.5700%\n",
            "Training   Epoch 32 - Loss : 1.12176787 Accuracy : 67.6700% Time elapsed: 0:34:19.438354\n",
            "Validation Epoch 32 - Loss : 2.03104188 Accuracy : 48.2000%\n",
            "Training   Epoch 33 - Loss : 1.08569598 Accuracy : 68.4275% Time elapsed: 0:35:22.003323\n",
            "Validation Epoch 33 - Loss : 2.05053303 Accuracy : 48.0900%\n",
            "Training   Epoch 34 - Loss : 1.02897807 Accuracy : 69.9250% Time elapsed: 0:36:24.713956\n",
            "Validation Epoch 34 - Loss : 2.13167866 Accuracy : 46.9000%\n",
            "Training   Epoch 35 - Loss : 0.98756700 Accuracy : 71.3275% Time elapsed: 0:37:27.476905\n",
            "Validation Epoch 35 - Loss : 1.97769424 Accuracy : 50.3300%\n",
            "Training   Epoch 36 - Loss : 0.93736230 Accuracy : 72.4650% Time elapsed: 0:38:30.363949\n",
            "Validation Epoch 36 - Loss : 2.20393221 Accuracy : 47.1600%\n",
            "Training   Epoch 37 - Loss : 0.89680225 Accuracy : 73.5325% Time elapsed: 0:39:33.130684\n",
            "Validation Epoch 37 - Loss : 1.99472475 Accuracy : 50.7400%\n",
            "Training   Epoch 38 - Loss : 0.85077131 Accuracy : 74.7550% Time elapsed: 0:40:36.152046\n",
            "Validation Epoch 38 - Loss : 2.13957013 Accuracy : 48.2300%\n",
            "Training   Epoch 39 - Loss : 0.81578489 Accuracy : 75.7700% Time elapsed: 0:41:38.862059\n",
            "Validation Epoch 39 - Loss : 2.02273574 Accuracy : 50.4200%\n",
            "Training   Epoch 40 - Loss : 0.76669456 Accuracy : 77.0800% Time elapsed: 0:42:41.621405\n",
            "Validation Epoch 40 - Loss : 2.06766658 Accuracy : 50.1200%\n",
            "Training   Epoch 41 - Loss : 0.73256228 Accuracy : 78.1575% Time elapsed: 0:43:44.219640\n",
            "Validation Epoch 41 - Loss : 2.05236166 Accuracy : 50.6600%\n",
            "Training   Epoch 42 - Loss : 0.69116314 Accuracy : 79.4925% Time elapsed: 0:44:46.966254\n",
            "Validation Epoch 42 - Loss : 2.03039807 Accuracy : 51.8200%\n",
            "Training   Epoch 43 - Loss : 0.66242517 Accuracy : 80.0300% Time elapsed: 0:45:49.833105\n",
            "Validation Epoch 43 - Loss : 2.18542354 Accuracy : 49.4700%\n",
            "Training   Epoch 44 - Loss : 0.62762206 Accuracy : 81.1125% Time elapsed: 0:46:52.630929\n",
            "Validation Epoch 44 - Loss : 2.02616861 Accuracy : 52.0200%\n",
            "Training   Epoch 45 - Loss : 0.58264566 Accuracy : 82.6325% Time elapsed: 0:47:55.693618\n",
            "Validation Epoch 45 - Loss : 2.24680702 Accuracy : 48.5200%\n",
            "Training   Epoch 46 - Loss : 0.55397603 Accuracy : 83.2525% Time elapsed: 0:48:58.234914\n",
            "Validation Epoch 46 - Loss : 2.20314977 Accuracy : 49.2600%\n",
            "Training   Epoch 47 - Loss : 0.53353788 Accuracy : 83.7800% Time elapsed: 0:50:00.811469\n",
            "Validation Epoch 47 - Loss : 2.09404127 Accuracy : 51.2700%\n",
            "Training   Epoch 48 - Loss : 0.50518806 Accuracy : 84.6525% Time elapsed: 0:51:03.449696\n",
            "Validation Epoch 48 - Loss : 2.20411958 Accuracy : 50.2300%\n",
            "Training   Epoch 49 - Loss : 0.47313861 Accuracy : 85.7600% Time elapsed: 0:52:05.975583\n",
            "Validation Epoch 49 - Loss : 2.16517597 Accuracy : 51.4800%\n"
          ]
        }
      ],
      "source": [
        "train_logs,valid_logs = train(model=model,\n",
        "                              criterion=criterion,\n",
        "                              optimizer=optimizer,\n",
        "                              train_loader=train_loader,\n",
        "                              valid_loader=valid_loader,\n",
        "                              num_epochs=50,\n",
        "                              print_every=1,\n",
        "                              early_stop=None,\n",
        "                              model_path='inception_v3.pth')"
      ]
    },
    {
      "cell_type": "code",
      "execution_count": null,
      "metadata": {
        "id": "LCabrPGn4oad",
        "colab": {
          "base_uri": "https://localhost:8080/"
        },
        "outputId": "21074798-590c-4a04-c19c-acacdd2dd94f"
      },
      "outputs": [
        {
          "output_type": "display_data",
          "data": {
            "text/plain": [
              "<Figure size 432x288 with 1 Axes>"
            ],
            "image/png": "[encoded data removed]"
          },
          "metadata": {
            "needs_background": "light"
          }
        }
      ],
      "source": [
        "plt.xlabel('Epoch')\n",
        "plt.ylabel('Loss')\n",
        "plt.plot([i for i in range(len(train_logs['Loss']))],train_logs['Loss'],label='train_loss')\n",
        "plt.plot([i for i in range(len(valid_logs['Loss']))],valid_logs['Loss'],label='valid_loss')\n",
        "plt.legend()\n",
        "plt.show()"
      ]
    },
    {
      "cell_type": "code",
      "execution_count": null,
      "metadata": {
        "id": "fg1dQbPn4p7m",
        "colab": {
          "base_uri": "https://localhost:8080/"
        },
        "outputId": "f089eb85-cbf9-4a59-df0b-9c19225364e6"
      },
      "outputs": [
        {
          "output_type": "display_data",
          "data": {
            "text/plain": [
              "<Figure size 432x288 with 1 Axes>"
            ],
            "image/png": "[encoded data removed]"
          },
          "metadata": {
            "needs_background": "light"
          }
        }
      ],
      "source": [
        "plt.xlabel('Epoch')\n",
        "plt.ylabel('Accuracy')\n",
        "plt.plot([i for i in range(len(train_logs['Accuracy']))],train_logs['Accuracy'],label='train_acc')\n",
        "plt.plot([i for i in range(len(valid_logs['Accuracy']))],valid_logs['Accuracy'],label='valid_acc')\n",
        "plt.legend()\n",
        "plt.show()"
      ]
    },
    {
      "cell_type": "markdown",
      "metadata": {
        "id": "YjaNLgfT9P0j"
      },
      "source": [
        "# Test"
      ]
    },
    {
      "cell_type": "code",
      "execution_count": null,
      "metadata": {
        "id": "VBp8gxgS9RTc"
      },
      "outputs": [],
      "source": [
        "model.load_state_dict(torch.load('inception_v3.pth'))\n",
        "model=model.to(device)"
      ]
    },
    {
      "cell_type": "code",
      "execution_count": null,
      "metadata": {
        "id": "uPmUMibD9VJ4"
      },
      "outputs": [],
      "source": [
        "def test(model,criterion,test_loader):\n",
        "    test_loss=0\n",
        "    test_acc=0\n",
        "    result_table=pd.DataFrame(columns=['Prediction','Target'])\n",
        "    with torch.no_grad():\n",
        "        model.eval()\n",
        "        for data,target in test_loader:\n",
        "            data,target=data.to(device),target.to(device)\n",
        "            pred,_=model(data)\n",
        "            loss=criterion(pred,target)\n",
        "            test_loss+=loss.item()*data.size(0)\n",
        "            test_acc+=torch.sum(pred.argmax(1)==target).item()\n",
        "            for p,t in zip(pred.argmax(1),target):\n",
        "                result_table=result_table.append({'Prediction':p.item(),'Target':t.item()},ignore_index=True)\n",
        "        test_loss/=len(test_data)\n",
        "        test_acc/=len(test_data)\n",
        "    return test_loss,test_acc,result_table"
      ]
    },
    {
      "cell_type": "code",
      "execution_count": null,
      "metadata": {
        "id": "qpz_4a-Y9YDA"
      },
      "outputs": [],
      "source": [
        "test_loss,test_acc,result_table=test(model=model,\n",
        "                                     criterion=criterion,\n",
        "                                     test_loader=test_loader)"
      ]
    },
    {
      "cell_type": "code",
      "execution_count": null,
      "metadata": {
        "id": "_zcabWJn9ZJd",
        "colab": {
          "base_uri": "https://localhost:8080/"
        },
        "outputId": "adb2e30c-225c-4d73-8a1a-45f7195e6573"
      },
      "outputs": [
        {
          "output_type": "stream",
          "name": "stdout",
          "text": [
            "Test Loss : 2.02562830 Test Accuracy : 52.8000%\n"
          ]
        }
      ],
      "source": [
        "print('Test Loss : {:.8f} Test Accuracy : {:.4f}%'.format(test_loss,test_acc*100))"
      ]
    },
    {
      "cell_type": "code",
      "execution_count": null,
      "metadata": {
        "id": "xyXVltZC9Z6T",
        "colab": {
          "base_uri": "https://localhost:8080/"
        },
        "outputId": "f54ffe36-4d12-42b9-b615-20674b75b7c9"
      },
      "outputs": [
        {
          "output_type": "execute_result",
          "data": {
            "text/plain": [
              "     Prediction Target\n",
              "0            72     49\n",
              "1            56     33\n",
              "2            55     72\n",
              "3            89     51\n",
              "4            71     71\n",
              "...         ...    ...\n",
              "9995         83     83\n",
              "9996         65     14\n",
              "9997         51     51\n",
              "9998         42     42\n",
              "9999         70     70\n",
              "\n",
              "[10000 rows x 2 columns]"
            ],
            "text/html": [
              "\n",
              "  <div id=\"df-9ac5c1c5-25ca-43f7-8419-ae92f0faf706\">\n",
              "    <div class=\"colab-df-container\">\n",
              "      <div>\n",
              "<style scoped>\n",
              "    .dataframe tbody tr th:only-of-type {\n",
              "        vertical-align: middle;\n",
              "    }\n",
              "\n",
              "    .dataframe tbody tr th {\n",
              "        vertical-align: top;\n",
              "    }\n",
              "\n",
              "    .dataframe thead th {\n",
              "        text-align: right;\n",
              "    }\n",
              "</style>\n",
              "<table border=\"1\" class=\"dataframe\">\n",
              "  <thead>\n",
              "    <tr style=\"text-align: right;\">\n",
              "      <th></th>\n",
              "      <th>Prediction</th>\n",
              "      <th>Target</th>\n",
              "    </tr>\n",
              "  </thead>\n",
              "  <tbody>\n",
              "    <tr>\n",
              "      <th>0</th>\n",
              "      <td>72</td>\n",
              "      <td>49</td>\n",
              "    </tr>\n",
              "    <tr>\n",
              "      <th>1</th>\n",
              "      <td>56</td>\n",
              "      <td>33</td>\n",
              "    </tr>\n",
              "    <tr>\n",
              "      <th>2</th>\n",
              "      <td>55</td>\n",
              "      <td>72</td>\n",
              "    </tr>\n",
              "    <tr>\n",
              "      <th>3</th>\n",
              "      <td>89</td>\n",
              "      <td>51</td>\n",
              "    </tr>\n",
              "    <tr>\n",
              "      <th>4</th>\n",
              "      <td>71</td>\n",
              "      <td>71</td>\n",
              "    </tr>\n",
              "    <tr>\n",
              "      <th>...</th>\n",
              "      <td>...</td>\n",
              "      <td>...</td>\n",
              "    </tr>\n",
              "    <tr>\n",
              "      <th>9995</th>\n",
              "      <td>83</td>\n",
              "      <td>83</td>\n",
              "    </tr>\n",
              "    <tr>\n",
              "      <th>9996</th>\n",
              "      <td>65</td>\n",
              "      <td>14</td>\n",
              "    </tr>\n",
              "    <tr>\n",
              "      <th>9997</th>\n",
              "      <td>51</td>\n",
              "      <td>51</td>\n",
              "    </tr>\n",
              "    <tr>\n",
              "      <th>9998</th>\n",
              "      <td>42</td>\n",
              "      <td>42</td>\n",
              "    </tr>\n",
              "    <tr>\n",
              "      <th>9999</th>\n",
              "      <td>70</td>\n",
              "      <td>70</td>\n",
              "    </tr>\n",
              "  </tbody>\n",
              "</table>\n",
              "<p>10000 rows × 2 columns</p>\n",
              "</div>\n",
              "      <button class=\"colab-df-convert\" onclick=\"convertToInteractive('df-9ac5c1c5-25ca-43f7-8419-ae92f0faf706')\"\n",
              "              title=\"Convert this dataframe to an interactive table.\"\n",
              "              style=\"display:none;\">\n",
              "        \n",
              "  <svg xmlns=\"http://www.w3.org/2000/svg\" height=\"24px\"viewBox=\"0 0 24 24\"\n",
              "       width=\"24px\">\n",
              "    <path d=\"M0 0h24v24H0V0z\" fill=\"none\"/>\n",
              "    <path d=\"M18.56 5.44l.94 2.06.94-2.06 2.06-.94-2.06-.94-.94-2.06-.94 2.06-2.06.94zm-11 1L8.5 8.5l.94-2.06 2.06-.94-2.06-.94L8.5 2.5l-.94 2.06-2.06.94zm10 10l.94 2.06.94-2.06 2.06-.94-2.06-.94-.94-2.06-.94 2.06-2.06.94z\"/><path d=\"M17.41 7.96l-1.37-1.37c-.4-.4-.92-.59-1.43-.59-.52 0-1.04.2-1.43.59L10.3 9.45l-7.72 7.72c-.78.78-.78 2.05 0 2.83L4 21.41c.39.39.9.59 1.41.59.51 0 1.02-.2 1.41-.59l7.78-7.78 2.81-2.81c.8-.78.8-2.07 0-2.86zM5.41 20L4 18.59l7.72-7.72 1.47 1.35L5.41 20z\"/>\n",
              "  </svg>\n",
              "      </button>\n",
              "      \n",
              "  <style>\n",
              "    .colab-df-container {\n",
              "      display:flex;\n",
              "      flex-wrap:wrap;\n",
              "      gap: 12px;\n",
              "    }\n",
              "\n",
              "    .colab-df-convert {\n",
              "      background-color: #E8F0FE;\n",
              "      border: none;\n",
              "      border-radius: 50%;\n",
              "      cursor: pointer;\n",
              "      display: none;\n",
              "      fill: #1967D2;\n",
              "      height: 32px;\n",
              "      padding: 0 0 0 0;\n",
              "      width: 32px;\n",
              "    }\n",
              "\n",
              "    .colab-df-convert:hover {\n",
              "      background-color: #E2EBFA;\n",
              "      box-shadow: 0px 1px 2px rgba(60, 64, 67, 0.3), 0px 1px 3px 1px rgba(60, 64, 67, 0.15);\n",
              "      fill: #174EA6;\n",
              "    }\n",
              "\n",
              "    [theme=dark] .colab-df-convert {\n",
              "      background-color: #3B4455;\n",
              "      fill: #D2E3FC;\n",
              "    }\n",
              "\n",
              "    [theme=dark] .colab-df-convert:hover {\n",
              "      background-color: #434B5C;\n",
              "      box-shadow: 0px 1px 3px 1px rgba(0, 0, 0, 0.15);\n",
              "      filter: drop-shadow(0px 1px 2px rgba(0, 0, 0, 0.3));\n",
              "      fill: #FFFFFF;\n",
              "    }\n",
              "  </style>\n",
              "\n",
              "      <script>\n",
              "        const buttonEl =\n",
              "          document.querySelector('#df-9ac5c1c5-25ca-43f7-8419-ae92f0faf706 button.colab-df-convert');\n",
              "        buttonEl.style.display =\n",
              "          google.colab.kernel.accessAllowed ? 'block' : 'none';\n",
              "\n",
              "        async function convertToInteractive(key) {\n",
              "          const element = document.querySelector('#df-9ac5c1c5-25ca-43f7-8419-ae92f0faf706');\n",
              "          const dataTable =\n",
              "            await google.colab.kernel.invokeFunction('convertToInteractive',\n",
              "                                                     [key], {});\n",
              "          if (!dataTable) return;\n",
              "\n",
              "          const docLinkHtml = 'Like what you see? Visit the ' +\n",
              "            '<a target=\"_blank\" href=https://colab.research.google.com/notebooks/data_table.ipynb>data table notebook</a>'\n",
              "            + ' to learn more about interactive tables.';\n",
              "          element.innerHTML = '';\n",
              "          dataTable['output_type'] = 'display_data';\n",
              "          await google.colab.output.renderOutput(dataTable, element);\n",
              "          const docLink = document.createElement('div');\n",
              "          docLink.innerHTML = docLinkHtml;\n",
              "          element.appendChild(docLink);\n",
              "        }\n",
              "      </script>\n",
              "    </div>\n",
              "  </div>\n",
              "  "
            ]
          },
          "metadata": {},
          "execution_count": 18
        }
      ],
      "source": [
        "result_table"
      ]
    }
  ],
  "metadata": {
    "accelerator": "GPU",
    "colab": {
      "collapsed_sections": [],
      "name": "4.Inception V3",
      "provenance": []
    },
    "kernelspec": {
      "display_name": "Python 3",
      "name": "python3"
    },
    "language_info": {
      "name": "python"
    },
    "widgets": {
      "application/vnd.jupyter.widget-state+json": {
        "1a6b37896eaa4a649b445a22d51cdf6c": {
          "model_module": "@jupyter-widgets/controls",
          "model_name": "HBoxModel",
          "model_module_version": "1.5.0",
          "state": {
            "_dom_classes": [],
            "_model_module": "@jupyter-widgets/controls",
            "_model_module_version": "1.5.0",
            "_model_name": "HBoxModel",
            "_view_count": null,
            "_view_module": "@jupyter-widgets/controls",
            "_view_module_version": "1.5.0",
            "_view_name": "HBoxView",
            "box_style": "",
            "children": [
              "IPY_MODEL_1aebd566bf68471a839acf3451f86ce5",
              "IPY_MODEL_645149c6261b40528ba7b21b58c6e762",
              "IPY_MODEL_04da2b01af3b4e24b077b9e27e0e40d6"
            ],
            "layout": "IPY_MODEL_d318114a7ba3421f81edf87b47e7d70e"
          }
        },
        "1aebd566bf68471a839acf3451f86ce5": {
          "model_module": "@jupyter-widgets/controls",
          "model_name": "HTMLModel",
          "model_module_version": "1.5.0",
          "state": {
            "_dom_classes": [],
            "_model_module": "@jupyter-widgets/controls",
            "_model_module_version": "1.5.0",
            "_model_name": "HTMLModel",
            "_view_count": null,
            "_view_module": "@jupyter-widgets/controls",
            "_view_module_version": "1.5.0",
            "_view_name": "HTMLView",
            "description": "",
            "description_tooltip": null,
            "layout": "IPY_MODEL_2d945bfb225846d6882d32c7be533f41",
            "placeholder": "​",
            "style": "IPY_MODEL_ca34bee5551f4192933af117e38ecea9",
            "value": ""
          }
        },
        "645149c6261b40528ba7b21b58c6e762": {
          "model_module": "@jupyter-widgets/controls",
          "model_name": "FloatProgressModel",
          "model_module_version": "1.5.0",
          "state": {
            "_dom_classes": [],
            "_model_module": "@jupyter-widgets/controls",
            "_model_module_version": "1.5.0",
            "_model_name": "FloatProgressModel",
            "_view_count": null,
            "_view_module": "@jupyter-widgets/controls",
            "_view_module_version": "1.5.0",
            "_view_name": "ProgressView",
            "bar_style": "success",
            "description": "",
            "description_tooltip": null,
            "layout": "IPY_MODEL_c1c888ebdc6d43eabd93a3960f354ee5",
            "max": 169001437,
            "min": 0,
            "orientation": "horizontal",
            "style": "IPY_MODEL_72aeacbae08c4bb499ebea1dbda18bb9",
            "value": 169001437
          }
        },
        "04da2b01af3b4e24b077b9e27e0e40d6": {
          "model_module": "@jupyter-widgets/controls",
          "model_name": "HTMLModel",
          "model_module_version": "1.5.0",
          "state": {
            "_dom_classes": [],
            "_model_module": "@jupyter-widgets/controls",
            "_model_module_version": "1.5.0",
            "_model_name": "HTMLModel",
            "_view_count": null,
            "_view_module": "@jupyter-widgets/controls",
            "_view_module_version": "1.5.0",
            "_view_name": "HTMLView",
            "description": "",
            "description_tooltip": null,
            "layout": "IPY_MODEL_bc3044d39a264adbb31f2e7986554bab",
            "placeholder": "​",
            "style": "IPY_MODEL_e0aad6bd7ccf4ceb9f7b7af4a90e9882",
            "value": " 169001984/? [00:03&lt;00:00, 54407179.07it/s]"
          }
        },
        "d318114a7ba3421f81edf87b47e7d70e": {
          "model_module": "@jupyter-widgets/base",
          "model_name": "LayoutModel",
          "model_module_version": "1.2.0",
          "state": {
            "_model_module": "@jupyter-widgets/base",
            "_model_module_version": "1.2.0",
            "_model_name": "LayoutModel",
            "_view_count": null,
            "_view_module": "@jupyter-widgets/base",
            "_view_module_version": "1.2.0",
            "_view_name": "LayoutView",
            "align_content": null,
            "align_items": null,
            "align_self": null,
            "border": null,
            "bottom": null,
            "display": null,
            "flex": null,
            "flex_flow": null,
            "grid_area": null,
            "grid_auto_columns": null,
            "grid_auto_flow": null,
            "grid_auto_rows": null,
            "grid_column": null,
            "grid_gap": null,
            "grid_row": null,
            "grid_template_areas": null,
            "grid_template_columns": null,
            "grid_template_rows": null,
            "height": null,
            "justify_content": null,
            "justify_items": null,
            "left": null,
            "margin": null,
            "max_height": null,
            "max_width": null,
            "min_height": null,
            "min_width": null,
            "object_fit": null,
            "object_position": null,
            "order": null,
            "overflow": null,
            "overflow_x": null,
            "overflow_y": null,
            "padding": null,
            "right": null,
            "top": null,
            "visibility": null,
            "width": null
          }
        },
        "2d945bfb225846d6882d32c7be533f41": {
          "model_module": "@jupyter-widgets/base",
          "model_name": "LayoutModel",
          "model_module_version": "1.2.0",
          "state": {
            "_model_module": "@jupyter-widgets/base",
            "_model_module_version": "1.2.0",
            "_model_name": "LayoutModel",
            "_view_count": null,
            "_view_module": "@jupyter-widgets/base",
            "_view_module_version": "1.2.0",
            "_view_name": "LayoutView",
            "align_content": null,
            "align_items": null,
            "align_self": null,
            "border": null,
            "bottom": null,
            "display": null,
            "flex": null,
            "flex_flow": null,
            "grid_area": null,
            "grid_auto_columns": null,
            "grid_auto_flow": null,
            "grid_auto_rows": null,
            "grid_column": null,
            "grid_gap": null,
            "grid_row": null,
            "grid_template_areas": null,
            "grid_template_columns": null,
            "grid_template_rows": null,
            "height": null,
            "justify_content": null,
            "justify_items": null,
            "left": null,
            "margin": null,
            "max_height": null,
            "max_width": null,
            "min_height": null,
            "min_width": null,
            "object_fit": null,
            "object_position": null,
            "order": null,
            "overflow": null,
            "overflow_x": null,
            "overflow_y": null,
            "padding": null,
            "right": null,
            "top": null,
            "visibility": null,
            "width": null
          }
        },
        "ca34bee5551f4192933af117e38ecea9": {
          "model_module": "@jupyter-widgets/controls",
          "model_name": "DescriptionStyleModel",
          "model_module_version": "1.5.0",
          "state": {
            "_model_module": "@jupyter-widgets/controls",
            "_model_module_version": "1.5.0",
            "_model_name": "DescriptionStyleModel",
            "_view_count": null,
            "_view_module": "@jupyter-widgets/base",
            "_view_module_version": "1.2.0",
            "_view_name": "StyleView",
            "description_width": ""
          }
        },
        "c1c888ebdc6d43eabd93a3960f354ee5": {
          "model_module": "@jupyter-widgets/base",
          "model_name": "LayoutModel",
          "model_module_version": "1.2.0",
          "state": {
            "_model_module": "@jupyter-widgets/base",
            "_model_module_version": "1.2.0",
            "_model_name": "LayoutModel",
            "_view_count": null,
            "_view_module": "@jupyter-widgets/base",
            "_view_module_version": "1.2.0",
            "_view_name": "LayoutView",
            "align_content": null,
            "align_items": null,
            "align_self": null,
            "border": null,
            "bottom": null,
            "display": null,
            "flex": null,
            "flex_flow": null,
            "grid_area": null,
            "grid_auto_columns": null,
            "grid_auto_flow": null,
            "grid_auto_rows": null,
            "grid_column": null,
            "grid_gap": null,
            "grid_row": null,
            "grid_template_areas": null,
            "grid_template_columns": null,
            "grid_template_rows": null,
            "height": null,
            "justify_content": null,
            "justify_items": null,
            "left": null,
            "margin": null,
            "max_height": null,
            "max_width": null,
            "min_height": null,
            "min_width": null,
            "object_fit": null,
            "object_position": null,
            "order": null,
            "overflow": null,
            "overflow_x": null,
            "overflow_y": null,
            "padding": null,
            "right": null,
            "top": null,
            "visibility": null,
            "width": null
          }
        },
        "72aeacbae08c4bb499ebea1dbda18bb9": {
          "model_module": "@jupyter-widgets/controls",
          "model_name": "ProgressStyleModel",
          "model_module_version": "1.5.0",
          "state": {
            "_model_module": "@jupyter-widgets/controls",
            "_model_module_version": "1.5.0",
            "_model_name": "ProgressStyleModel",
            "_view_count": null,
            "_view_module": "@jupyter-widgets/base",
            "_view_module_version": "1.2.0",
            "_view_name": "StyleView",
            "bar_color": null,
            "description_width": ""
          }
        },
        "bc3044d39a264adbb31f2e7986554bab": {
          "model_module": "@jupyter-widgets/base",
          "model_name": "LayoutModel",
          "model_module_version": "1.2.0",
          "state": {
            "_model_module": "@jupyter-widgets/base",
            "_model_module_version": "1.2.0",
            "_model_name": "LayoutModel",
            "_view_count": null,
            "_view_module": "@jupyter-widgets/base",
            "_view_module_version": "1.2.0",
            "_view_name": "LayoutView",
            "align_content": null,
            "align_items": null,
            "align_self": null,
            "border": null,
            "bottom": null,
            "display": null,
            "flex": null,
            "flex_flow": null,
            "grid_area": null,
            "grid_auto_columns": null,
            "grid_auto_flow": null,
            "grid_auto_rows": null,
            "grid_column": null,
            "grid_gap": null,
            "grid_row": null,
            "grid_template_areas": null,
            "grid_template_columns": null,
            "grid_template_rows": null,
            "height": null,
            "justify_content": null,
            "justify_items": null,
            "left": null,
            "margin": null,
            "max_height": null,
            "max_width": null,
            "min_height": null,
            "min_width": null,
            "object_fit": null,
            "object_position": null,
            "order": null,
            "overflow": null,
            "overflow_x": null,
            "overflow_y": null,
            "padding": null,
            "right": null,
            "top": null,
            "visibility": null,
            "width": null
          }
        },
        "e0aad6bd7ccf4ceb9f7b7af4a90e9882": {
          "model_module": "@jupyter-widgets/controls",
          "model_name": "DescriptionStyleModel",
          "model_module_version": "1.5.0",
          "state": {
            "_model_module": "@jupyter-widgets/controls",
            "_model_module_version": "1.5.0",
            "_model_name": "DescriptionStyleModel",
            "_view_count": null,
            "_view_module": "@jupyter-widgets/base",
            "_view_module_version": "1.2.0",
            "_view_name": "StyleView",
            "description_width": ""
          }
        }
      }
    }
  },
  "nbformat": 4,
  "nbformat_minor": 0
}