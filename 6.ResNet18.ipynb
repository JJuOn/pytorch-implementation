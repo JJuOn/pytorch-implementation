{
  "nbformat": 4,
  "nbformat_minor": 0,
  "metadata": {
    "colab": {
      "name": "6.ResNet18",
      "provenance": [],
      "collapsed_sections": []
    },
    "kernelspec": {
      "name": "python3",
      "display_name": "Python 3"
    },
    "language_info": {
      "name": "python"
    },
    "accelerator": "GPU",
    "widgets": {
      "application/vnd.jupyter.widget-state+json": {
        "a547fa2975554e6188d4afdbee5a4163": {
          "model_module": "@jupyter-widgets/controls",
          "model_name": "HBoxModel",
          "model_module_version": "1.5.0",
          "state": {
            "_dom_classes": [],
            "_model_module": "@jupyter-widgets/controls",
            "_model_module_version": "1.5.0",
            "_model_name": "HBoxModel",
            "_view_count": null,
            "_view_module": "@jupyter-widgets/controls",
            "_view_module_version": "1.5.0",
            "_view_name": "HBoxView",
            "box_style": "",
            "children": [
              "IPY_MODEL_c05b024f165a4fe5a749f5f688028b73",
              "IPY_MODEL_72d5d23fade746b185159b53070d14b2",
              "IPY_MODEL_1ed8d4efd1b940aeb6e21c68a3b51921"
            ],
            "layout": "IPY_MODEL_f080dcb398804e6798a242679127a661"
          }
        },
        "c05b024f165a4fe5a749f5f688028b73": {
          "model_module": "@jupyter-widgets/controls",
          "model_name": "HTMLModel",
          "model_module_version": "1.5.0",
          "state": {
            "_dom_classes": [],
            "_model_module": "@jupyter-widgets/controls",
            "_model_module_version": "1.5.0",
            "_model_name": "HTMLModel",
            "_view_count": null,
            "_view_module": "@jupyter-widgets/controls",
            "_view_module_version": "1.5.0",
            "_view_name": "HTMLView",
            "description": "",
            "description_tooltip": null,
            "layout": "IPY_MODEL_a06a5ad984654bed8aeda45f419d2589",
            "placeholder": "​",
            "style": "IPY_MODEL_e3757501f2fc402db430cec04c094806",
            "value": ""
          }
        },
        "72d5d23fade746b185159b53070d14b2": {
          "model_module": "@jupyter-widgets/controls",
          "model_name": "FloatProgressModel",
          "model_module_version": "1.5.0",
          "state": {
            "_dom_classes": [],
            "_model_module": "@jupyter-widgets/controls",
            "_model_module_version": "1.5.0",
            "_model_name": "FloatProgressModel",
            "_view_count": null,
            "_view_module": "@jupyter-widgets/controls",
            "_view_module_version": "1.5.0",
            "_view_name": "ProgressView",
            "bar_style": "success",
            "description": "",
            "description_tooltip": null,
            "layout": "IPY_MODEL_56d9e6358d384e0eb8701cb1905b733b",
            "max": 169001437,
            "min": 0,
            "orientation": "horizontal",
            "style": "IPY_MODEL_2ae5d7cecd5c4062853a117e89ba40e6",
            "value": 169001437
          }
        },
        "1ed8d4efd1b940aeb6e21c68a3b51921": {
          "model_module": "@jupyter-widgets/controls",
          "model_name": "HTMLModel",
          "model_module_version": "1.5.0",
          "state": {
            "_dom_classes": [],
            "_model_module": "@jupyter-widgets/controls",
            "_model_module_version": "1.5.0",
            "_model_name": "HTMLModel",
            "_view_count": null,
            "_view_module": "@jupyter-widgets/controls",
            "_view_module_version": "1.5.0",
            "_view_name": "HTMLView",
            "description": "",
            "description_tooltip": null,
            "layout": "IPY_MODEL_95233b6db8d14d95bdbf551543b3dd58",
            "placeholder": "​",
            "style": "IPY_MODEL_be7323d672a145d78fba6ee20ceb600f",
            "value": " 169001984/? [00:04&lt;00:00, 45187121.36it/s]"
          }
        },
        "f080dcb398804e6798a242679127a661": {
          "model_module": "@jupyter-widgets/base",
          "model_name": "LayoutModel",
          "model_module_version": "1.2.0",
          "state": {
            "_model_module": "@jupyter-widgets/base",
            "_model_module_version": "1.2.0",
            "_model_name": "LayoutModel",
            "_view_count": null,
            "_view_module": "@jupyter-widgets/base",
            "_view_module_version": "1.2.0",
            "_view_name": "LayoutView",
            "align_content": null,
            "align_items": null,
            "align_self": null,
            "border": null,
            "bottom": null,
            "display": null,
            "flex": null,
            "flex_flow": null,
            "grid_area": null,
            "grid_auto_columns": null,
            "grid_auto_flow": null,
            "grid_auto_rows": null,
            "grid_column": null,
            "grid_gap": null,
            "grid_row": null,
            "grid_template_areas": null,
            "grid_template_columns": null,
            "grid_template_rows": null,
            "height": null,
            "justify_content": null,
            "justify_items": null,
            "left": null,
            "margin": null,
            "max_height": null,
            "max_width": null,
            "min_height": null,
            "min_width": null,
            "object_fit": null,
            "object_position": null,
            "order": null,
            "overflow": null,
            "overflow_x": null,
            "overflow_y": null,
            "padding": null,
            "right": null,
            "top": null,
            "visibility": null,
            "width": null
          }
        },
        "a06a5ad984654bed8aeda45f419d2589": {
          "model_module": "@jupyter-widgets/base",
          "model_name": "LayoutModel",
          "model_module_version": "1.2.0",
          "state": {
            "_model_module": "@jupyter-widgets/base",
            "_model_module_version": "1.2.0",
            "_model_name": "LayoutModel",
            "_view_count": null,
            "_view_module": "@jupyter-widgets/base",
            "_view_module_version": "1.2.0",
            "_view_name": "LayoutView",
            "align_content": null,
            "align_items": null,
            "align_self": null,
            "border": null,
            "bottom": null,
            "display": null,
            "flex": null,
            "flex_flow": null,
            "grid_area": null,
            "grid_auto_columns": null,
            "grid_auto_flow": null,
            "grid_auto_rows": null,
            "grid_column": null,
            "grid_gap": null,
            "grid_row": null,
            "grid_template_areas": null,
            "grid_template_columns": null,
            "grid_template_rows": null,
            "height": null,
            "justify_content": null,
            "justify_items": null,
            "left": null,
            "margin": null,
            "max_height": null,
            "max_width": null,
            "min_height": null,
            "min_width": null,
            "object_fit": null,
            "object_position": null,
            "order": null,
            "overflow": null,
            "overflow_x": null,
            "overflow_y": null,
            "padding": null,
            "right": null,
            "top": null,
            "visibility": null,
            "width": null
          }
        },
        "e3757501f2fc402db430cec04c094806": {
          "model_module": "@jupyter-widgets/controls",
          "model_name": "DescriptionStyleModel",
          "model_module_version": "1.5.0",
          "state": {
            "_model_module": "@jupyter-widgets/controls",
            "_model_module_version": "1.5.0",
            "_model_name": "DescriptionStyleModel",
            "_view_count": null,
            "_view_module": "@jupyter-widgets/base",
            "_view_module_version": "1.2.0",
            "_view_name": "StyleView",
            "description_width": ""
          }
        },
        "56d9e6358d384e0eb8701cb1905b733b": {
          "model_module": "@jupyter-widgets/base",
          "model_name": "LayoutModel",
          "model_module_version": "1.2.0",
          "state": {
            "_model_module": "@jupyter-widgets/base",
            "_model_module_version": "1.2.0",
            "_model_name": "LayoutModel",
            "_view_count": null,
            "_view_module": "@jupyter-widgets/base",
            "_view_module_version": "1.2.0",
            "_view_name": "LayoutView",
            "align_content": null,
            "align_items": null,
            "align_self": null,
            "border": null,
            "bottom": null,
            "display": null,
            "flex": null,
            "flex_flow": null,
            "grid_area": null,
            "grid_auto_columns": null,
            "grid_auto_flow": null,
            "grid_auto_rows": null,
            "grid_column": null,
            "grid_gap": null,
            "grid_row": null,
            "grid_template_areas": null,
            "grid_template_columns": null,
            "grid_template_rows": null,
            "height": null,
            "justify_content": null,
            "justify_items": null,
            "left": null,
            "margin": null,
            "max_height": null,
            "max_width": null,
            "min_height": null,
            "min_width": null,
            "object_fit": null,
            "object_position": null,
            "order": null,
            "overflow": null,
            "overflow_x": null,
            "overflow_y": null,
            "padding": null,
            "right": null,
            "top": null,
            "visibility": null,
            "width": null
          }
        },
        "2ae5d7cecd5c4062853a117e89ba40e6": {
          "model_module": "@jupyter-widgets/controls",
          "model_name": "ProgressStyleModel",
          "model_module_version": "1.5.0",
          "state": {
            "_model_module": "@jupyter-widgets/controls",
            "_model_module_version": "1.5.0",
            "_model_name": "ProgressStyleModel",
            "_view_count": null,
            "_view_module": "@jupyter-widgets/base",
            "_view_module_version": "1.2.0",
            "_view_name": "StyleView",
            "bar_color": null,
            "description_width": ""
          }
        },
        "95233b6db8d14d95bdbf551543b3dd58": {
          "model_module": "@jupyter-widgets/base",
          "model_name": "LayoutModel",
          "model_module_version": "1.2.0",
          "state": {
            "_model_module": "@jupyter-widgets/base",
            "_model_module_version": "1.2.0",
            "_model_name": "LayoutModel",
            "_view_count": null,
            "_view_module": "@jupyter-widgets/base",
            "_view_module_version": "1.2.0",
            "_view_name": "LayoutView",
            "align_content": null,
            "align_items": null,
            "align_self": null,
            "border": null,
            "bottom": null,
            "display": null,
            "flex": null,
            "flex_flow": null,
            "grid_area": null,
            "grid_auto_columns": null,
            "grid_auto_flow": null,
            "grid_auto_rows": null,
            "grid_column": null,
            "grid_gap": null,
            "grid_row": null,
            "grid_template_areas": null,
            "grid_template_columns": null,
            "grid_template_rows": null,
            "height": null,
            "justify_content": null,
            "justify_items": null,
            "left": null,
            "margin": null,
            "max_height": null,
            "max_width": null,
            "min_height": null,
            "min_width": null,
            "object_fit": null,
            "object_position": null,
            "order": null,
            "overflow": null,
            "overflow_x": null,
            "overflow_y": null,
            "padding": null,
            "right": null,
            "top": null,
            "visibility": null,
            "width": null
          }
        },
        "be7323d672a145d78fba6ee20ceb600f": {
          "model_module": "@jupyter-widgets/controls",
          "model_name": "DescriptionStyleModel",
          "model_module_version": "1.5.0",
          "state": {
            "_model_module": "@jupyter-widgets/controls",
            "_model_module_version": "1.5.0",
            "_model_name": "DescriptionStyleModel",
            "_view_count": null,
            "_view_module": "@jupyter-widgets/base",
            "_view_module_version": "1.2.0",
            "_view_name": "StyleView",
            "description_width": ""
          }
        }
      }
    }
  },
  "cells": [
    {
      "cell_type": "code",
      "source": [
        "!nvidia-smi"
      ],
      "metadata": {
        "colab": {
          "base_uri": "https://localhost:8080/"
        },
        "id": "FzL2Ietw4xHe",
        "outputId": "9a995130-d052-4107-a0f8-9d7bff1417e6"
      },
      "execution_count": null,
      "outputs": [
        {
          "output_type": "stream",
          "name": "stdout",
          "text": [
            "Thu May 12 07:14:40 2022       \n",
            "+-----------------------------------------------------------------------------+\n",
            "| NVIDIA-SMI 460.32.03    Driver Version: 460.32.03    CUDA Version: 11.2     |\n",
            "|-------------------------------+----------------------+----------------------+\n",
            "| GPU  Name        Persistence-M| Bus-Id        Disp.A | Volatile Uncorr. ECC |\n",
            "| Fan  Temp  Perf  Pwr:Usage/Cap|         Memory-Usage | GPU-Util  Compute M. |\n",
            "|                               |                      |               MIG M. |\n",
            "|===============================+======================+======================|\n",
            "|   0  Tesla T4            Off  | 00000000:00:04.0 Off |                    0 |\n",
            "| N/A   46C    P8    10W /  70W |      0MiB / 15109MiB |      0%      Default |\n",
            "|                               |                      |                  N/A |\n",
            "+-------------------------------+----------------------+----------------------+\n",
            "                                                                               \n",
            "+-----------------------------------------------------------------------------+\n",
            "| Processes:                                                                  |\n",
            "|  GPU   GI   CI        PID   Type   Process name                  GPU Memory |\n",
            "|        ID   ID                                                   Usage      |\n",
            "|=============================================================================|\n",
            "|  No running processes found                                                 |\n",
            "+-----------------------------------------------------------------------------+\n"
          ]
        }
      ]
    },
    {
      "cell_type": "markdown",
      "source": [
        "# Import modules"
      ],
      "metadata": {
        "id": "j4u57X0Y-p6Z"
      }
    },
    {
      "cell_type": "code",
      "execution_count": null,
      "metadata": {
        "id": "gDmtlj9u-Hop"
      },
      "outputs": [],
      "source": [
        "import torch\n",
        "\n",
        "import torch.nn.functional as F\n",
        "import numpy as np\n",
        "import pandas as pd\n",
        "import matplotlib.pyplot as plt\n",
        "\n",
        "from torch import nn, optim\n",
        "from torch.utils.data import Dataset, DataLoader, random_split\n",
        "from torchvision.datasets import CIFAR100\n",
        "from torch.cuda import is_available\n",
        "from torchvision import transforms\n",
        "from datetime import datetime\n",
        "\n",
        "%matplotlib inline"
      ]
    },
    {
      "cell_type": "code",
      "source": [
        "device='cuda' if is_available() else 'cpu'\n",
        "device"
      ],
      "metadata": {
        "id": "3rcB9-7x-kcX",
        "colab": {
          "base_uri": "https://localhost:8080/",
          "height": 35
        },
        "outputId": "08fc3130-e4ce-4d2f-a4b0-733b662ca1c8"
      },
      "execution_count": null,
      "outputs": [
        {
          "output_type": "execute_result",
          "data": {
            "text/plain": [
              "'cuda'"
            ],
            "application/vnd.google.colaboratory.intrinsic+json": {
              "type": "string"
            }
          },
          "metadata": {},
          "execution_count": 3
        }
      ]
    },
    {
      "cell_type": "markdown",
      "source": [
        "# Download dataset and calculate means and stds"
      ],
      "metadata": {
        "id": "E-Jy-mt4-uTd"
      }
    },
    {
      "cell_type": "code",
      "source": [
        "all_data=CIFAR100(root='.',train=True,transform=transforms.ToTensor(),download=True)\n",
        "\n",
        "meanRGB=[np.mean(x.numpy(),axis=(1,2)) for x,_ in all_data]\n",
        "stdRGB=[np.std(x.numpy(),axis=(1,2)) for x,_ in all_data]\n",
        "\n",
        "meanR = np.mean([m[0] for m in meanRGB])\n",
        "meanG = np.mean([m[1] for m in meanRGB])\n",
        "meanB = np.mean([m[2] for m in meanRGB])\n",
        "\n",
        "stdR = np.mean([s[0] for s in stdRGB])\n",
        "stdG = np.mean([s[1] for s in stdRGB])\n",
        "stdB = np.mean([s[2] for s in stdRGB])\n",
        "\n",
        "print('Mean:',meanR, meanG, meanB)\n",
        "print('Std:',stdR, stdG, stdB)"
      ],
      "metadata": {
        "id": "LkzwSlZw-lis",
        "colab": {
          "base_uri": "https://localhost:8080/",
          "height": 122,
          "referenced_widgets": [
            "a547fa2975554e6188d4afdbee5a4163",
            "c05b024f165a4fe5a749f5f688028b73",
            "72d5d23fade746b185159b53070d14b2",
            "1ed8d4efd1b940aeb6e21c68a3b51921",
            "f080dcb398804e6798a242679127a661",
            "a06a5ad984654bed8aeda45f419d2589",
            "e3757501f2fc402db430cec04c094806",
            "56d9e6358d384e0eb8701cb1905b733b",
            "2ae5d7cecd5c4062853a117e89ba40e6",
            "95233b6db8d14d95bdbf551543b3dd58",
            "be7323d672a145d78fba6ee20ceb600f"
          ]
        },
        "outputId": "902d015c-f8a1-4dfc-8560-3772f427fb5d"
      },
      "execution_count": null,
      "outputs": [
        {
          "output_type": "stream",
          "name": "stdout",
          "text": [
            "Downloading https://www.cs.toronto.edu/~kriz/cifar-100-python.tar.gz to ./cifar-100-python.tar.gz\n"
          ]
        },
        {
          "output_type": "display_data",
          "data": {
            "text/plain": [
              "  0%|          | 0/169001437 [00:00<?, ?it/s]"
            ],
            "application/vnd.jupyter.widget-view+json": {
              "version_major": 2,
              "version_minor": 0,
              "model_id": "a547fa2975554e6188d4afdbee5a4163"
            }
          },
          "metadata": {}
        },
        {
          "output_type": "stream",
          "name": "stdout",
          "text": [
            "Extracting ./cifar-100-python.tar.gz to .\n",
            "Mean: 0.50707513 0.48654887 0.44091785\n",
            "Std: 0.20079845 0.19834627 0.20219834\n"
          ]
        }
      ]
    },
    {
      "cell_type": "markdown",
      "source": [
        "# Implement CustomSubset\n",
        "\n",
        "To use different augmentations to train subset and validation subset."
      ],
      "metadata": {
        "id": "PVDL6RR6-yTo"
      }
    },
    {
      "cell_type": "code",
      "source": [
        "class CustomSubset(Dataset):\n",
        "    def __init__(self,Subset,transform=None):\n",
        "        super(CustomSubset,self).__init__()\n",
        "        self.Subset=Subset\n",
        "        self.indices=Subset.indices\n",
        "        self.transform=transform\n",
        "\n",
        "    def __len__(self):\n",
        "        return len(self.Subset)\n",
        "\n",
        "    def __getitem__(self,idx):\n",
        "        img,label=self.Subset[idx]\n",
        "        if self.transform is not None:\n",
        "            img=self.transform(img)\n",
        "        return img,label"
      ],
      "metadata": {
        "id": "MPIy9GPn-mx3"
      },
      "execution_count": null,
      "outputs": []
    },
    {
      "cell_type": "code",
      "source": [
        "transform={\n",
        "    'train':transforms.Compose([\n",
        "                                transforms.RandomCrop((32, 32), padding=4),\n",
        "                                transforms.RandomHorizontalFlip(),\n",
        "                                transforms.RandomRotation(15),\n",
        "                                transforms.ToTensor(),\n",
        "                                transforms.Normalize([meanR,meanG,meanB],[stdR,stdG,stdB])\n",
        "            ]),\n",
        "    'test':transforms.Compose([\n",
        "                               transforms.ToTensor(),\n",
        "                               transforms.Normalize([meanR,meanG,meanB],[stdR,stdG,stdB])\n",
        "            ])\n",
        "}\n",
        "\n",
        "train_ratio=0.8\n",
        "train_data_len=int(len(all_data)*0.8)\n",
        "valid_data_len=len(all_data)-train_data_len\n",
        "\n",
        "train_data,valid_data=random_split(all_data,[train_data_len,valid_data_len])\n",
        "\n",
        "all_data.transform=None\n",
        "train_data=CustomSubset(train_data,transform['train'])\n",
        "valid_data=CustomSubset(valid_data,transform['test'])\n",
        "test_data=CIFAR100(root='.',train=False,transform=transform['test'],download=True)"
      ],
      "metadata": {
        "id": "_kvU4As_-1lu",
        "colab": {
          "base_uri": "https://localhost:8080/"
        },
        "outputId": "ce42f158-b598-4df3-a035-9c04671d7eda"
      },
      "execution_count": null,
      "outputs": [
        {
          "output_type": "stream",
          "name": "stdout",
          "text": [
            "Files already downloaded and verified\n"
          ]
        }
      ]
    },
    {
      "cell_type": "markdown",
      "source": [
        "# Define blocks"
      ],
      "metadata": {
        "id": "Qfu351Dn-5Nj"
      }
    },
    {
      "cell_type": "code",
      "source": [
        "class BasicBlock(nn.Module):\n",
        "    expansion = 1\n",
        "    def __init__(self, in_channels, out_channels, stride=1):\n",
        "        super(BasicBlock, self).__init__()\n",
        "        self.residual_function = nn.Sequential(nn.Conv2d(in_channels, out_channels, kernel_size=3, stride=stride, padding=1, bias=False),\n",
        "                                               nn.BatchNorm2d(out_channels),\n",
        "                                               nn.ReLU(inplace=True),\n",
        "                                               nn.Conv2d(out_channels, out_channels * BasicBlock.expansion, kernel_size=3, padding=1, bias=False),\n",
        "                                               nn.BatchNorm2d(out_channels * BasicBlock.expansion))\n",
        "        \n",
        "        self.shortcut = nn.Sequential()\n",
        "\n",
        "        if stride != 1 or in_channels != BasicBlock.expansion * out_channels:\n",
        "            self.shortcut = nn.Sequential(nn.Conv2d(in_channels, out_channels * BasicBlock.expansion, kernel_size=1, stride=stride, bias=False),\n",
        "                                          nn.BatchNorm2d(out_channels * BasicBlock.expansion))\n",
        "            \n",
        "    def forward(self, x):\n",
        "        return F.relu(self.residual_function(x) + self.shortcut(x), inplace=True)\n",
        "\n",
        "\n",
        "class BottleNeck(nn.Module):\n",
        "    expansion = 4\n",
        "    def __init__(self, in_channels, out_channels, stride=1):\n",
        "        self.residual_function = nn.Sequential(nn.Conv2d(in_channels, out_channels, kernel_size=1, bias=False),\n",
        "                                               nn.BatchNorm2d(out_channels),\n",
        "                                               nn.ReLU(inplace=True),\n",
        "                                               nn,Conv2d(out_channels, out_channels, stride=stride, kernel_size=3, padding=1, bias=False),\n",
        "                                               nn.BatchNorm2d(out_channels),\n",
        "                                               nn.ReLU(inplace=True),\n",
        "                                               nn.Conv2d(out_channels, out_channels * BottleNeck.expansion, kernel_size=1, bias=False),\n",
        "                                               nn.BatchNorm2d(out_channels * BottleNeck.expansion))\n",
        "    \n",
        "        self.shortcut = nn.Sequential()\n",
        "\n",
        "        if stride != 1 or in_channels != BasicBlock.expansion * out_channels:\n",
        "            self.shortcut = nn.Sequential(nn.Conv2d(in_channels, out_channels * BasicBlock.expansion, kernel_size=1, stride=stride, bias=False),\n",
        "                                          nn.BatchNorm2d(out_channels * BasicBlock.expansion))\n",
        "            \n",
        "    def forward(self, x):\n",
        "        return F.relu(self.residual_function(x) + self.shortcut(x), inplace=True)"
      ],
      "metadata": {
        "id": "kdwNMynN-3uO"
      },
      "execution_count": null,
      "outputs": []
    },
    {
      "cell_type": "markdown",
      "source": [
        "# Define ResNet18"
      ],
      "metadata": {
        "id": "eXtEmTUYH2B6"
      }
    },
    {
      "cell_type": "code",
      "source": [
        "class ResNet18(nn.Module):\n",
        "    def __init__(self, num_classes=100):\n",
        "        super(ResNet18, self).__init__()\n",
        "        self.conv1 = nn.Sequential(nn.Conv2d(3, 64, kernel_size=3, padding=1, bias=False),\n",
        "                                   nn.BatchNorm2d(64),\n",
        "                                   nn.ReLU(inplace=True))\n",
        "        \n",
        "        self.conv2_x = nn.Sequential(BasicBlock(64, 64, stride=1),\n",
        "                                     BasicBlock(64, 64, stride=1))\n",
        "        \n",
        "        self.conv3_x = nn.Sequential(BasicBlock(64, 128, stride=2),\n",
        "                                     BasicBlock(128, 128, stride=2))\n",
        "        \n",
        "        self.conv4_x = nn.Sequential(BasicBlock(128, 256, stride=2),\n",
        "                                     BasicBlock(256, 256, stride=2))\n",
        "        \n",
        "        self.conv5_x = nn.Sequential(BasicBlock(256, 512, stride=2),\n",
        "                                     BasicBlock(512, 512, stride=2))\n",
        "        \n",
        "        self.avg_pool = nn.AdaptiveAvgPool2d((1, 1))\n",
        "        self.fc = nn.Linear(512 * BasicBlock.expansion, num_classes)\n",
        "\n",
        "    def forward(self, x):\n",
        "        output = self.conv1(x)\n",
        "        output = self.conv2_x(output)\n",
        "        output = self.conv3_x(output)\n",
        "        output = self.conv4_x(output)\n",
        "        output = self.conv5_x(output)\n",
        "        output = self.avg_pool(output)\n",
        "        output = output.view(output.size(0), -1)\n",
        "        output = self.fc(output)\n",
        "\n",
        "        return output"
      ],
      "metadata": {
        "id": "EwV3rcAzDz3V"
      },
      "execution_count": null,
      "outputs": []
    },
    {
      "cell_type": "markdown",
      "source": [
        "# Prepare training step"
      ],
      "metadata": {
        "id": "EFtmfn_nH7W0"
      }
    },
    {
      "cell_type": "code",
      "source": [
        "batch_size = 128\n",
        "\n",
        "train_loader = DataLoader(train_data, batch_size=batch_size, shuffle=True)\n",
        "valid_loader = DataLoader(valid_data, batch_size=batch_size, shuffle=False)\n",
        "test_loader = DataLoader(test_data, batch_size=batch_size, shuffle=False)"
      ],
      "metadata": {
        "id": "sk6Ma591H6Es"
      },
      "execution_count": null,
      "outputs": []
    },
    {
      "cell_type": "code",
      "source": [
        "model = ResNet18(num_classes=100)\n",
        "criterion = nn.CrossEntropyLoss()\n",
        "optimizer = optim.Adam(model.parameters(), lr=0.01, weight_decay=0.0005)\n",
        "\n",
        "model = model.to(device)\n",
        "criterion = criterion.to(device)"
      ],
      "metadata": {
        "id": "pEXzbNF2H-mE"
      },
      "execution_count": null,
      "outputs": []
    },
    {
      "cell_type": "markdown",
      "source": [
        "# Train and validation"
      ],
      "metadata": {
        "id": "bWbJwC6UIA9M"
      }
    },
    {
      "cell_type": "code",
      "source": [
        "def train(model, criterion, optimizer, train_loader, valid_loader, num_epochs=10, print_every=1, early_stop=None, model_path='resnet18.pth'):\n",
        "    train_logs = {'Loss':[], 'Accuracy':[]}\n",
        "    valid_logs = {'Loss':[], 'Accuracy':[]}\n",
        "    try:\n",
        "        patience = 0\n",
        "        best_acc = -np.inf\n",
        "        start_time = datetime.now()\n",
        "        for epoch in range(num_epochs):\n",
        "            train_loss = 0\n",
        "            valid_loss = 0\n",
        "            train_acc = 0\n",
        "            valid_acc = 0\n",
        "            # training step\n",
        "            model.train()\n",
        "            for data, target in train_loader:\n",
        "                optimizer.zero_grad()\n",
        "                data, target = data.to(device), target.to(device)\n",
        "                pred = model(data)\n",
        "                loss = criterion(pred,target)\n",
        "                loss.backward()\n",
        "                optimizer.step()\n",
        "                train_loss += loss.item() * data.size(0)\n",
        "                train_acc += torch.sum(pred.argmax(1) == target).item()\n",
        "            train_loss /= len(train_data)\n",
        "            train_acc /= len(train_data)\n",
        "            train_logs['Loss'].append(train_loss)\n",
        "            train_logs['Accuracy'].append(train_acc)\n",
        "            if (epoch + 1) % print_every == 0:\n",
        "                print('Training   Epoch {} - Loss : {:.8f} Accuracy : {:.4f}% Time elapsed: {}'.format(epoch, train_loss, train_acc * 100, datetime.now() - start_time))\n",
        "            # validation step\n",
        "            with torch.no_grad():\n",
        "                model.eval()\n",
        "                for data, target in valid_loader:\n",
        "                    data, target = data.to(device), target.to(device)\n",
        "                    pred = model(data)\n",
        "                    loss = criterion(pred,target)\n",
        "                    valid_loss += loss.item() * data.size(0)\n",
        "                    valid_acc += torch.sum(pred.argmax(1) == target).item()\n",
        "                valid_loss /= len(valid_data)\n",
        "                valid_acc /= len(valid_data)\n",
        "                valid_logs['Loss'].append(valid_loss)\n",
        "                valid_logs['Accuracy'].append(valid_acc)\n",
        "                if (epoch+1) % print_every == 0:\n",
        "                    print('Validation Epoch {} - Loss : {:.8f} Accuracy : {:.4f}% Time elapsed: {}'.format(epoch, valid_loss, valid_acc * 100, datetime.now() - start_time))\n",
        "                if valid_acc > best_acc:\n",
        "                    best_acc = valid_acc\n",
        "                    torch.save(model.state_dict(), model_path)\n",
        "                    if early_stop is not None:\n",
        "                        patience = 0\n",
        "                elif early_stop is not None:\n",
        "                    patience += 1\n",
        "                    if patience >= early_stop:\n",
        "                        print('Training finished by early stopping')\n",
        "                        return train_logs, valid_logs\n",
        "        return train_logs, valid_logs\n",
        "    except KeyboardInterrupt:\n",
        "        return train_logs, valid_logs"
      ],
      "metadata": {
        "id": "kgExxjagIAVP"
      },
      "execution_count": null,
      "outputs": []
    },
    {
      "cell_type": "code",
      "source": [
        "train_logs, valid_logs = train(model=model,\n",
        "                               criterion=criterion,\n",
        "                               optimizer=optimizer,\n",
        "                               train_loader=train_loader,\n",
        "                               valid_loader=valid_loader,\n",
        "                               num_epochs=50,\n",
        "                               print_every=1,\n",
        "                               early_stop=None,\n",
        "                               model_path='resnet18.pth')"
      ],
      "metadata": {
        "id": "WKTA9jaiIFk1",
        "colab": {
          "base_uri": "https://localhost:8080/"
        },
        "outputId": "9f6fb815-ea5c-4842-cf05-644ec3f4dc8c"
      },
      "execution_count": null,
      "outputs": [
        {
          "output_type": "stream",
          "name": "stdout",
          "text": [
            "Training   Epoch 0 - Loss : 4.28088884 Accuracy : 4.2850% Time elapsed: 0:00:42.646297\n",
            "Validation Epoch 0 - Loss : 4.12651142 Accuracy : 5.3000% Time elapsed: 0:00:46.204924\n",
            "Training   Epoch 1 - Loss : 3.97672052 Accuracy : 7.2050% Time elapsed: 0:01:28.578175\n",
            "Validation Epoch 1 - Loss : 4.02149058 Accuracy : 6.5700% Time elapsed: 0:01:31.998426\n",
            "Training   Epoch 2 - Loss : 3.87543466 Accuracy : 8.9500% Time elapsed: 0:02:14.882827\n",
            "Validation Epoch 2 - Loss : 4.03295276 Accuracy : 8.0600% Time elapsed: 0:02:18.293936\n",
            "Training   Epoch 3 - Loss : 3.79123206 Accuracy : 10.2575% Time elapsed: 0:03:00.799620\n",
            "Validation Epoch 3 - Loss : 3.79705979 Accuracy : 9.7100% Time elapsed: 0:03:04.234345\n",
            "Training   Epoch 4 - Loss : 3.71553122 Accuracy : 11.7250% Time elapsed: 0:03:46.616628\n",
            "Validation Epoch 4 - Loss : 3.65600023 Accuracy : 11.9900% Time elapsed: 0:03:50.272421\n",
            "Training   Epoch 5 - Loss : 3.65350983 Accuracy : 12.7175% Time elapsed: 0:04:32.398860\n",
            "Validation Epoch 5 - Loss : 3.57516919 Accuracy : 14.6700% Time elapsed: 0:04:35.879562\n",
            "Training   Epoch 6 - Loss : 3.58980702 Accuracy : 13.7175% Time elapsed: 0:05:18.161935\n",
            "Validation Epoch 6 - Loss : 3.54756451 Accuracy : 14.0300% Time elapsed: 0:05:21.595741\n",
            "Training   Epoch 7 - Loss : 3.54670580 Accuracy : 14.5775% Time elapsed: 0:06:03.795339\n",
            "Validation Epoch 7 - Loss : 3.46833708 Accuracy : 15.6700% Time elapsed: 0:06:07.255601\n",
            "Training   Epoch 8 - Loss : 3.50118302 Accuracy : 15.3650% Time elapsed: 0:06:49.389562\n",
            "Validation Epoch 8 - Loss : 3.54222479 Accuracy : 15.1300% Time elapsed: 0:06:52.892098\n",
            "Training   Epoch 9 - Loss : 3.46541396 Accuracy : 15.9300% Time elapsed: 0:07:34.681192\n",
            "Validation Epoch 9 - Loss : 3.44501747 Accuracy : 16.3500% Time elapsed: 0:07:38.062694\n",
            "Training   Epoch 10 - Loss : 3.43222677 Accuracy : 16.4975% Time elapsed: 0:08:20.192555\n",
            "Validation Epoch 10 - Loss : 3.42456088 Accuracy : 16.4000% Time elapsed: 0:08:23.627620\n",
            "Training   Epoch 11 - Loss : 3.39899435 Accuracy : 17.2600% Time elapsed: 0:09:05.748088\n",
            "Validation Epoch 11 - Loss : 3.42946935 Accuracy : 16.8100% Time elapsed: 0:09:09.208648\n",
            "Training   Epoch 12 - Loss : 3.38295466 Accuracy : 17.5225% Time elapsed: 0:09:51.272594\n",
            "Validation Epoch 12 - Loss : 3.49166732 Accuracy : 15.9500% Time elapsed: 0:09:54.716672\n",
            "Training   Epoch 13 - Loss : 3.35832561 Accuracy : 18.0500% Time elapsed: 0:10:36.496778\n",
            "Validation Epoch 13 - Loss : 3.38411789 Accuracy : 17.3500% Time elapsed: 0:10:39.944758\n",
            "Training   Epoch 14 - Loss : 3.34552457 Accuracy : 18.0875% Time elapsed: 0:11:22.064508\n",
            "Validation Epoch 14 - Loss : 3.52328007 Accuracy : 15.8600% Time elapsed: 0:11:25.484803\n",
            "Training   Epoch 15 - Loss : 3.32065154 Accuracy : 18.5700% Time elapsed: 0:12:07.506933\n",
            "Validation Epoch 15 - Loss : 3.98685992 Accuracy : 10.7800% Time elapsed: 0:12:10.927206\n",
            "Training   Epoch 16 - Loss : 3.31104143 Accuracy : 18.9550% Time elapsed: 0:12:52.867410\n",
            "Validation Epoch 16 - Loss : 3.33568124 Accuracy : 18.3500% Time elapsed: 0:12:56.288025\n",
            "Training   Epoch 17 - Loss : 3.29727705 Accuracy : 18.8175% Time elapsed: 0:13:38.097378\n",
            "Validation Epoch 17 - Loss : 3.26210045 Accuracy : 19.0000% Time elapsed: 0:13:41.518674\n",
            "Training   Epoch 18 - Loss : 3.27735156 Accuracy : 19.4475% Time elapsed: 0:14:23.601537\n",
            "Validation Epoch 18 - Loss : 3.25023621 Accuracy : 19.8100% Time elapsed: 0:14:27.042205\n",
            "Training   Epoch 19 - Loss : 3.26116472 Accuracy : 19.5900% Time elapsed: 0:15:09.162778\n",
            "Validation Epoch 19 - Loss : 3.94022583 Accuracy : 13.2900% Time elapsed: 0:15:12.591247\n",
            "Training   Epoch 20 - Loss : 3.25087618 Accuracy : 19.9075% Time elapsed: 0:15:54.578673\n",
            "Validation Epoch 20 - Loss : 3.33190121 Accuracy : 17.6900% Time elapsed: 0:15:58.026342\n",
            "Training   Epoch 21 - Loss : 3.23667357 Accuracy : 20.1850% Time elapsed: 0:16:39.664516\n",
            "Validation Epoch 21 - Loss : 3.32365857 Accuracy : 19.1200% Time elapsed: 0:16:43.112333\n",
            "Training   Epoch 22 - Loss : 3.23282385 Accuracy : 20.2525% Time elapsed: 0:17:25.094594\n",
            "Validation Epoch 22 - Loss : 3.51595919 Accuracy : 15.6600% Time elapsed: 0:17:28.527145\n",
            "Training   Epoch 23 - Loss : 3.21904633 Accuracy : 20.5725% Time elapsed: 0:18:10.540881\n",
            "Validation Epoch 23 - Loss : 3.25226826 Accuracy : 18.8800% Time elapsed: 0:18:13.995349\n",
            "Training   Epoch 24 - Loss : 3.21544757 Accuracy : 20.7625% Time elapsed: 0:18:56.064773\n",
            "Validation Epoch 24 - Loss : 3.65036908 Accuracy : 15.2900% Time elapsed: 0:18:59.502553\n",
            "Training   Epoch 25 - Loss : 3.21250634 Accuracy : 20.8500% Time elapsed: 0:19:41.365496\n",
            "Validation Epoch 25 - Loss : 3.29301346 Accuracy : 19.3400% Time elapsed: 0:19:44.859143\n",
            "Training   Epoch 26 - Loss : 3.19944769 Accuracy : 20.7825% Time elapsed: 0:20:26.906181\n",
            "Validation Epoch 26 - Loss : 3.24830082 Accuracy : 19.6800% Time elapsed: 0:20:30.334723\n",
            "Training   Epoch 27 - Loss : 3.19445607 Accuracy : 20.9475% Time elapsed: 0:21:12.347588\n",
            "Validation Epoch 27 - Loss : 3.73109558 Accuracy : 13.0500% Time elapsed: 0:21:15.806458\n",
            "Training   Epoch 28 - Loss : 3.18494274 Accuracy : 21.3300% Time elapsed: 0:21:57.888048\n",
            "Validation Epoch 28 - Loss : 3.26559543 Accuracy : 18.9700% Time elapsed: 0:22:01.345839\n",
            "Training   Epoch 29 - Loss : 3.18840210 Accuracy : 21.2150% Time elapsed: 0:22:43.116086\n",
            "Validation Epoch 29 - Loss : 4.15748882 Accuracy : 8.8800% Time elapsed: 0:22:46.689136\n",
            "Training   Epoch 30 - Loss : 3.18166478 Accuracy : 21.0600% Time elapsed: 0:23:28.521571\n",
            "Validation Epoch 30 - Loss : 3.47706096 Accuracy : 16.2300% Time elapsed: 0:23:31.923628\n",
            "Training   Epoch 31 - Loss : 3.17051506 Accuracy : 21.3075% Time elapsed: 0:24:14.007570\n",
            "Validation Epoch 31 - Loss : 3.12598163 Accuracy : 22.7100% Time elapsed: 0:24:17.422449\n",
            "Training   Epoch 32 - Loss : 3.16967186 Accuracy : 21.3975% Time elapsed: 0:24:59.372412\n",
            "Validation Epoch 32 - Loss : 3.11004610 Accuracy : 22.4500% Time elapsed: 0:25:02.788826\n",
            "Training   Epoch 33 - Loss : 3.15196968 Accuracy : 21.9900% Time elapsed: 0:25:44.359604\n",
            "Validation Epoch 33 - Loss : 3.30010769 Accuracy : 19.6500% Time elapsed: 0:25:47.989210\n",
            "Training   Epoch 34 - Loss : 3.15382558 Accuracy : 21.4475% Time elapsed: 0:26:29.800211\n",
            "Validation Epoch 34 - Loss : 3.31956897 Accuracy : 18.5200% Time elapsed: 0:26:33.216603\n",
            "Training   Epoch 35 - Loss : 3.13736074 Accuracy : 22.1225% Time elapsed: 0:27:15.067568\n",
            "Validation Epoch 35 - Loss : 10.12350685 Accuracy : 2.0300% Time elapsed: 0:27:18.478870\n",
            "Training   Epoch 36 - Loss : 3.13856475 Accuracy : 21.8050% Time elapsed: 0:28:00.352235\n",
            "Validation Epoch 36 - Loss : 3.12647802 Accuracy : 21.9200% Time elapsed: 0:28:03.796013\n",
            "Training   Epoch 37 - Loss : 3.13315696 Accuracy : 22.1375% Time elapsed: 0:28:45.524634\n",
            "Validation Epoch 37 - Loss : 3.43078590 Accuracy : 18.1100% Time elapsed: 0:28:49.171241\n",
            "Training   Epoch 38 - Loss : 3.12585579 Accuracy : 22.0850% Time elapsed: 0:29:31.051544\n",
            "Validation Epoch 38 - Loss : 3.16403229 Accuracy : 21.5000% Time elapsed: 0:29:34.519311\n",
            "Training   Epoch 39 - Loss : 3.12438134 Accuracy : 22.1225% Time elapsed: 0:30:16.454714\n",
            "Validation Epoch 39 - Loss : 3.47923647 Accuracy : 16.9400% Time elapsed: 0:30:19.879929\n",
            "Training   Epoch 40 - Loss : 3.11037315 Accuracy : 22.4525% Time elapsed: 0:31:01.820061\n",
            "Validation Epoch 40 - Loss : 3.80194482 Accuracy : 13.4300% Time elapsed: 0:31:05.238618\n",
            "Training   Epoch 41 - Loss : 3.11198306 Accuracy : 22.6525% Time elapsed: 0:31:46.954833\n",
            "Validation Epoch 41 - Loss : 3.25537309 Accuracy : 20.0900% Time elapsed: 0:31:50.554703\n",
            "Training   Epoch 42 - Loss : 3.10481741 Accuracy : 22.6650% Time elapsed: 0:32:32.228619\n",
            "Validation Epoch 42 - Loss : 3.25083083 Accuracy : 19.6100% Time elapsed: 0:32:35.679194\n",
            "Training   Epoch 43 - Loss : 3.09658912 Accuracy : 22.6325% Time elapsed: 0:33:17.629211\n",
            "Validation Epoch 43 - Loss : 3.22016835 Accuracy : 21.1000% Time elapsed: 0:33:21.042483\n",
            "Training   Epoch 44 - Loss : 3.08205035 Accuracy : 22.9575% Time elapsed: 0:34:03.210523\n",
            "Validation Epoch 44 - Loss : 3.23826484 Accuracy : 20.0900% Time elapsed: 0:34:06.680520\n",
            "Training   Epoch 45 - Loss : 3.07805913 Accuracy : 22.9000% Time elapsed: 0:34:48.731014\n",
            "Validation Epoch 45 - Loss : 3.15913794 Accuracy : 21.5100% Time elapsed: 0:34:52.265743\n",
            "Training   Epoch 46 - Loss : 3.06902125 Accuracy : 22.9675% Time elapsed: 0:35:34.003186\n",
            "Validation Epoch 46 - Loss : 3.99049809 Accuracy : 12.7700% Time elapsed: 0:35:37.432284\n",
            "Training   Epoch 47 - Loss : 3.06095104 Accuracy : 23.2375% Time elapsed: 0:36:19.488301\n",
            "Validation Epoch 47 - Loss : 3.28640666 Accuracy : 19.7500% Time elapsed: 0:36:22.925628\n",
            "Training   Epoch 48 - Loss : 3.05645904 Accuracy : 23.3325% Time elapsed: 0:37:05.096940\n",
            "Validation Epoch 48 - Loss : 3.45560964 Accuracy : 15.8300% Time elapsed: 0:37:08.507232\n",
            "Training   Epoch 49 - Loss : 3.05214525 Accuracy : 23.2750% Time elapsed: 0:37:50.545490\n",
            "Validation Epoch 49 - Loss : 3.07572950 Accuracy : 23.2600% Time elapsed: 0:37:54.024900\n"
          ]
        }
      ]
    },
    {
      "cell_type": "code",
      "source": [
        "plt.xlabel('Epoch')\n",
        "plt.ylabel('Loss')\n",
        "plt.plot([i for i in range(len(train_logs['Loss']))], train_logs['Loss'], label='train_loss')\n",
        "plt.plot([i for i in range(len(valid_logs['Loss']))], valid_logs['Loss'], label='valid_loss')\n",
        "plt.legend()\n",
        "plt.show()"
      ],
      "metadata": {
        "id": "9pLcY3OQIGn4",
        "colab": {
          "base_uri": "https://localhost:8080/"
        },
        "outputId": "da3788cf-913c-4740-bba1-42ff34923425"
      },
      "execution_count": null,
      "outputs": [
        {
          "output_type": "display_data",
          "data": {
            "text/plain": [
              "<Figure size 432x288 with 1 Axes>"
            ],
            "image/png": "[encoded data removed]"
          },
          "metadata": {
            "needs_background": "light"
          }
        }
      ]
    },
    {
      "cell_type": "code",
      "source": [
        "plt.xlabel('Epoch')\n",
        "plt.ylabel('Accuracy')\n",
        "plt.plot([i for i in range(len(train_logs['Accuracy']))], train_logs['Accuracy'], label='train_acc')\n",
        "plt.plot([i for i in range(len(valid_logs['Accuracy']))], valid_logs['Accuracy'], label='valid_acc')\n",
        "plt.legend()\n",
        "plt.show()"
      ],
      "metadata": {
        "id": "1-ofcKwoIHyB",
        "colab": {
          "base_uri": "https://localhost:8080/"
        },
        "outputId": "449696bd-8f12-4e51-e69a-15150e4b801b"
      },
      "execution_count": null,
      "outputs": [
        {
          "output_type": "display_data",
          "data": {
            "text/plain": [
              "<Figure size 432x288 with 1 Axes>"
            ],
            "image/png": "[encoded data removed]"
          },
          "metadata": {
            "needs_background": "light"
          }
        }
      ]
    },
    {
      "cell_type": "markdown",
      "source": [
        "# Test"
      ],
      "metadata": {
        "id": "_2Sfbcf0IKPp"
      }
    },
    {
      "cell_type": "code",
      "source": [
        "model.load_state_dict(torch.load('resnet18.pth'))\n",
        "model = model.to(device)"
      ],
      "metadata": {
        "id": "uTM7oNm-IJoD"
      },
      "execution_count": null,
      "outputs": []
    },
    {
      "cell_type": "code",
      "source": [
        "def test(model,criterion,test_loader):\n",
        "    test_loss = 0\n",
        "    test_acc = 0\n",
        "    result_table = pd.DataFrame(columns=['Prediction', 'Target'])\n",
        "    with torch.no_grad():\n",
        "        model.eval()\n",
        "        for data, target in test_loader:\n",
        "            data, target = data.to(device) ,target.to(device)\n",
        "            pred = model(data)\n",
        "            loss = criterion(pred, target)\n",
        "            test_loss += loss.item() * data.size(0)\n",
        "            test_acc += torch.sum(pred.argmax(1) == target).item()\n",
        "            for p, t in zip(pred.argmax(1), target):\n",
        "                result_table = result_table.append({'Prediction':p.item(), 'Target':t.item()}, ignore_index=True)\n",
        "        test_loss /= len(test_data)\n",
        "        test_acc /= len(test_data)\n",
        "    return test_loss, test_acc, result_table"
      ],
      "metadata": {
        "id": "DxnjNEyZINSw"
      },
      "execution_count": null,
      "outputs": []
    },
    {
      "cell_type": "code",
      "source": [
        "test_loss, test_acc, result_table = test(model=model,\n",
        "                                         criterion=criterion,\n",
        "                                         test_loader=test_loader)"
      ],
      "metadata": {
        "id": "SDcUjiY-IOLY"
      },
      "execution_count": null,
      "outputs": []
    },
    {
      "cell_type": "code",
      "source": [
        "print('Test Loss : {:.8f} Test Accuracy : {:.4f}%'.format(test_loss, test_acc * 100))"
      ],
      "metadata": {
        "id": "Cns95EknIO2m",
        "colab": {
          "base_uri": "https://localhost:8080/"
        },
        "outputId": "09c92f1d-b8d5-4870-8fea-3021c063dc94"
      },
      "execution_count": null,
      "outputs": [
        {
          "output_type": "stream",
          "name": "stdout",
          "text": [
            "Test Loss : 3.06093324 Test Accuracy : 23.3700%\n"
          ]
        }
      ]
    },
    {
      "cell_type": "code",
      "source": [
        "result_table"
      ],
      "metadata": {
        "id": "-ct3SRrHIPgp",
        "colab": {
          "base_uri": "https://localhost:8080/"
        },
        "outputId": "43a7848a-f53d-4749-8d19-57476a354ac2"
      },
      "execution_count": null,
      "outputs": [
        {
          "output_type": "execute_result",
          "data": {
            "text/plain": [
              "     Prediction Target\n",
              "0            95     49\n",
              "1            80     33\n",
              "2             4     72\n",
              "3            35     51\n",
              "4            60     71\n",
              "...         ...    ...\n",
              "9995         62     83\n",
              "9996          4     14\n",
              "9997         51     51\n",
              "9998         42     42\n",
              "9999         70     70\n",
              "\n",
              "[10000 rows x 2 columns]"
            ],
            "text/html": [
              "\n",
              "  <div id=\"df-e2327d7f-9267-4d79-adbe-c0d4d3d6b551\">\n",
              "    <div class=\"colab-df-container\">\n",
              "      <div>\n",
              "<style scoped>\n",
              "    .dataframe tbody tr th:only-of-type {\n",
              "        vertical-align: middle;\n",
              "    }\n",
              "\n",
              "    .dataframe tbody tr th {\n",
              "        vertical-align: top;\n",
              "    }\n",
              "\n",
              "    .dataframe thead th {\n",
              "        text-align: right;\n",
              "    }\n",
              "</style>\n",
              "<table border=\"1\" class=\"dataframe\">\n",
              "  <thead>\n",
              "    <tr style=\"text-align: right;\">\n",
              "      <th></th>\n",
              "      <th>Prediction</th>\n",
              "      <th>Target</th>\n",
              "    </tr>\n",
              "  </thead>\n",
              "  <tbody>\n",
              "    <tr>\n",
              "      <th>0</th>\n",
              "      <td>95</td>\n",
              "      <td>49</td>\n",
              "    </tr>\n",
              "    <tr>\n",
              "      <th>1</th>\n",
              "      <td>80</td>\n",
              "      <td>33</td>\n",
              "    </tr>\n",
              "    <tr>\n",
              "      <th>2</th>\n",
              "      <td>4</td>\n",
              "      <td>72</td>\n",
              "    </tr>\n",
              "    <tr>\n",
              "      <th>3</th>\n",
              "      <td>35</td>\n",
              "      <td>51</td>\n",
              "    </tr>\n",
              "    <tr>\n",
              "      <th>4</th>\n",
              "      <td>60</td>\n",
              "      <td>71</td>\n",
              "    </tr>\n",
              "    <tr>\n",
              "      <th>...</th>\n",
              "      <td>...</td>\n",
              "      <td>...</td>\n",
              "    </tr>\n",
              "    <tr>\n",
              "      <th>9995</th>\n",
              "      <td>62</td>\n",
              "      <td>83</td>\n",
              "    </tr>\n",
              "    <tr>\n",
              "      <th>9996</th>\n",
              "      <td>4</td>\n",
              "      <td>14</td>\n",
              "    </tr>\n",
              "    <tr>\n",
              "      <th>9997</th>\n",
              "      <td>51</td>\n",
              "      <td>51</td>\n",
              "    </tr>\n",
              "    <tr>\n",
              "      <th>9998</th>\n",
              "      <td>42</td>\n",
              "      <td>42</td>\n",
              "    </tr>\n",
              "    <tr>\n",
              "      <th>9999</th>\n",
              "      <td>70</td>\n",
              "      <td>70</td>\n",
              "    </tr>\n",
              "  </tbody>\n",
              "</table>\n",
              "<p>10000 rows × 2 columns</p>\n",
              "</div>\n",
              "      <button class=\"colab-df-convert\" onclick=\"convertToInteractive('df-e2327d7f-9267-4d79-adbe-c0d4d3d6b551')\"\n",
              "              title=\"Convert this dataframe to an interactive table.\"\n",
              "              style=\"display:none;\">\n",
              "        \n",
              "  <svg xmlns=\"http://www.w3.org/2000/svg\" height=\"24px\"viewBox=\"0 0 24 24\"\n",
              "       width=\"24px\">\n",
              "    <path d=\"M0 0h24v24H0V0z\" fill=\"none\"/>\n",
              "    <path d=\"M18.56 5.44l.94 2.06.94-2.06 2.06-.94-2.06-.94-.94-2.06-.94 2.06-2.06.94zm-11 1L8.5 8.5l.94-2.06 2.06-.94-2.06-.94L8.5 2.5l-.94 2.06-2.06.94zm10 10l.94 2.06.94-2.06 2.06-.94-2.06-.94-.94-2.06-.94 2.06-2.06.94z\"/><path d=\"M17.41 7.96l-1.37-1.37c-.4-.4-.92-.59-1.43-.59-.52 0-1.04.2-1.43.59L10.3 9.45l-7.72 7.72c-.78.78-.78 2.05 0 2.83L4 21.41c.39.39.9.59 1.41.59.51 0 1.02-.2 1.41-.59l7.78-7.78 2.81-2.81c.8-.78.8-2.07 0-2.86zM5.41 20L4 18.59l7.72-7.72 1.47 1.35L5.41 20z\"/>\n",
              "  </svg>\n",
              "      </button>\n",
              "      \n",
              "  <style>\n",
              "    .colab-df-container {\n",
              "      display:flex;\n",
              "      flex-wrap:wrap;\n",
              "      gap: 12px;\n",
              "    }\n",
              "\n",
              "    .colab-df-convert {\n",
              "      background-color: #E8F0FE;\n",
              "      border: none;\n",
              "      border-radius: 50%;\n",
              "      cursor: pointer;\n",
              "      display: none;\n",
              "      fill: #1967D2;\n",
              "      height: 32px;\n",
              "      padding: 0 0 0 0;\n",
              "      width: 32px;\n",
              "    }\n",
              "\n",
              "    .colab-df-convert:hover {\n",
              "      background-color: #E2EBFA;\n",
              "      box-shadow: 0px 1px 2px rgba(60, 64, 67, 0.3), 0px 1px 3px 1px rgba(60, 64, 67, 0.15);\n",
              "      fill: #174EA6;\n",
              "    }\n",
              "\n",
              "    [theme=dark] .colab-df-convert {\n",
              "      background-color: #3B4455;\n",
              "      fill: #D2E3FC;\n",
              "    }\n",
              "\n",
              "    [theme=dark] .colab-df-convert:hover {\n",
              "      background-color: #434B5C;\n",
              "      box-shadow: 0px 1px 3px 1px rgba(0, 0, 0, 0.15);\n",
              "      filter: drop-shadow(0px 1px 2px rgba(0, 0, 0, 0.3));\n",
              "      fill: #FFFFFF;\n",
              "    }\n",
              "  </style>\n",
              "\n",
              "      <script>\n",
              "        const buttonEl =\n",
              "          document.querySelector('#df-e2327d7f-9267-4d79-adbe-c0d4d3d6b551 button.colab-df-convert');\n",
              "        buttonEl.style.display =\n",
              "          google.colab.kernel.accessAllowed ? 'block' : 'none';\n",
              "\n",
              "        async function convertToInteractive(key) {\n",
              "          const element = document.querySelector('#df-e2327d7f-9267-4d79-adbe-c0d4d3d6b551');\n",
              "          const dataTable =\n",
              "            await google.colab.kernel.invokeFunction('convertToInteractive',\n",
              "                                                     [key], {});\n",
              "          if (!dataTable) return;\n",
              "\n",
              "          const docLinkHtml = 'Like what you see? Visit the ' +\n",
              "            '<a target=\"_blank\" href=https://colab.research.google.com/notebooks/data_table.ipynb>data table notebook</a>'\n",
              "            + ' to learn more about interactive tables.';\n",
              "          element.innerHTML = '';\n",
              "          dataTable['output_type'] = 'display_data';\n",
              "          await google.colab.output.renderOutput(dataTable, element);\n",
              "          const docLink = document.createElement('div');\n",
              "          docLink.innerHTML = docLinkHtml;\n",
              "          element.appendChild(docLink);\n",
              "        }\n",
              "      </script>\n",
              "    </div>\n",
              "  </div>\n",
              "  "
            ]
          },
          "metadata": {},
          "execution_count": 19
        }
      ]
    }
  ]
}